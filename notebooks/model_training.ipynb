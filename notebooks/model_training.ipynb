{
 "cells": [
  {
   "cell_type": "markdown",
   "id": "af5ae2d3",
   "metadata": {},
   "source": [
    "## Loading necessary libraries"
   ]
  },
  {
   "cell_type": "code",
   "execution_count": 1,
   "id": "e3c0df4e",
   "metadata": {},
   "outputs": [],
   "source": [
    "# Data handling\n",
    "import pandas as pd\n",
    "import numpy as np\n",
    "\n",
    "# Visualization\n",
    "import matplotlib.pyplot as plt\n",
    "import seaborn as sns\n",
    "\n",
    "# Preprocessing\n",
    "from sklearn.model_selection import train_test_split\n",
    "from sklearn.preprocessing import StandardScaler, LabelEncoder\n",
    "\n",
    "# Modeling\n",
    "from sklearn.ensemble import RandomForestClassifier\n",
    "from catboost import CatBoostClassifier\n",
    "from sklearn.pipeline import Pipeline\n",
    "from sklearn.preprocessing import StandardScaler\n",
    "\n",
    "\n",
    "# Evaluation\n",
    "from sklearn.metrics import classification_report, confusion_matrix, roc_auc_score\n",
    "\n",
    "# Warnings\n",
    "import warnings\n",
    "warnings.filterwarnings(\"ignore\")\n"
   ]
  },
  {
   "cell_type": "code",
   "execution_count": 29,
   "id": "5d230c48",
   "metadata": {},
   "outputs": [],
   "source": [
    "def plot_confusion_matrix(y_test, y_pred, target_column):\n",
    "    # Compute confusion matrix\n",
    "    cm = confusion_matrix(y_test, y_pred)\n",
    "    \n",
    "    # Display class labels if you know them\n",
    "    labels = df[target_column].astype('category').cat.categories.tolist()\n",
    "    \n",
    "    plt.figure(figsize=(10, 8))\n",
    "    sns.heatmap(cm, annot=True, fmt='d', cmap='Blues', xticklabels=labels, yticklabels=labels)\n",
    "    plt.title(\"Confusion Matrix\")\n",
    "    plt.xlabel(\"Predicted\")\n",
    "    plt.ylabel(\"Actual\")\n",
    "    plt.show()\n",
    "\n",
    "def plot_feature_importances(model, feature_names):\n",
    "    # Get feature importances\n",
    "    importances = model.feature_importances_\n",
    "    \n",
    "    # Plot feature importances\n",
    "    plt.figure(figsize=(10, 6))\n",
    "    sns.barplot(x=importances, y=feature_names, palette=\"viridis\")\n",
    "    plt.title(\"XGBoost Feature Importances\")\n",
    "    plt.xlabel(\"Importance Score\")\n",
    "    plt.ylabel(\"Features\")\n",
    "    plt.tight_layout()\n",
    "    plt.show()\n",
    "\n",
    "def calculate_f1_score(y_true, y_pred):\n",
    "    from sklearn.metrics import f1_score\n",
    "    # Macro F1 Score: treats all classes equally\n",
    "    f1_macro = f1_score(y_test, y_pred, average='macro')\n",
    "\n",
    "    # Micro F1 Score: globally by counting total true positives/negatives\n",
    "    f1_micro = f1_score(y_test, y_pred, average='micro')\n",
    "\n",
    "    # Weighted F1 Score: accounts for support (number of true instances per class)\n",
    "    f1_weighted = f1_score(y_test, y_pred, average='weighted')\n",
    "\n",
    "    print(f\"F1 Score (Macro): {f1_macro:.4f}\")\n",
    "    print(f\"F1 Score (Micro): {f1_micro:.4f}\")\n",
    "    print(f\"F1 Score (Weighted): {f1_weighted:.4f}\")\n",
    "\n",
    "\n",
    "def f1_per_class(y_test, y_pred, class_labels = None):\n",
    "    # Compute F1 score per class\n",
    "    class_f1_scores = f1_score(y_test, y_pred, average=None)\n",
    "\n",
    "    # Set default class labels if not provided\n",
    "    if class_labels is None:\n",
    "        class_labels = sorted(set(y_test))\n",
    "\n",
    "    # Plot\n",
    "    plt.figure(figsize=(8, 5))\n",
    "    sns.barplot(x=class_labels, y=class_f1_scores, palette='rocket')\n",
    "    plt.title(\"F1 Score per Class\")\n",
    "    plt.xlabel(\"Class\")\n",
    "    plt.ylabel(\"F1 Score\")\n",
    "    plt.ylim(0, 1)\n",
    "    plt.tight_layout()\n",
    "    plt.show()"
   ]
  },
  {
   "cell_type": "code",
   "execution_count": 3,
   "id": "289f9f83",
   "metadata": {},
   "outputs": [
    {
     "data": {
      "text/plain": [
       "['high_activity',\n",
       " 'packets_ratio',\n",
       " 'source_port',\n",
       " 'low_activity',\n",
       " 'bytes_ratio',\n",
       " 'destination_port',\n",
       " 'nat_destination_port',\n",
       " 'elapsed_time_(sec)',\n",
       " 'nat_source_port',\n",
       " 'burst_transfer',\n",
       " 'bytes_per_sec']"
      ]
     },
     "execution_count": 3,
     "metadata": {},
     "output_type": "execute_result"
    }
   ],
   "source": [
    "# Load selected feature columns\n",
    "selected_cols_df = pd.read_csv(\"./data/feature_columns.csv\")\n",
    "selected_columns = selected_cols_df[\"selected_columns\"].tolist()\n",
    "selected_columns"
   ]
  },
  {
   "cell_type": "code",
   "execution_count": 4,
   "id": "8855b2bb",
   "metadata": {},
   "outputs": [
    {
     "data": {
      "text/plain": [
       "(57170, 12)"
      ]
     },
     "execution_count": 4,
     "metadata": {},
     "output_type": "execute_result"
    }
   ],
   "source": [
    "# Load your dataset\n",
    "df = pd.read_csv(\"./data/final_data.csv\")  # Replace with actual file path\n",
    "df.shape"
   ]
  },
  {
   "cell_type": "code",
   "execution_count": 5,
   "id": "f214e062",
   "metadata": {},
   "outputs": [
    {
     "data": {
      "text/html": [
       "<div>\n",
       "<style scoped>\n",
       "    .dataframe tbody tr th:only-of-type {\n",
       "        vertical-align: middle;\n",
       "    }\n",
       "\n",
       "    .dataframe tbody tr th {\n",
       "        vertical-align: top;\n",
       "    }\n",
       "\n",
       "    .dataframe thead th {\n",
       "        text-align: right;\n",
       "    }\n",
       "</style>\n",
       "<table border=\"1\" class=\"dataframe\">\n",
       "  <thead>\n",
       "    <tr style=\"text-align: right;\">\n",
       "      <th></th>\n",
       "      <th>high_activity</th>\n",
       "      <th>packets_ratio</th>\n",
       "      <th>source_port</th>\n",
       "      <th>low_activity</th>\n",
       "      <th>bytes_ratio</th>\n",
       "      <th>destination_port</th>\n",
       "      <th>nat_destination_port</th>\n",
       "      <th>elapsed_time_(sec)</th>\n",
       "      <th>nat_source_port</th>\n",
       "      <th>burst_transfer</th>\n",
       "      <th>bytes_per_sec</th>\n",
       "      <th>action</th>\n",
       "    </tr>\n",
       "  </thead>\n",
       "  <tbody>\n",
       "    <tr>\n",
       "      <th>0</th>\n",
       "      <td>0</td>\n",
       "      <td>0.500000</td>\n",
       "      <td>57222</td>\n",
       "      <td>0</td>\n",
       "      <td>1.119048</td>\n",
       "      <td>53</td>\n",
       "      <td>53</td>\n",
       "      <td>30</td>\n",
       "      <td>54587</td>\n",
       "      <td>0</td>\n",
       "      <td>5.900000</td>\n",
       "      <td>allow</td>\n",
       "    </tr>\n",
       "    <tr>\n",
       "      <th>1</th>\n",
       "      <td>0</td>\n",
       "      <td>1.000000</td>\n",
       "      <td>56258</td>\n",
       "      <td>0</td>\n",
       "      <td>0.504891</td>\n",
       "      <td>3389</td>\n",
       "      <td>3389</td>\n",
       "      <td>17</td>\n",
       "      <td>56258</td>\n",
       "      <td>0</td>\n",
       "      <td>280.470572</td>\n",
       "      <td>allow</td>\n",
       "    </tr>\n",
       "    <tr>\n",
       "      <th>2</th>\n",
       "      <td>0</td>\n",
       "      <td>0.500000</td>\n",
       "      <td>6881</td>\n",
       "      <td>0</td>\n",
       "      <td>0.975207</td>\n",
       "      <td>50321</td>\n",
       "      <td>50321</td>\n",
       "      <td>1199</td>\n",
       "      <td>43265</td>\n",
       "      <td>0</td>\n",
       "      <td>0.198499</td>\n",
       "      <td>allow</td>\n",
       "    </tr>\n",
       "    <tr>\n",
       "      <th>3</th>\n",
       "      <td>0</td>\n",
       "      <td>1.000000</td>\n",
       "      <td>50553</td>\n",
       "      <td>0</td>\n",
       "      <td>0.760847</td>\n",
       "      <td>3389</td>\n",
       "      <td>3389</td>\n",
       "      <td>17</td>\n",
       "      <td>50553</td>\n",
       "      <td>0</td>\n",
       "      <td>195.705871</td>\n",
       "      <td>allow</td>\n",
       "    </tr>\n",
       "    <tr>\n",
       "      <th>4</th>\n",
       "      <td>0</td>\n",
       "      <td>0.684211</td>\n",
       "      <td>50002</td>\n",
       "      <td>0</td>\n",
       "      <td>0.364781</td>\n",
       "      <td>443</td>\n",
       "      <td>443</td>\n",
       "      <td>16</td>\n",
       "      <td>45848</td>\n",
       "      <td>0</td>\n",
       "      <td>1584.874901</td>\n",
       "      <td>allow</td>\n",
       "    </tr>\n",
       "  </tbody>\n",
       "</table>\n",
       "</div>"
      ],
      "text/plain": [
       "   high_activity  packets_ratio  source_port  low_activity  bytes_ratio  \\\n",
       "0              0       0.500000        57222             0     1.119048   \n",
       "1              0       1.000000        56258             0     0.504891   \n",
       "2              0       0.500000         6881             0     0.975207   \n",
       "3              0       1.000000        50553             0     0.760847   \n",
       "4              0       0.684211        50002             0     0.364781   \n",
       "\n",
       "   destination_port  nat_destination_port  elapsed_time_(sec)  \\\n",
       "0                53                    53                  30   \n",
       "1              3389                  3389                  17   \n",
       "2             50321                 50321                1199   \n",
       "3              3389                  3389                  17   \n",
       "4               443                   443                  16   \n",
       "\n",
       "   nat_source_port  burst_transfer  bytes_per_sec action  \n",
       "0            54587               0       5.900000  allow  \n",
       "1            56258               0     280.470572  allow  \n",
       "2            43265               0       0.198499  allow  \n",
       "3            50553               0     195.705871  allow  \n",
       "4            45848               0    1584.874901  allow  "
      ]
     },
     "execution_count": 5,
     "metadata": {},
     "output_type": "execute_result"
    }
   ],
   "source": [
    "df.head()"
   ]
  },
  {
   "cell_type": "code",
   "execution_count": 6,
   "id": "15670df1",
   "metadata": {},
   "outputs": [],
   "source": [
    "feature_columns = selected_columns\n",
    "target_column = 'action'"
   ]
  },
  {
   "cell_type": "code",
   "execution_count": 7,
   "id": "ff6ef55a",
   "metadata": {},
   "outputs": [
    {
     "name": "stdout",
     "output_type": "stream",
     "text": [
      "(57170, 12)\n",
      "(57170, 12)\n"
     ]
    }
   ],
   "source": [
    "print(df.shape)\n",
    "\n",
    "print(df[selected_columns + [target_column]].dropna().shape)\n"
   ]
  },
  {
   "cell_type": "code",
   "execution_count": null,
   "id": "024856b2",
   "metadata": {},
   "outputs": [],
   "source": [
    "# Encode target\n",
    "df[target_column] = df[target_column].astype('category').cat.codes"
   ]
  },
  {
   "cell_type": "code",
   "execution_count": 9,
   "id": "d1d8374b",
   "metadata": {},
   "outputs": [],
   "source": [
    "df.rename(columns={'action' : \"target\"}, inplace=True)"
   ]
  },
  {
   "cell_type": "code",
   "execution_count": 10,
   "id": "1c1a84e1",
   "metadata": {},
   "outputs": [
    {
     "data": {
      "text/html": [
       "<div>\n",
       "<style scoped>\n",
       "    .dataframe tbody tr th:only-of-type {\n",
       "        vertical-align: middle;\n",
       "    }\n",
       "\n",
       "    .dataframe tbody tr th {\n",
       "        vertical-align: top;\n",
       "    }\n",
       "\n",
       "    .dataframe thead th {\n",
       "        text-align: right;\n",
       "    }\n",
       "</style>\n",
       "<table border=\"1\" class=\"dataframe\">\n",
       "  <thead>\n",
       "    <tr style=\"text-align: right;\">\n",
       "      <th></th>\n",
       "      <th>high_activity</th>\n",
       "      <th>packets_ratio</th>\n",
       "      <th>source_port</th>\n",
       "      <th>low_activity</th>\n",
       "      <th>bytes_ratio</th>\n",
       "      <th>destination_port</th>\n",
       "      <th>nat_destination_port</th>\n",
       "      <th>elapsed_time_(sec)</th>\n",
       "      <th>nat_source_port</th>\n",
       "      <th>burst_transfer</th>\n",
       "      <th>bytes_per_sec</th>\n",
       "      <th>target</th>\n",
       "    </tr>\n",
       "  </thead>\n",
       "  <tbody>\n",
       "    <tr>\n",
       "      <th>0</th>\n",
       "      <td>0</td>\n",
       "      <td>0.500000</td>\n",
       "      <td>57222</td>\n",
       "      <td>0</td>\n",
       "      <td>1.119048</td>\n",
       "      <td>53</td>\n",
       "      <td>53</td>\n",
       "      <td>30</td>\n",
       "      <td>54587</td>\n",
       "      <td>0</td>\n",
       "      <td>5.900000</td>\n",
       "      <td>0</td>\n",
       "    </tr>\n",
       "    <tr>\n",
       "      <th>1</th>\n",
       "      <td>0</td>\n",
       "      <td>1.000000</td>\n",
       "      <td>56258</td>\n",
       "      <td>0</td>\n",
       "      <td>0.504891</td>\n",
       "      <td>3389</td>\n",
       "      <td>3389</td>\n",
       "      <td>17</td>\n",
       "      <td>56258</td>\n",
       "      <td>0</td>\n",
       "      <td>280.470572</td>\n",
       "      <td>0</td>\n",
       "    </tr>\n",
       "    <tr>\n",
       "      <th>2</th>\n",
       "      <td>0</td>\n",
       "      <td>0.500000</td>\n",
       "      <td>6881</td>\n",
       "      <td>0</td>\n",
       "      <td>0.975207</td>\n",
       "      <td>50321</td>\n",
       "      <td>50321</td>\n",
       "      <td>1199</td>\n",
       "      <td>43265</td>\n",
       "      <td>0</td>\n",
       "      <td>0.198499</td>\n",
       "      <td>0</td>\n",
       "    </tr>\n",
       "    <tr>\n",
       "      <th>3</th>\n",
       "      <td>0</td>\n",
       "      <td>1.000000</td>\n",
       "      <td>50553</td>\n",
       "      <td>0</td>\n",
       "      <td>0.760847</td>\n",
       "      <td>3389</td>\n",
       "      <td>3389</td>\n",
       "      <td>17</td>\n",
       "      <td>50553</td>\n",
       "      <td>0</td>\n",
       "      <td>195.705871</td>\n",
       "      <td>0</td>\n",
       "    </tr>\n",
       "    <tr>\n",
       "      <th>4</th>\n",
       "      <td>0</td>\n",
       "      <td>0.684211</td>\n",
       "      <td>50002</td>\n",
       "      <td>0</td>\n",
       "      <td>0.364781</td>\n",
       "      <td>443</td>\n",
       "      <td>443</td>\n",
       "      <td>16</td>\n",
       "      <td>45848</td>\n",
       "      <td>0</td>\n",
       "      <td>1584.874901</td>\n",
       "      <td>0</td>\n",
       "    </tr>\n",
       "  </tbody>\n",
       "</table>\n",
       "</div>"
      ],
      "text/plain": [
       "   high_activity  packets_ratio  source_port  low_activity  bytes_ratio  \\\n",
       "0              0       0.500000        57222             0     1.119048   \n",
       "1              0       1.000000        56258             0     0.504891   \n",
       "2              0       0.500000         6881             0     0.975207   \n",
       "3              0       1.000000        50553             0     0.760847   \n",
       "4              0       0.684211        50002             0     0.364781   \n",
       "\n",
       "   destination_port  nat_destination_port  elapsed_time_(sec)  \\\n",
       "0                53                    53                  30   \n",
       "1              3389                  3389                  17   \n",
       "2             50321                 50321                1199   \n",
       "3              3389                  3389                  17   \n",
       "4               443                   443                  16   \n",
       "\n",
       "   nat_source_port  burst_transfer  bytes_per_sec  target  \n",
       "0            54587               0       5.900000       0  \n",
       "1            56258               0     280.470572       0  \n",
       "2            43265               0       0.198499       0  \n",
       "3            50553               0     195.705871       0  \n",
       "4            45848               0    1584.874901       0  "
      ]
     },
     "execution_count": 10,
     "metadata": {},
     "output_type": "execute_result"
    }
   ],
   "source": [
    "df.head()"
   ]
  },
  {
   "cell_type": "code",
   "execution_count": 11,
   "id": "159de592",
   "metadata": {},
   "outputs": [
    {
     "data": {
      "text/plain": [
       "target\n",
       "0    37439\n",
       "2    11635\n",
       "1     8042\n",
       "3       54\n",
       "Name: count, dtype: int64"
      ]
     },
     "execution_count": 11,
     "metadata": {},
     "output_type": "execute_result"
    }
   ],
   "source": [
    "df.target.value_counts()"
   ]
  },
  {
   "cell_type": "code",
   "execution_count": 12,
   "id": "6ec369ee",
   "metadata": {},
   "outputs": [],
   "source": [
    "target_column = 'target'"
   ]
  },
  {
   "cell_type": "code",
   "execution_count": null,
   "id": "4323c540",
   "metadata": {},
   "outputs": [],
   "source": []
  },
  {
   "cell_type": "markdown",
   "id": "58b66a31",
   "metadata": {},
   "source": [
    "## Splitting the dataset"
   ]
  },
  {
   "cell_type": "markdown",
   "id": "4b20bf70",
   "metadata": {},
   "source": [
    "## **using use stratified sampling**"
   ]
  },
  {
   "cell_type": "code",
   "execution_count": 13,
   "id": "b86f80ce",
   "metadata": {},
   "outputs": [
    {
     "name": "stdout",
     "output_type": "stream",
     "text": [
      "X shape: (57170, 11), y shape: (57170,)\n"
     ]
    }
   ],
   "source": [
    "# split X and y\n",
    "X = df[feature_columns]\n",
    "y = df[target_column]\n",
    "\n",
    "print(f\"X shape: {X.shape}, y shape: {y.shape}\")"
   ]
  },
  {
   "cell_type": "code",
   "execution_count": 14,
   "id": "bbc03533",
   "metadata": {},
   "outputs": [
    {
     "name": "stdout",
     "output_type": "stream",
     "text": [
      "X_train shape: (45736, 11), y_train shape: (45736,)\n",
      "X_test shape: (11434, 11), y_test shape: (11434,)\n"
     ]
    }
   ],
   "source": [
    "## splitting the dataset into training and testing sets\n",
    "\n",
    "X_train, X_test, y_train, y_test = train_test_split(\n",
    "    X, y, test_size=0.2, random_state=42, stratify=y\n",
    ")\n",
    "\n",
    "print(f\"X_train shape: {X_train.shape}, y_train shape: {y_train.shape}\")\n",
    "print(f\"X_test shape: {X_test.shape}, y_test shape: {y_test.shape}\")"
   ]
  },
  {
   "cell_type": "code",
   "execution_count": 15,
   "id": "4d01d35c",
   "metadata": {},
   "outputs": [
    {
     "data": {
      "text/plain": [
       "target\n",
       "0    29951\n",
       "2     9308\n",
       "1     6434\n",
       "3       43\n",
       "Name: count, dtype: int64"
      ]
     },
     "execution_count": 15,
     "metadata": {},
     "output_type": "execute_result"
    }
   ],
   "source": [
    "y_train.value_counts()"
   ]
  },
  {
   "cell_type": "code",
   "execution_count": 16,
   "id": "8ddd1243",
   "metadata": {},
   "outputs": [
    {
     "data": {
      "text/plain": [
       "target\n",
       "0    7488\n",
       "2    2327\n",
       "1    1608\n",
       "3      11\n",
       "Name: count, dtype: int64"
      ]
     },
     "execution_count": 16,
     "metadata": {},
     "output_type": "execute_result"
    }
   ],
   "source": [
    "y_test.value_counts()"
   ]
  },
  {
   "cell_type": "markdown",
   "id": "b95f71e1",
   "metadata": {},
   "source": [
    "### Model development"
   ]
  },
  {
   "cell_type": "code",
   "execution_count": 17,
   "id": "279419ad",
   "metadata": {},
   "outputs": [],
   "source": [
    "import pandas as pd\n",
    "import numpy as np\n",
    "import matplotlib.pyplot as plt\n",
    "\n",
    "from xgboost import XGBClassifier\n",
    "from sklearn.pipeline import Pipeline\n",
    "from sklearn.preprocessing import StandardScaler\n",
    "from sklearn.model_selection import train_test_split\n",
    "from sklearn.metrics import classification_report, f1_score\n"
   ]
  },
  {
   "cell_type": "code",
   "execution_count": 18,
   "id": "ced9b46e",
   "metadata": {},
   "outputs": [
    {
     "data": {
      "text/plain": [
       "4"
      ]
     },
     "execution_count": 18,
     "metadata": {},
     "output_type": "execute_result"
    }
   ],
   "source": [
    "# Number of unique classes\n",
    "num_classes = len(np.unique(y))\n",
    "num_classes"
   ]
  },
  {
   "cell_type": "code",
   "execution_count": 19,
   "id": "a0fbcc11",
   "metadata": {},
   "outputs": [],
   "source": [
    "## Create a pipeline with XGBClassifier\n",
    "pipeline = Pipeline([\n",
    "    # ('scaler', StandardScaler()),\n",
    "    ('xgb', XGBClassifier(\n",
    "        objective='multi:softprob',\n",
    "        num_class=num_classes,\n",
    "        eval_metric='mlogloss',\n",
    "        use_label_encoder=False,\n",
    "        random_state=42,\n",
    "        n_estimators=200,\n",
    "        max_depth=5,\n",
    "        learning_rate=0.1\n",
    "    ))\n",
    "])\n",
    "\n",
    "\n"
   ]
  },
  {
   "cell_type": "code",
   "execution_count": 20,
   "id": "e318c0b1",
   "metadata": {},
   "outputs": [
    {
     "data": {
      "text/html": [
       "<style>#sk-container-id-1 {color: black;}#sk-container-id-1 pre{padding: 0;}#sk-container-id-1 div.sk-toggleable {background-color: white;}#sk-container-id-1 label.sk-toggleable__label {cursor: pointer;display: block;width: 100%;margin-bottom: 0;padding: 0.3em;box-sizing: border-box;text-align: center;}#sk-container-id-1 label.sk-toggleable__label-arrow:before {content: \"▸\";float: left;margin-right: 0.25em;color: #696969;}#sk-container-id-1 label.sk-toggleable__label-arrow:hover:before {color: black;}#sk-container-id-1 div.sk-estimator:hover label.sk-toggleable__label-arrow:before {color: black;}#sk-container-id-1 div.sk-toggleable__content {max-height: 0;max-width: 0;overflow: hidden;text-align: left;background-color: #f0f8ff;}#sk-container-id-1 div.sk-toggleable__content pre {margin: 0.2em;color: black;border-radius: 0.25em;background-color: #f0f8ff;}#sk-container-id-1 input.sk-toggleable__control:checked~div.sk-toggleable__content {max-height: 200px;max-width: 100%;overflow: auto;}#sk-container-id-1 input.sk-toggleable__control:checked~label.sk-toggleable__label-arrow:before {content: \"▾\";}#sk-container-id-1 div.sk-estimator input.sk-toggleable__control:checked~label.sk-toggleable__label {background-color: #d4ebff;}#sk-container-id-1 div.sk-label input.sk-toggleable__control:checked~label.sk-toggleable__label {background-color: #d4ebff;}#sk-container-id-1 input.sk-hidden--visually {border: 0;clip: rect(1px 1px 1px 1px);clip: rect(1px, 1px, 1px, 1px);height: 1px;margin: -1px;overflow: hidden;padding: 0;position: absolute;width: 1px;}#sk-container-id-1 div.sk-estimator {font-family: monospace;background-color: #f0f8ff;border: 1px dotted black;border-radius: 0.25em;box-sizing: border-box;margin-bottom: 0.5em;}#sk-container-id-1 div.sk-estimator:hover {background-color: #d4ebff;}#sk-container-id-1 div.sk-parallel-item::after {content: \"\";width: 100%;border-bottom: 1px solid gray;flex-grow: 1;}#sk-container-id-1 div.sk-label:hover label.sk-toggleable__label {background-color: #d4ebff;}#sk-container-id-1 div.sk-serial::before {content: \"\";position: absolute;border-left: 1px solid gray;box-sizing: border-box;top: 0;bottom: 0;left: 50%;z-index: 0;}#sk-container-id-1 div.sk-serial {display: flex;flex-direction: column;align-items: center;background-color: white;padding-right: 0.2em;padding-left: 0.2em;position: relative;}#sk-container-id-1 div.sk-item {position: relative;z-index: 1;}#sk-container-id-1 div.sk-parallel {display: flex;align-items: stretch;justify-content: center;background-color: white;position: relative;}#sk-container-id-1 div.sk-item::before, #sk-container-id-1 div.sk-parallel-item::before {content: \"\";position: absolute;border-left: 1px solid gray;box-sizing: border-box;top: 0;bottom: 0;left: 50%;z-index: -1;}#sk-container-id-1 div.sk-parallel-item {display: flex;flex-direction: column;z-index: 1;position: relative;background-color: white;}#sk-container-id-1 div.sk-parallel-item:first-child::after {align-self: flex-end;width: 50%;}#sk-container-id-1 div.sk-parallel-item:last-child::after {align-self: flex-start;width: 50%;}#sk-container-id-1 div.sk-parallel-item:only-child::after {width: 0;}#sk-container-id-1 div.sk-dashed-wrapped {border: 1px dashed gray;margin: 0 0.4em 0.5em 0.4em;box-sizing: border-box;padding-bottom: 0.4em;background-color: white;}#sk-container-id-1 div.sk-label label {font-family: monospace;font-weight: bold;display: inline-block;line-height: 1.2em;}#sk-container-id-1 div.sk-label-container {text-align: center;}#sk-container-id-1 div.sk-container {/* jupyter's `normalize.less` sets `[hidden] { display: none; }` but bootstrap.min.css set `[hidden] { display: none !important; }` so we also need the `!important` here to be able to override the default hidden behavior on the sphinx rendered scikit-learn.org. See: https://github.com/scikit-learn/scikit-learn/issues/21755 */display: inline-block !important;position: relative;}#sk-container-id-1 div.sk-text-repr-fallback {display: none;}</style><div id=\"sk-container-id-1\" class=\"sk-top-container\"><div class=\"sk-text-repr-fallback\"><pre>Pipeline(steps=[(&#x27;xgb&#x27;,\n",
       "                 XGBClassifier(base_score=None, booster=None, callbacks=None,\n",
       "                               colsample_bylevel=None, colsample_bynode=None,\n",
       "                               colsample_bytree=None, device=None,\n",
       "                               early_stopping_rounds=None,\n",
       "                               enable_categorical=False, eval_metric=&#x27;mlogloss&#x27;,\n",
       "                               feature_types=None, feature_weights=None,\n",
       "                               gamma=None, grow_policy=None,\n",
       "                               importance_type=None,\n",
       "                               interaction_constraints=None, learning_rate=0.1,\n",
       "                               max_bin=None, max_cat_threshold=None,\n",
       "                               max_cat_to_onehot=None, max_delta_step=None,\n",
       "                               max_depth=5, max_leaves=None,\n",
       "                               min_child_weight=None, missing=nan,\n",
       "                               monotone_constraints=None, multi_strategy=None,\n",
       "                               n_estimators=200, n_jobs=None, num_class=4, ...))])</pre><b>In a Jupyter environment, please rerun this cell to show the HTML representation or trust the notebook. <br />On GitHub, the HTML representation is unable to render, please try loading this page with nbviewer.org.</b></div><div class=\"sk-container\" hidden><div class=\"sk-item sk-dashed-wrapped\"><div class=\"sk-label-container\"><div class=\"sk-label sk-toggleable\"><input class=\"sk-toggleable__control sk-hidden--visually\" id=\"sk-estimator-id-1\" type=\"checkbox\" ><label for=\"sk-estimator-id-1\" class=\"sk-toggleable__label sk-toggleable__label-arrow\">Pipeline</label><div class=\"sk-toggleable__content\"><pre>Pipeline(steps=[(&#x27;xgb&#x27;,\n",
       "                 XGBClassifier(base_score=None, booster=None, callbacks=None,\n",
       "                               colsample_bylevel=None, colsample_bynode=None,\n",
       "                               colsample_bytree=None, device=None,\n",
       "                               early_stopping_rounds=None,\n",
       "                               enable_categorical=False, eval_metric=&#x27;mlogloss&#x27;,\n",
       "                               feature_types=None, feature_weights=None,\n",
       "                               gamma=None, grow_policy=None,\n",
       "                               importance_type=None,\n",
       "                               interaction_constraints=None, learning_rate=0.1,\n",
       "                               max_bin=None, max_cat_threshold=None,\n",
       "                               max_cat_to_onehot=None, max_delta_step=None,\n",
       "                               max_depth=5, max_leaves=None,\n",
       "                               min_child_weight=None, missing=nan,\n",
       "                               monotone_constraints=None, multi_strategy=None,\n",
       "                               n_estimators=200, n_jobs=None, num_class=4, ...))])</pre></div></div></div><div class=\"sk-serial\"><div class=\"sk-item\"><div class=\"sk-estimator sk-toggleable\"><input class=\"sk-toggleable__control sk-hidden--visually\" id=\"sk-estimator-id-2\" type=\"checkbox\" ><label for=\"sk-estimator-id-2\" class=\"sk-toggleable__label sk-toggleable__label-arrow\">XGBClassifier</label><div class=\"sk-toggleable__content\"><pre>XGBClassifier(base_score=None, booster=None, callbacks=None,\n",
       "              colsample_bylevel=None, colsample_bynode=None,\n",
       "              colsample_bytree=None, device=None, early_stopping_rounds=None,\n",
       "              enable_categorical=False, eval_metric=&#x27;mlogloss&#x27;,\n",
       "              feature_types=None, feature_weights=None, gamma=None,\n",
       "              grow_policy=None, importance_type=None,\n",
       "              interaction_constraints=None, learning_rate=0.1, max_bin=None,\n",
       "              max_cat_threshold=None, max_cat_to_onehot=None,\n",
       "              max_delta_step=None, max_depth=5, max_leaves=None,\n",
       "              min_child_weight=None, missing=nan, monotone_constraints=None,\n",
       "              multi_strategy=None, n_estimators=200, n_jobs=None, num_class=4, ...)</pre></div></div></div></div></div></div></div>"
      ],
      "text/plain": [
       "Pipeline(steps=[('xgb',\n",
       "                 XGBClassifier(base_score=None, booster=None, callbacks=None,\n",
       "                               colsample_bylevel=None, colsample_bynode=None,\n",
       "                               colsample_bytree=None, device=None,\n",
       "                               early_stopping_rounds=None,\n",
       "                               enable_categorical=False, eval_metric='mlogloss',\n",
       "                               feature_types=None, feature_weights=None,\n",
       "                               gamma=None, grow_policy=None,\n",
       "                               importance_type=None,\n",
       "                               interaction_constraints=None, learning_rate=0.1,\n",
       "                               max_bin=None, max_cat_threshold=None,\n",
       "                               max_cat_to_onehot=None, max_delta_step=None,\n",
       "                               max_depth=5, max_leaves=None,\n",
       "                               min_child_weight=None, missing=nan,\n",
       "                               monotone_constraints=None, multi_strategy=None,\n",
       "                               n_estimators=200, n_jobs=None, num_class=4, ...))])"
      ]
     },
     "execution_count": 20,
     "metadata": {},
     "output_type": "execute_result"
    }
   ],
   "source": [
    "# Train the model\n",
    "pipeline.fit(X_train, y_train)"
   ]
  },
  {
   "cell_type": "code",
   "execution_count": 23,
   "id": "e59cde48",
   "metadata": {},
   "outputs": [],
   "source": [
    "## Make predictions\n",
    "y_pred = pipeline.predict(X_test)"
   ]
  },
  {
   "cell_type": "code",
   "execution_count": 24,
   "id": "b38a0b9e",
   "metadata": {},
   "outputs": [
    {
     "name": "stdout",
     "output_type": "stream",
     "text": [
      "📊 Multiclass XGBoost Classifier Report:\n",
      "              precision    recall  f1-score   support\n",
      "\n",
      "           0       1.00      1.00      1.00      7488\n",
      "           1       1.00      1.00      1.00      1608\n",
      "           2       1.00      1.00      1.00      2327\n",
      "           3       1.00      0.27      0.43        11\n",
      "\n",
      "    accuracy                           1.00     11434\n",
      "   macro avg       1.00      0.82      0.86     11434\n",
      "weighted avg       1.00      1.00      1.00     11434\n",
      "\n",
      "F1 Score (macro): 0.8555438053422814\n"
     ]
    }
   ],
   "source": [
    "print(\"📊 Multiclass XGBoost Classifier Report:\")\n",
    "print(classification_report(y_test, y_pred))\n",
    "\n",
    "print(\"F1 Score (macro):\", f1_score(y_test, y_pred, average='macro'))\n"
   ]
  },
  {
   "cell_type": "code",
   "execution_count": 25,
   "id": "4feff373",
   "metadata": {},
   "outputs": [],
   "source": [
    "target = 'target'"
   ]
  },
  {
   "cell_type": "code",
   "execution_count": 26,
   "id": "9943f9e8",
   "metadata": {},
   "outputs": [
    {
     "data": {
      "image/png": "[encoded data removed]",
      "text/plain": [
       "<Figure size 1000x800 with 2 Axes>"
      ]
     },
     "metadata": {},
     "output_type": "display_data"
    }
   ],
   "source": [
    "plot_confusion_matrix(y_test, y_pred, target_column)"
   ]
  },
  {
   "cell_type": "code",
   "execution_count": 27,
   "id": "2cd97df4",
   "metadata": {},
   "outputs": [
    {
     "data": {
      "image/png": "[encoded data removed]",
      "text/plain": [
       "<Figure size 1000x600 with 1 Axes>"
      ]
     },
     "metadata": {},
     "output_type": "display_data"
    }
   ],
   "source": [
    "plot_feature_importances(pipeline.named_steps['xgb'], X.columns)"
   ]
  },
  {
   "cell_type": "code",
   "execution_count": 30,
   "id": "4a9346ec",
   "metadata": {},
   "outputs": [
    {
     "data": {
      "image/png": "[encoded data removed]",
      "text/plain": [
       "<Figure size 800x500 with 1 Axes>"
      ]
     },
     "metadata": {},
     "output_type": "display_data"
    }
   ],
   "source": [
    "f1_per_class(y_test, y_pred)"
   ]
  },
  {
   "cell_type": "markdown",
   "id": "1fb350ba",
   "metadata": {},
   "source": [
    "**The base model performs badly in the minority class, which is expected due to the class imbalance. To address this, we can use class weights to give more importance to the minority class during training.**"
   ]
  },
  {
   "cell_type": "markdown",
   "id": "f60ded0f",
   "metadata": {},
   "source": [
    "## using Class Weights in XGBoost "
   ]
  },
  {
   "cell_type": "code",
   "execution_count": 31,
   "id": "869df129",
   "metadata": {},
   "outputs": [
    {
     "name": "stdout",
     "output_type": "stream",
     "text": [
      "X shape: (57170, 11), y shape: (57170,)\n"
     ]
    }
   ],
   "source": [
    "# split X and y\n",
    "X = df[feature_columns]\n",
    "y = df[target_column]\n",
    "\n",
    "print(f\"X shape: {X.shape}, y shape: {y.shape}\")"
   ]
  },
  {
   "cell_type": "code",
   "execution_count": 32,
   "id": "7d0a8992",
   "metadata": {},
   "outputs": [
    {
     "name": "stdout",
     "output_type": "stream",
     "text": [
      "X_train shape: (45736, 11), y_train shape: (45736,)\n",
      "X_test shape: (11434, 11), y_test shape: (11434,)\n"
     ]
    }
   ],
   "source": [
    "## splitting the dataset into training and testing sets\n",
    "\n",
    "X_train, X_test, y_train, y_test = train_test_split(\n",
    "    X, y, test_size=0.2, random_state=42, stratify=y\n",
    ")\n",
    "\n",
    "print(f\"X_train shape: {X_train.shape}, y_train shape: {y_train.shape}\")\n",
    "print(f\"X_test shape: {X_test.shape}, y_test shape: {y_test.shape}\")"
   ]
  },
  {
   "cell_type": "code",
   "execution_count": 33,
   "id": "18f3a7c3",
   "metadata": {},
   "outputs": [
    {
     "name": "stdout",
     "output_type": "stream",
     "text": [
      "Class weights: {0: 0.3817568695536042, 1: 1.777121541809139, 2: 1.2284056725397507, 3: 265.90697674418607}\n"
     ]
    }
   ],
   "source": [
    "from sklearn.utils.class_weight import compute_class_weight\n",
    "import numpy as np\n",
    "\n",
    "# Compute class weights\n",
    "classes = np.unique(y_train)\n",
    "class_weights = compute_class_weight(class_weight='balanced', classes=classes, y=y_train)\n",
    "class_weight_dict = dict(zip(classes, class_weights))\n",
    "print(\"Class weights:\", class_weight_dict)"
   ]
  },
  {
   "cell_type": "code",
   "execution_count": 34,
   "id": "cbc34b6a",
   "metadata": {},
   "outputs": [],
   "source": [
    "import pandas as pd\n",
    "import numpy as np\n",
    "from sklearn.pipeline import Pipeline\n",
    "from sklearn.preprocessing import StandardScaler\n",
    "from sklearn.compose import ColumnTransformer\n",
    "from sklearn.metrics import classification_report, f1_score\n",
    "from sklearn.model_selection import train_test_split\n",
    "from sklearn.utils.class_weight import compute_sample_weight\n",
    "\n",
    "from xgboost import XGBClassifier"
   ]
  },
  {
   "cell_type": "code",
   "execution_count": 35,
   "id": "126920f6",
   "metadata": {},
   "outputs": [
    {
     "data": {
      "text/plain": [
       "array([  0.38175687,   1.77712154,   1.22840567, 265.90697674])"
      ]
     },
     "execution_count": 35,
     "metadata": {},
     "output_type": "execute_result"
    }
   ],
   "source": [
    "class_weights"
   ]
  },
  {
   "cell_type": "code",
   "execution_count": 36,
   "id": "cea73472",
   "metadata": {},
   "outputs": [],
   "source": [
    "# Pipeline\n",
    "numeric_features = feature_columns\n",
    "numeric_transformer = Pipeline(steps=[\n",
    "    (\"scaler\", StandardScaler())\n",
    "])\n",
    "\n",
    "sample_weights = compute_sample_weight(class_weight=\"balanced\", y=y_train)\n",
    "sample_weights = y_train.map(class_weight_dict)\n",
    "\n",
    "pipeline = Pipeline(steps=[\n",
    "    (\"classifier\", XGBClassifier(\n",
    "        objective='multi:softprob',\n",
    "        num_class=len(classes),\n",
    "        eval_metric='mlogloss',\n",
    "        use_label_encoder=False,\n",
    "        random_state=42,\n",
    "        n_estimators=200,\n",
    "        max_depth=5,\n",
    "        learning_rate=0.1\n",
    "    ))\n",
    "])\n",
    "\n",
    "# Fit model with sample weights\n",
    "pipeline.fit(X_train, y_train, classifier__sample_weight=sample_weights)\n",
    "\n",
    "# Predict and evaluate\n",
    "y_pred = pipeline.predict(X_test)\n"
   ]
  },
  {
   "cell_type": "code",
   "execution_count": 37,
   "id": "bca545d3",
   "metadata": {},
   "outputs": [
    {
     "name": "stdout",
     "output_type": "stream",
     "text": [
      "📊 Multiclass XGBoost Classifier Report:\n",
      "              precision    recall  f1-score   support\n",
      "\n",
      "           0       1.00      1.00      1.00      7488\n",
      "           1       1.00      1.00      1.00      1608\n",
      "           2       1.00      1.00      1.00      2327\n",
      "           3       1.00      0.64      0.78        11\n",
      "\n",
      "    accuracy                           1.00     11434\n",
      "   macro avg       1.00      0.91      0.94     11434\n",
      "weighted avg       1.00      1.00      1.00     11434\n",
      "\n",
      "F1 Score (macro): 0.943155176229056\n"
     ]
    }
   ],
   "source": [
    "\n",
    "print(\"📊 Multiclass XGBoost Classifier Report:\")\n",
    "print(classification_report(y_test, y_pred))\n",
    "print(\"F1 Score (macro):\", f1_score(y_test, y_pred, average='macro'))"
   ]
  },
  {
   "cell_type": "code",
   "execution_count": 38,
   "id": "9bfdcd4c",
   "metadata": {},
   "outputs": [
    {
     "data": {
      "image/png": "[encoded data removed]",
      "text/plain": [
       "<Figure size 1000x800 with 2 Axes>"
      ]
     },
     "metadata": {},
     "output_type": "display_data"
    }
   ],
   "source": [
    "plot_confusion_matrix(y_test, y_pred, target_column)"
   ]
  },
  {
   "cell_type": "code",
   "execution_count": 39,
   "id": "22b211bb",
   "metadata": {},
   "outputs": [
    {
     "data": {
      "image/png": "[encoded data removed]",
      "text/plain": [
       "<Figure size 1000x600 with 1 Axes>"
      ]
     },
     "metadata": {},
     "output_type": "display_data"
    }
   ],
   "source": [
    "plot_feature_importances(pipeline.named_steps['classifier'], X.columns)"
   ]
  },
  {
   "cell_type": "code",
   "execution_count": 40,
   "id": "b72e6f8c",
   "metadata": {},
   "outputs": [
    {
     "name": "stdout",
     "output_type": "stream",
     "text": [
      "F1 Score (Macro): 0.9432\n",
      "F1 Score (Micro): 0.9990\n",
      "F1 Score (Weighted): 0.9989\n"
     ]
    }
   ],
   "source": [
    "calculate_f1_score(y_test, y_pred)"
   ]
  },
  {
   "cell_type": "code",
   "execution_count": 41,
   "id": "0df77e23",
   "metadata": {},
   "outputs": [
    {
     "data": {
      "image/png": "[encoded data removed]",
      "text/plain": [
       "<Figure size 800x500 with 1 Axes>"
      ]
     },
     "metadata": {},
     "output_type": "display_data"
    }
   ],
   "source": [
    "f1_per_class(y_test, y_pred)"
   ]
  },
  {
   "cell_type": "code",
   "execution_count": null,
   "id": "d8793f02",
   "metadata": {},
   "outputs": [],
   "source": []
  },
  {
   "cell_type": "markdown",
   "id": "0368aaf9",
   "metadata": {},
   "source": [
    "## SMOTE for class imbalance"
   ]
  },
  {
   "cell_type": "code",
   "execution_count": 42,
   "id": "b1b1a989",
   "metadata": {},
   "outputs": [],
   "source": [
    "from imblearn.pipeline import Pipeline\n",
    "from imblearn.over_sampling import SMOTE\n",
    "from imblearn.combine import SMOTEENN\n",
    "from xgboost import XGBClassifier\n",
    "from sklearn.model_selection import train_test_split\n",
    "from sklearn.metrics import classification_report, confusion_matrix, f1_score\n",
    "import matplotlib.pyplot as plt\n",
    "import seaborn as sns"
   ]
  },
  {
   "cell_type": "code",
   "execution_count": 43,
   "id": "59f3c055",
   "metadata": {},
   "outputs": [],
   "source": [
    "# !pip install --upgrade --force-reinstall scikit-learn imbalanced-learn\n"
   ]
  },
  {
   "cell_type": "code",
   "execution_count": 44,
   "id": "9878f2e6",
   "metadata": {},
   "outputs": [
    {
     "name": "stdout",
     "output_type": "stream",
     "text": [
      "X shape: (57170, 11), y shape: (57170,)\n"
     ]
    }
   ],
   "source": [
    "# split X and y\n",
    "X = df[feature_columns]\n",
    "y = df[target_column]\n",
    "\n",
    "print(f\"X shape: {X.shape}, y shape: {y.shape}\")"
   ]
  },
  {
   "cell_type": "markdown",
   "id": "14148ece",
   "metadata": {},
   "source": [
    "### using SMOTE to handle class imbalance"
   ]
  },
  {
   "cell_type": "code",
   "execution_count": 45,
   "id": "602b8bbe",
   "metadata": {},
   "outputs": [],
   "source": [
    "\n",
    "# Split your data (already stratified)\n",
    "X_train, X_test, y_train, y_test = train_test_split(\n",
    "    X, y, test_size=0.2, stratify=y, random_state=42\n",
    ")\n",
    "\n",
    "# Create pipeline with SMOTE and XGBoost\n",
    "pipeline = Pipeline([\n",
    "    ('smote', SMOTE(random_state=42, sampling_strategy='auto')),\n",
    "    ('xgb', XGBClassifier(\n",
    "        objective='multi:softmax',\n",
    "        num_class=len(y.unique()),\n",
    "        eval_metric='mlogloss',\n",
    "        use_label_encoder=False,\n",
    "        random_state=42\n",
    "    ))\n",
    "])\n"
   ]
  },
  {
   "cell_type": "code",
   "execution_count": null,
   "id": "4b074086",
   "metadata": {},
   "outputs": [],
   "source": [
    "# Train\n",
    "pipeline.fit(X_train, y_train)\n",
    "\n",
    "# Predict\n",
    "y_pred = pipeline.predict(X_test)\n"
   ]
  },
  {
   "cell_type": "code",
   "execution_count": 48,
   "id": "8cc8a3c6",
   "metadata": {},
   "outputs": [
    {
     "name": "stdout",
     "output_type": "stream",
     "text": [
      "📊 Classification Report:\n",
      "\n",
      "              precision    recall  f1-score   support\n",
      "\n",
      "           0       1.00      1.00      1.00      7488\n",
      "           1       1.00      0.97      0.98      1608\n",
      "           2       1.00      1.00      1.00      2327\n",
      "           3       0.13      0.64      0.21        11\n",
      "\n",
      "    accuracy                           0.99     11434\n",
      "   macro avg       0.78      0.90      0.80     11434\n",
      "weighted avg       1.00      0.99      1.00     11434\n",
      "\n",
      "F1 Score (Macro): 0.7980\n"
     ]
    }
   ],
   "source": [
    "\n",
    "# Evaluation\n",
    "print(\"📊 Classification Report:\\n\")\n",
    "print(classification_report(y_test, y_pred))\n",
    "print(f\"F1 Score (Macro): {f1_score(y_test, y_pred, average='macro'):.4f}\")\n"
   ]
  },
  {
   "cell_type": "code",
   "execution_count": 49,
   "id": "233f3876",
   "metadata": {},
   "outputs": [
    {
     "data": {
      "image/png": "[encoded data removed]",
      "text/plain": [
       "<Figure size 600x500 with 2 Axes>"
      ]
     },
     "metadata": {},
     "output_type": "display_data"
    }
   ],
   "source": [
    "cm = confusion_matrix(y_test, y_pred)\n",
    "plt.figure(figsize=(6, 5))\n",
    "sns.heatmap(cm, annot=True, fmt='d', cmap='Blues', xticklabels=y.unique(), yticklabels=y.unique())\n",
    "plt.xlabel(\"Predicted\")\n",
    "plt.ylabel(\"True\")\n",
    "plt.title(\"Confusion Matrix\")\n",
    "plt.show()\n"
   ]
  },
  {
   "cell_type": "code",
   "execution_count": 50,
   "id": "671c5d6f",
   "metadata": {},
   "outputs": [
    {
     "data": {
      "image/png": "[encoded data removed]",
      "text/plain": [
       "<Figure size 1000x600 with 1 Axes>"
      ]
     },
     "metadata": {},
     "output_type": "display_data"
    }
   ],
   "source": [
    "# Get trained XGBoost model from pipeline\n",
    "xgb_model = pipeline.named_steps['xgb']\n",
    "\n",
    "plt.figure(figsize=(10, 6))\n",
    "importance = xgb_model.feature_importances_\n",
    "sns.barplot(x=importance, y=X.columns)\n",
    "plt.title(\"Feature Importance (XGBoost)\")\n",
    "plt.show()\n"
   ]
  },
  {
   "cell_type": "markdown",
   "id": "89758ed5",
   "metadata": {},
   "source": [
    "### Using SOMTEENN for better handling of imbalanced data"
   ]
  },
  {
   "cell_type": "code",
   "execution_count": 51,
   "id": "f8414bd7",
   "metadata": {},
   "outputs": [],
   "source": [
    "from imblearn.combine import SMOTEENN"
   ]
  },
  {
   "cell_type": "code",
   "execution_count": 52,
   "id": "864ed0a0",
   "metadata": {},
   "outputs": [],
   "source": [
    "\n",
    "# Split your data (already stratified)\n",
    "X_train, X_test, y_train, y_test = train_test_split(\n",
    "    X, y, test_size=0.2, stratify=y, random_state=42\n",
    ")\n",
    "\n",
    "# Create pipeline with SMOTE and XGBoost\n",
    "pipeline = Pipeline([\n",
    "    ('smote', SMOTEENN(random_state=42, sampling_strategy='auto')),\n",
    "    ('xgb', XGBClassifier(\n",
    "        objective='multi:softmax',\n",
    "        num_class=len(y.unique()),\n",
    "        eval_metric='mlogloss',\n",
    "        use_label_encoder=False,\n",
    "        random_state=42\n",
    "    ))\n",
    "])\n",
    "\n"
   ]
  },
  {
   "cell_type": "code",
   "execution_count": 53,
   "id": "edc3efab",
   "metadata": {},
   "outputs": [],
   "source": [
    "# Train\n",
    "pipeline.fit(X_train, y_train)\n",
    "\n",
    "# Predict\n",
    "y_pred = pipeline.predict(X_test)\n"
   ]
  },
  {
   "cell_type": "code",
   "execution_count": 54,
   "id": "a09db148",
   "metadata": {},
   "outputs": [
    {
     "name": "stdout",
     "output_type": "stream",
     "text": [
      "📊 Classification Report:\n",
      "\n",
      "              precision    recall  f1-score   support\n",
      "\n",
      "           0       1.00      1.00      1.00      7488\n",
      "           1       1.00      0.97      0.98      1608\n",
      "           2       1.00      1.00      1.00      2327\n",
      "           3       0.12      0.55      0.20        11\n",
      "\n",
      "    accuracy                           0.99     11434\n",
      "   macro avg       0.78      0.88      0.79     11434\n",
      "weighted avg       1.00      0.99      1.00     11434\n",
      "\n",
      "F1 Score (Macro): 0.7941\n"
     ]
    }
   ],
   "source": [
    "\n",
    "# Evaluation\n",
    "print(\"📊 Classification Report:\\n\")\n",
    "print(classification_report(y_test, y_pred))\n",
    "print(f\"F1 Score (Macro): {f1_score(y_test, y_pred, average='macro'):.4f}\")\n"
   ]
  },
  {
   "cell_type": "code",
   "execution_count": 55,
   "id": "d2dbbcb9",
   "metadata": {},
   "outputs": [
    {
     "data": {
      "image/png": "[encoded data removed]",
      "text/plain": [
       "<Figure size 600x500 with 2 Axes>"
      ]
     },
     "metadata": {},
     "output_type": "display_data"
    }
   ],
   "source": [
    "cm = confusion_matrix(y_test, y_pred)\n",
    "plt.figure(figsize=(6, 5))\n",
    "sns.heatmap(cm, annot=True, fmt='d', cmap='Blues', xticklabels=y.unique(), yticklabels=y.unique())\n",
    "plt.xlabel(\"Predicted\")\n",
    "plt.ylabel(\"True\")\n",
    "plt.title(\"Confusion Matrix\")\n",
    "plt.show()\n"
   ]
  },
  {
   "cell_type": "markdown",
   "id": "c2a031be",
   "metadata": {},
   "source": [
    "## using class weights works better than other techniqes"
   ]
  },
  {
   "cell_type": "code",
   "execution_count": null,
   "id": "79b1d85b",
   "metadata": {},
   "outputs": [],
   "source": []
  }
 ],
 "metadata": {
  "kernelspec": {
   "display_name": "interview-assignment",
   "language": "python",
   "name": "python3"
  },
  "language_info": {
   "codemirror_mode": {
    "name": "ipython",
    "version": 3
   },
   "file_extension": ".py",
   "mimetype": "text/x-python",
   "name": "python",
   "nbconvert_exporter": "python",
   "pygments_lexer": "ipython3",
   "version": "3.11.5"
  }
 },
 "nbformat": 4,
 "nbformat_minor": 5
}
