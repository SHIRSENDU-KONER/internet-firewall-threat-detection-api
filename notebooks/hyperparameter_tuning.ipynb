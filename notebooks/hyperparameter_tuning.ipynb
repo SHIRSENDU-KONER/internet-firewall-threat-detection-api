{
 "cells": [
  {
   "cell_type": "code",
   "execution_count": 1,
   "id": "eee70135",
   "metadata": {},
   "outputs": [
    {
     "name": "stderr",
     "output_type": "stream",
     "text": [
      "d:\\code\\interview_assignment\\.venv\\Lib\\site-packages\\tqdm\\auto.py:21: TqdmWarning: IProgress not found. Please update jupyter and ipywidgets. See https://ipywidgets.readthedocs.io/en/stable/user_install.html\n",
      "  from .autonotebook import tqdm as notebook_tqdm\n"
     ]
    }
   ],
   "source": [
    "import pandas as pd\n",
    "import numpy as np\n",
    "import matplotlib.pyplot as plt\n",
    "import seaborn as sns\n",
    "\n",
    "from sklearn.pipeline import Pipeline\n",
    "from sklearn.compose import ColumnTransformer\n",
    "from sklearn.preprocessing import StandardScaler\n",
    "from sklearn.model_selection import train_test_split, RandomizedSearchCV, cross_val_score\n",
    "\n",
    "from xgboost import XGBClassifier\n",
    "import xgboost as xgb\n",
    "from sklearn.utils.class_weight import compute_sample_weight, compute_class_weight\n",
    "\n",
    "import optuna\n",
    "import joblib  # to save best model\n",
    "\n",
    "from tqdm import tqdm\n",
    "tqdm.pandas(desc=\"Progress\")\n",
    "\n",
    "from sklearn.pipeline import Pipeline\n",
    "import mlflow\n",
    "import mlflow.sklearn\n",
    "\n",
    "from sklearn.metrics import (\n",
    "    f1_score, accuracy_score, precision_score,\n",
    "    recall_score, confusion_matrix, classification_report\n",
    ")\n",
    "\n"
   ]
  },
  {
   "cell_type": "code",
   "execution_count": 2,
   "id": "4c745753",
   "metadata": {},
   "outputs": [],
   "source": [
    "def plot_confusion_matrix(y_test, y_pred, target_column):\n",
    "    # Compute confusion matrix\n",
    "    cm = confusion_matrix(y_test, y_pred)\n",
    "    \n",
    "    # Display class labels if you know them\n",
    "    labels = df[target_column].astype('category').cat.categories.tolist()\n",
    "    \n",
    "    plt.figure(figsize=(10, 8))\n",
    "    sns.heatmap(cm, annot=True, fmt='d', cmap='Blues', xticklabels=labels, yticklabels=labels)\n",
    "    plt.title(\"Confusion Matrix\")\n",
    "    plt.xlabel(\"Predicted\")\n",
    "    plt.ylabel(\"Actual\")\n",
    "    plt.show()\n",
    "\n",
    "def plot_feature_importances(model, feature_names):\n",
    "    # Get feature importances\n",
    "    importances = model.feature_importances_\n",
    "    \n",
    "    # Plot feature importances\n",
    "    plt.figure(figsize=(10, 6))\n",
    "    sns.barplot(x=importances, y=feature_names, palette=\"viridis\")\n",
    "    plt.title(\"XGBoost Feature Importances\")\n",
    "    plt.xlabel(\"Importance Score\")\n",
    "    plt.ylabel(\"Features\")\n",
    "    plt.tight_layout()\n",
    "    plt.show()\n",
    "\n",
    "def calculate_f1_score(y_true, y_pred):\n",
    "    from sklearn.metrics import f1_score\n",
    "    # Macro F1 Score: treats all classes equally\n",
    "    f1_macro = f1_score(y_test, y_pred, average='macro')\n",
    "\n",
    "    # Micro F1 Score: globally by counting total true positives/negatives\n",
    "    f1_micro = f1_score(y_test, y_pred, average='micro')\n",
    "\n",
    "    # Weighted F1 Score: accounts for support (number of true instances per class)\n",
    "    f1_weighted = f1_score(y_test, y_pred, average='weighted')\n",
    "\n",
    "    print(f\"F1 Score (Macro): {f1_macro:.4f}\")\n",
    "    print(f\"F1 Score (Micro): {f1_micro:.4f}\")\n",
    "    print(f\"F1 Score (Weighted): {f1_weighted:.4f}\")\n",
    "\n",
    "\n",
    "def f1_per_class(y_test, y_pred, class_labels = None):\n",
    "    # Compute F1 score per class\n",
    "    class_f1_scores = f1_score(y_test, y_pred, average=None)\n",
    "\n",
    "    # Set default class labels if not provided\n",
    "    if class_labels is None:\n",
    "        class_labels = sorted(set(y_test))\n",
    "\n",
    "    # Plot\n",
    "    plt.figure(figsize=(8, 5))\n",
    "    sns.barplot(x=class_labels, y=class_f1_scores, palette='rocket')\n",
    "    plt.title(\"F1 Score per Class\")\n",
    "    plt.xlabel(\"Class\")\n",
    "    plt.ylabel(\"F1 Score\")\n",
    "    plt.ylim(0, 1)\n",
    "    plt.tight_layout()\n",
    "    plt.show()"
   ]
  },
  {
   "cell_type": "code",
   "execution_count": 3,
   "id": "2af9e59f",
   "metadata": {},
   "outputs": [],
   "source": [
    "df = pd.read_csv('./data/final_data.csv')"
   ]
  },
  {
   "cell_type": "code",
   "execution_count": 4,
   "id": "84b875e6",
   "metadata": {},
   "outputs": [
    {
     "data": {
      "text/html": [
       "<div>\n",
       "<style scoped>\n",
       "    .dataframe tbody tr th:only-of-type {\n",
       "        vertical-align: middle;\n",
       "    }\n",
       "\n",
       "    .dataframe tbody tr th {\n",
       "        vertical-align: top;\n",
       "    }\n",
       "\n",
       "    .dataframe thead th {\n",
       "        text-align: right;\n",
       "    }\n",
       "</style>\n",
       "<table border=\"1\" class=\"dataframe\">\n",
       "  <thead>\n",
       "    <tr style=\"text-align: right;\">\n",
       "      <th></th>\n",
       "      <th>high_activity</th>\n",
       "      <th>packets_ratio</th>\n",
       "      <th>source_port</th>\n",
       "      <th>low_activity</th>\n",
       "      <th>bytes_ratio</th>\n",
       "      <th>destination_port</th>\n",
       "      <th>nat_destination_port</th>\n",
       "      <th>elapsed_time_(sec)</th>\n",
       "      <th>nat_source_port</th>\n",
       "      <th>burst_transfer</th>\n",
       "      <th>bytes_per_sec</th>\n",
       "      <th>action</th>\n",
       "    </tr>\n",
       "  </thead>\n",
       "  <tbody>\n",
       "    <tr>\n",
       "      <th>0</th>\n",
       "      <td>0</td>\n",
       "      <td>0.500000</td>\n",
       "      <td>57222</td>\n",
       "      <td>0</td>\n",
       "      <td>1.119048</td>\n",
       "      <td>53</td>\n",
       "      <td>53</td>\n",
       "      <td>30</td>\n",
       "      <td>54587</td>\n",
       "      <td>0</td>\n",
       "      <td>5.900000</td>\n",
       "      <td>allow</td>\n",
       "    </tr>\n",
       "    <tr>\n",
       "      <th>1</th>\n",
       "      <td>0</td>\n",
       "      <td>1.000000</td>\n",
       "      <td>56258</td>\n",
       "      <td>0</td>\n",
       "      <td>0.504891</td>\n",
       "      <td>3389</td>\n",
       "      <td>3389</td>\n",
       "      <td>17</td>\n",
       "      <td>56258</td>\n",
       "      <td>0</td>\n",
       "      <td>280.470572</td>\n",
       "      <td>allow</td>\n",
       "    </tr>\n",
       "    <tr>\n",
       "      <th>2</th>\n",
       "      <td>0</td>\n",
       "      <td>0.500000</td>\n",
       "      <td>6881</td>\n",
       "      <td>0</td>\n",
       "      <td>0.975207</td>\n",
       "      <td>50321</td>\n",
       "      <td>50321</td>\n",
       "      <td>1199</td>\n",
       "      <td>43265</td>\n",
       "      <td>0</td>\n",
       "      <td>0.198499</td>\n",
       "      <td>allow</td>\n",
       "    </tr>\n",
       "    <tr>\n",
       "      <th>3</th>\n",
       "      <td>0</td>\n",
       "      <td>1.000000</td>\n",
       "      <td>50553</td>\n",
       "      <td>0</td>\n",
       "      <td>0.760847</td>\n",
       "      <td>3389</td>\n",
       "      <td>3389</td>\n",
       "      <td>17</td>\n",
       "      <td>50553</td>\n",
       "      <td>0</td>\n",
       "      <td>195.705871</td>\n",
       "      <td>allow</td>\n",
       "    </tr>\n",
       "    <tr>\n",
       "      <th>4</th>\n",
       "      <td>0</td>\n",
       "      <td>0.684211</td>\n",
       "      <td>50002</td>\n",
       "      <td>0</td>\n",
       "      <td>0.364781</td>\n",
       "      <td>443</td>\n",
       "      <td>443</td>\n",
       "      <td>16</td>\n",
       "      <td>45848</td>\n",
       "      <td>0</td>\n",
       "      <td>1584.874901</td>\n",
       "      <td>allow</td>\n",
       "    </tr>\n",
       "  </tbody>\n",
       "</table>\n",
       "</div>"
      ],
      "text/plain": [
       "   high_activity  packets_ratio  source_port  low_activity  bytes_ratio  \\\n",
       "0              0       0.500000        57222             0     1.119048   \n",
       "1              0       1.000000        56258             0     0.504891   \n",
       "2              0       0.500000         6881             0     0.975207   \n",
       "3              0       1.000000        50553             0     0.760847   \n",
       "4              0       0.684211        50002             0     0.364781   \n",
       "\n",
       "   destination_port  nat_destination_port  elapsed_time_(sec)  \\\n",
       "0                53                    53                  30   \n",
       "1              3389                  3389                  17   \n",
       "2             50321                 50321                1199   \n",
       "3              3389                  3389                  17   \n",
       "4               443                   443                  16   \n",
       "\n",
       "   nat_source_port  burst_transfer  bytes_per_sec action  \n",
       "0            54587               0       5.900000  allow  \n",
       "1            56258               0     280.470572  allow  \n",
       "2            43265               0       0.198499  allow  \n",
       "3            50553               0     195.705871  allow  \n",
       "4            45848               0    1584.874901  allow  "
      ]
     },
     "execution_count": 4,
     "metadata": {},
     "output_type": "execute_result"
    }
   ],
   "source": [
    "df.head()"
   ]
  },
  {
   "cell_type": "code",
   "execution_count": 5,
   "id": "2adcc459",
   "metadata": {},
   "outputs": [],
   "source": [
    "df.rename(columns={'action': 'target'}, inplace=True)"
   ]
  },
  {
   "cell_type": "code",
   "execution_count": 6,
   "id": "b7b5592a",
   "metadata": {},
   "outputs": [],
   "source": [
    "# Encode the target variable\n",
    "df['target'] = df['target'].astype('category').cat.codes"
   ]
  },
  {
   "cell_type": "code",
   "execution_count": 7,
   "id": "e17bc1aa",
   "metadata": {},
   "outputs": [
    {
     "name": "stdout",
     "output_type": "stream",
     "text": [
      "Shape of X: (57170, 11), Shape of y: (57170,)\n"
     ]
    }
   ],
   "source": [
    "# separating data in to features and target variable\n",
    "X = df.drop(columns=['target'])\n",
    "y = df['target']\n",
    "\n",
    "print(f\"Shape of X: {X.shape}, Shape of y: {y.shape}\")"
   ]
  },
  {
   "cell_type": "code",
   "execution_count": 8,
   "id": "a452d275",
   "metadata": {},
   "outputs": [
    {
     "name": "stdout",
     "output_type": "stream",
     "text": [
      "Shape of X_train: (34302, 11), Shape of y_train: (34302,)\n",
      "Shape of X_val: (11434, 11), Shape of y_val: (11434,)\n",
      "Shape of X_test: (11434, 11), Shape of y_test: (11434,)\n"
     ]
    }
   ],
   "source": [
    "# splitting data into train and test sets and validating the split\n",
    "\n",
    "# Initial split: 80% train_val, 20% test\n",
    "X_train_val, X_test, y_train_val, y_test = train_test_split(\n",
    "    X, y,\n",
    "    test_size=0.2,\n",
    "    stratify=y,\n",
    "    random_state=42\n",
    ")\n",
    "\n",
    "# Split train_val into 75% train and 25% val → overall: 60% train, 20% val, 20% test\n",
    "X_train, X_val, y_train, y_val = train_test_split(\n",
    "    X_train_val, y_train_val,\n",
    "    test_size=0.25,  # 0.25 * 0.8 = 0.2 of total\n",
    "    stratify=y_train_val,\n",
    "    random_state=42\n",
    ")\n",
    "print(f\"Shape of X_train: {X_train.shape}, Shape of y_train: {y_train.shape}\")\n",
    "print(f\"Shape of X_val: {X_val.shape}, Shape of y_val: {y_val.shape}\")\n",
    "print(f\"Shape of X_test: {X_test.shape}, Shape of y_test: {y_test.shape}\")"
   ]
  },
  {
   "cell_type": "code",
   "execution_count": 9,
   "id": "658fb25d",
   "metadata": {},
   "outputs": [
    {
     "data": {
      "text/plain": [
       "(target\n",
       " 0    22463\n",
       " 2     6981\n",
       " 1     4826\n",
       " 3       32\n",
       " Name: count, dtype: int64,\n",
       " target\n",
       " 0    7488\n",
       " 2    2327\n",
       " 1    1608\n",
       " 3      11\n",
       " Name: count, dtype: int64,\n",
       " target\n",
       " 0    7488\n",
       " 2    2327\n",
       " 1    1608\n",
       " 3      11\n",
       " Name: count, dtype: int64)"
      ]
     },
     "execution_count": 9,
     "metadata": {},
     "output_type": "execute_result"
    }
   ],
   "source": [
    "y_train.value_counts(), y_val.value_counts(), y_test.value_counts()"
   ]
  },
  {
   "cell_type": "code",
   "execution_count": null,
   "id": "50d658c7",
   "metadata": {},
   "outputs": [],
   "source": []
  },
  {
   "cell_type": "code",
   "execution_count": 26,
   "id": "5a05d63e",
   "metadata": {},
   "outputs": [],
   "source": [
    "\n",
    "def objective(trial):\n",
    "    # 📦 Hyperparameters\n",
    "    params = {\n",
    "        \"learning_rate\": trial.suggest_float(\"learning_rate\", 0.01, 0.3),\n",
    "        \"max_depth\": trial.suggest_int(\"max_depth\", 3, 10),\n",
    "        \"n_estimators\": trial.suggest_int(\"n_estimators\", 100, 500),\n",
    "        \"subsample\": trial.suggest_float(\"subsample\", 0.5, 1.0),\n",
    "        \"colsample_bytree\": trial.suggest_float(\"colsample_bytree\", 0.5, 1.0),\n",
    "        \"gamma\": trial.suggest_float(\"gamma\", 0, 5),\n",
    "        \"reg_lambda\": trial.suggest_float(\"reg_lambda\", 0.1, 10),\n",
    "        \"reg_alpha\": trial.suggest_float(\"reg_alpha\", 0.1, 10),\n",
    "        \"objective\": \"multi:softprob\",\n",
    "        \"num_class\": len(np.unique(y_train)),\n",
    "        \"eval_metric\": \"mlogloss\",\n",
    "        \"random_state\": 42,\n",
    "    }\n",
    "    \n",
    "    # Model definition\n",
    "    model = xgb.XGBClassifier(**params) # Direct XGBClassifier, not in Pipeline for easier callback handling\n",
    "\n",
    "    # Compute sample weights dynamically for each trial\n",
    "    sample_weights = compute_sample_weight(class_weight=\"balanced\", y=y_train)\n",
    "    \n",
    "    model.fit(X_train, y_train,\n",
    "              sample_weight=sample_weights,\n",
    "              eval_set=[(X_val, y_val)], # Use X_test, y_test as validation set for early stopping\n",
    "            #   early_stopping_rounds=50,    # Stop if validation metric doesn't improve for 50 rounds\n",
    "              verbose=False                # Suppress verbose output during tuning\n",
    "             )\n",
    "\n",
    "    # Predict\n",
    "    y_pred = model.predict(X_test)\n",
    "    f1_weighted = f1_score(y_test, y_pred, average='macro')\n",
    "\n",
    "    return f1_weighted\n"
   ]
  },
  {
   "cell_type": "code",
   "execution_count": 11,
   "id": "c26200a4",
   "metadata": {},
   "outputs": [
    {
     "name": "stderr",
     "output_type": "stream",
     "text": [
      "[I 2025-07-26 12:23:38,012] A new study created in memory with name: no-name-bf6e694c-1639-4739-909b-91c982f9bdbd\n"
     ]
    },
    {
     "name": "stdout",
     "output_type": "stream",
     "text": [
      "\n",
      "Starting Optuna hyperparameter tuning...\n"
     ]
    },
    {
     "name": "stderr",
     "output_type": "stream",
     "text": [
      "Best trial: 0. Best value: 0.92501:   2%|▏         | 1/50 [00:06<05:37,  6.88s/it]"
     ]
    },
    {
     "name": "stdout",
     "output_type": "stream",
     "text": [
      "[I 2025-07-26 12:23:44,888] Trial 0 finished with value: 0.9250103078931113 and parameters: {'learning_rate': 0.11861663446573512, 'max_depth': 10, 'n_estimators': 393, 'subsample': 0.7993292420985183, 'colsample_bytree': 0.5780093202212182, 'gamma': 0.7799726016810132, 'reg_lambda': 0.6750277604651747, 'reg_alpha': 8.675143843171858}. Best is trial 0 with value: 0.9250103078931113.\n"
     ]
    },
    {
     "name": "stderr",
     "output_type": "stream",
     "text": [
      "Best trial: 1. Best value: 0.932844:   4%|▍         | 2/50 [00:08<03:11,  3.99s/it]"
     ]
    },
    {
     "name": "stdout",
     "output_type": "stream",
     "text": [
      "[I 2025-07-26 12:23:46,852] Trial 1 finished with value: 0.9328437354342375 and parameters: {'learning_rate': 0.18432335340553055, 'max_depth': 8, 'n_estimators': 108, 'subsample': 0.9849549260809971, 'colsample_bytree': 0.9162213204002109, 'gamma': 1.0616955533913808, 'reg_lambda': 1.9000671753502962, 'reg_alpha': 1.915704647548995}. Best is trial 1 with value: 0.9328437354342375.\n"
     ]
    },
    {
     "name": "stderr",
     "output_type": "stream",
     "text": [
      "Best trial: 1. Best value: 0.932844:   6%|▌         | 3/50 [00:13<03:30,  4.47s/it]"
     ]
    },
    {
     "name": "stdout",
     "output_type": "stream",
     "text": [
      "[I 2025-07-26 12:23:51,906] Trial 2 finished with value: 0.9251044266014667 and parameters: {'learning_rate': 0.09823025045826593, 'max_depth': 7, 'n_estimators': 273, 'subsample': 0.645614570099021, 'colsample_bytree': 0.8059264473611898, 'gamma': 0.6974693032602092, 'reg_lambda': 2.99223202049866, 'reg_alpha': 3.726982248607548}. Best is trial 1 with value: 0.9328437354342375.\n"
     ]
    },
    {
     "name": "stderr",
     "output_type": "stream",
     "text": [
      "Best trial: 1. Best value: 0.932844:   8%|▊         | 4/50 [00:17<03:07,  4.08s/it]"
     ]
    },
    {
     "name": "stdout",
     "output_type": "stream",
     "text": [
      "[I 2025-07-26 12:23:55,395] Trial 3 finished with value: 0.9251044266014667 and parameters: {'learning_rate': 0.1422602954229404, 'max_depth': 9, 'n_estimators': 180, 'subsample': 0.7571172192068059, 'colsample_bytree': 0.7962072844310213, 'gamma': 0.23225206359998862, 'reg_lambda': 6.1146940338242395, 'reg_alpha': 1.7881888245041864}. Best is trial 1 with value: 0.9328437354342375.\n"
     ]
    },
    {
     "name": "stderr",
     "output_type": "stream",
     "text": [
      "Best trial: 1. Best value: 0.932844:  10%|█         | 5/50 [00:26<04:29,  5.99s/it]"
     ]
    },
    {
     "name": "stdout",
     "output_type": "stream",
     "text": [
      "[I 2025-07-26 12:24:04,751] Trial 4 finished with value: 0.9250103078931113 and parameters: {'learning_rate': 0.02886496196573106, 'max_depth': 10, 'n_estimators': 487, 'subsample': 0.9041986740582306, 'colsample_bytree': 0.6523068845866853, 'gamma': 0.48836057003191935, 'reg_lambda': 6.873906962470353, 'reg_alpha': 4.457509688022053}. Best is trial 1 with value: 0.9328437354342375.\n"
     ]
    },
    {
     "name": "stderr",
     "output_type": "stream",
     "text": [
      "Best trial: 1. Best value: 0.932844:  12%|█▏        | 6/50 [00:29<03:28,  4.73s/it]"
     ]
    },
    {
     "name": "stdout",
     "output_type": "stream",
     "text": [
      "[I 2025-07-26 12:24:07,056] Trial 5 finished with value: 0.8468049415408737 and parameters: {'learning_rate': 0.045391088104985856, 'max_depth': 6, 'n_estimators': 113, 'subsample': 0.954660201039391, 'colsample_bytree': 0.6293899908000085, 'gamma': 3.31261142176991, 'reg_lambda': 3.1859396532851685, 'reg_alpha': 5.248673409660327}. Best is trial 1 with value: 0.9328437354342375.\n"
     ]
    },
    {
     "name": "stderr",
     "output_type": "stream",
     "text": [
      "Best trial: 1. Best value: 0.932844:  14%|█▍        | 7/50 [00:36<04:04,  5.69s/it]"
     ]
    },
    {
     "name": "stdout",
     "output_type": "stream",
     "text": [
      "[I 2025-07-26 12:24:14,712] Trial 6 finished with value: 0.8979889397608612 and parameters: {'learning_rate': 0.1685459810095511, 'max_depth': 4, 'n_estimators': 488, 'subsample': 0.8875664116805573, 'colsample_bytree': 0.9697494707820946, 'gamma': 4.474136752138244, 'reg_lambda': 6.019209790229743, 'reg_alpha': 9.226554926728857}. Best is trial 1 with value: 0.9328437354342375.\n"
     ]
    },
    {
     "name": "stderr",
     "output_type": "stream",
     "text": [
      "Best trial: 1. Best value: 0.932844:  16%|█▌        | 8/50 [00:39<03:14,  4.63s/it]"
     ]
    },
    {
     "name": "stdout",
     "output_type": "stream",
     "text": [
      "[I 2025-07-26 12:24:17,062] Trial 7 finished with value: 0.803532884491502 and parameters: {'learning_rate': 0.03566282559505665, 'max_depth': 4, 'n_estimators': 118, 'subsample': 0.6626651653816322, 'colsample_bytree': 0.6943386448447411, 'gamma': 1.3567451588694794, 'reg_lambda': 8.3045013406041, 'reg_alpha': 3.631857934266534}. Best is trial 1 with value: 0.9328437354342375.\n"
     ]
    },
    {
     "name": "stderr",
     "output_type": "stream",
     "text": [
      "Best trial: 1. Best value: 0.932844:  18%|█▊        | 9/50 [00:41<02:48,  4.10s/it]"
     ]
    },
    {
     "name": "stdout",
     "output_type": "stream",
     "text": [
      "[I 2025-07-26 12:24:20,003] Trial 8 finished with value: 0.9222949656747865 and parameters: {'learning_rate': 0.09147100780934041, 'max_depth': 7, 'n_estimators': 156, 'subsample': 0.9010984903770198, 'colsample_bytree': 0.5372753218398854, 'gamma': 4.9344346830025865, 'reg_lambda': 7.7452232160369086, 'reg_alpha': 2.0672852471883068}. Best is trial 1 with value: 0.9328437354342375.\n"
     ]
    },
    {
     "name": "stderr",
     "output_type": "stream",
     "text": [
      "Best trial: 9. Best value: 0.943062:  20%|██        | 10/50 [00:50<03:40,  5.52s/it]"
     ]
    },
    {
     "name": "stdout",
     "output_type": "stream",
     "text": [
      "[I 2025-07-26 12:24:28,696] Trial 9 finished with value: 0.9430615860902998 and parameters: {'learning_rate': 0.011601413965844696, 'max_depth': 9, 'n_estimators': 383, 'subsample': 0.8645035840204937, 'colsample_bytree': 0.8856351733429728, 'gamma': 0.3702232586704518, 'reg_lambda': 3.648810712588299, 'reg_alpha': 1.2471036892987843}. Best is trial 9 with value: 0.9430615860902998.\n"
     ]
    },
    {
     "name": "stderr",
     "output_type": "stream",
     "text": [
      "Best trial: 9. Best value: 0.943062:  22%|██▏       | 11/50 [00:56<03:40,  5.67s/it]"
     ]
    },
    {
     "name": "stdout",
     "output_type": "stream",
     "text": [
      "[I 2025-07-26 12:24:34,699] Trial 10 finished with value: 0.9250103078931113 and parameters: {'learning_rate': 0.2647891979752343, 'max_depth': 6, 'n_estimators': 357, 'subsample': 0.5089809378074099, 'colsample_bytree': 0.8770690800880656, 'gamma': 2.096390561241048, 'reg_lambda': 9.60173038485966, 'reg_alpha': 0.21003240974484227}. Best is trial 9 with value: 0.9430615860902998.\n"
     ]
    },
    {
     "name": "stderr",
     "output_type": "stream",
     "text": [
      "Best trial: 9. Best value: 0.943062:  24%|██▍       | 12/50 [01:00<03:18,  5.22s/it]"
     ]
    },
    {
     "name": "stdout",
     "output_type": "stream",
     "text": [
      "[I 2025-07-26 12:24:38,910] Trial 11 finished with value: 0.9235550610749494 and parameters: {'learning_rate': 0.2259516608407133, 'max_depth': 8, 'n_estimators': 261, 'subsample': 0.9729048599868566, 'colsample_bytree': 0.9717595030924887, 'gamma': 1.7939314875484835, 'reg_lambda': 3.4909083380037913, 'reg_alpha': 0.25493817364552085}. Best is trial 9 with value: 0.9430615860902998.\n"
     ]
    },
    {
     "name": "stderr",
     "output_type": "stream",
     "text": [
      "Best trial: 9. Best value: 0.943062:  26%|██▌       | 13/50 [01:07<03:27,  5.60s/it]"
     ]
    },
    {
     "name": "stdout",
     "output_type": "stream",
     "text": [
      "[I 2025-07-26 12:24:45,385] Trial 12 finished with value: 0.914970294657546 and parameters: {'learning_rate': 0.1954938375473548, 'max_depth': 8, 'n_estimators': 388, 'subsample': 0.8229282203516205, 'colsample_bytree': 0.8864550600123169, 'gamma': 2.6388944651501602, 'reg_lambda': 0.8488634693259103, 'reg_alpha': 6.561543882227312}. Best is trial 9 with value: 0.9430615860902998.\n"
     ]
    },
    {
     "name": "stderr",
     "output_type": "stream",
     "text": [
      "Best trial: 9. Best value: 0.943062:  28%|██▊       | 14/50 [01:12<03:18,  5.52s/it]"
     ]
    },
    {
     "name": "stdout",
     "output_type": "stream",
     "text": [
      "[I 2025-07-26 12:24:50,712] Trial 13 finished with value: 0.925198591258138 and parameters: {'learning_rate': 0.2840673647065922, 'max_depth': 9, 'n_estimators': 333, 'subsample': 0.9980082658737177, 'colsample_bytree': 0.8743294455456313, 'gamma': 0.01784971403017588, 'reg_lambda': 4.408626878732123, 'reg_alpha': 2.207935048321146}. Best is trial 9 with value: 0.9430615860902998.\n"
     ]
    },
    {
     "name": "stderr",
     "output_type": "stream",
     "text": [
      "Best trial: 9. Best value: 0.943062:  30%|███       | 15/50 [01:16<02:58,  5.11s/it]"
     ]
    },
    {
     "name": "stdout",
     "output_type": "stream",
     "text": [
      "[I 2025-07-26 12:24:54,869] Trial 14 finished with value: 0.915222405814896 and parameters: {'learning_rate': 0.22197975031348205, 'max_depth': 8, 'n_estimators': 225, 'subsample': 0.8447964091399753, 'colsample_bytree': 0.9307689382336943, 'gamma': 1.3805173532628663, 'reg_lambda': 1.9340714199024371, 'reg_alpha': 1.791688896647217}. Best is trial 9 with value: 0.9430615860902998.\n"
     ]
    },
    {
     "name": "stderr",
     "output_type": "stream",
     "text": [
      "Best trial: 9. Best value: 0.943062:  32%|███▏      | 16/50 [01:24<03:15,  5.76s/it]"
     ]
    },
    {
     "name": "stdout",
     "output_type": "stream",
     "text": [
      "[I 2025-07-26 12:25:02,149] Trial 15 finished with value: 0.9250103078931113 and parameters: {'learning_rate': 0.1686837171934692, 'max_depth': 9, 'n_estimators': 442, 'subsample': 0.6924839515611934, 'colsample_bytree': 0.7756848803021621, 'gamma': 2.8128928815738257, 'reg_lambda': 2.0128693428974023, 'reg_alpha': 2.950302064704135}. Best is trial 9 with value: 0.9430615860902998.\n"
     ]
    },
    {
     "name": "stderr",
     "output_type": "stream",
     "text": [
      "Best trial: 9. Best value: 0.943062:  34%|███▍      | 17/50 [01:29<03:10,  5.76s/it]"
     ]
    },
    {
     "name": "stdout",
     "output_type": "stream",
     "text": [
      "[I 2025-07-26 12:25:07,906] Trial 16 finished with value: 0.907395361996223 and parameters: {'learning_rate': 0.07336112273050144, 'max_depth': 5, 'n_estimators': 316, 'subsample': 0.9314636609266265, 'colsample_bytree': 0.9993615722428796, 'gamma': 1.2090566742174598, 'reg_lambda': 4.795738837577374, 'reg_alpha': 6.2506721803585386}. Best is trial 9 with value: 0.9430615860902998.\n"
     ]
    },
    {
     "name": "stderr",
     "output_type": "stream",
     "text": [
      "Best trial: 9. Best value: 0.943062:  36%|███▌      | 18/50 [01:34<02:55,  5.50s/it]"
     ]
    },
    {
     "name": "stdout",
     "output_type": "stream",
     "text": [
      "[I 2025-07-26 12:25:12,794] Trial 17 finished with value: 0.8908471054500506 and parameters: {'learning_rate': 0.01023467946429813, 'max_depth': 10, 'n_estimators': 202, 'subsample': 0.8579514049132655, 'colsample_bytree': 0.8426133099911273, 'gamma': 3.5359723928317566, 'reg_lambda': 1.6040361919816453, 'reg_alpha': 1.0688620031868474}. Best is trial 9 with value: 0.9430615860902998.\n"
     ]
    },
    {
     "name": "stderr",
     "output_type": "stream",
     "text": [
      "Best trial: 9. Best value: 0.943062:  38%|███▊      | 19/50 [01:41<03:05,  6.00s/it]"
     ]
    },
    {
     "name": "stdout",
     "output_type": "stream",
     "text": [
      "[I 2025-07-26 12:25:19,956] Trial 18 finished with value: 0.9430615860902998 and parameters: {'learning_rate': 0.13649978960074022, 'max_depth': 3, 'n_estimators': 424, 'subsample': 0.7696363894573159, 'colsample_bytree': 0.71804991678614, 'gamma': 0.9396731082894904, 'reg_lambda': 3.394959212375065, 'reg_alpha': 3.011675182017197}. Best is trial 9 with value: 0.9430615860902998.\n"
     ]
    },
    {
     "name": "stderr",
     "output_type": "stream",
     "text": [
      "Best trial: 9. Best value: 0.943062:  40%|████      | 20/50 [01:49<03:13,  6.45s/it]"
     ]
    },
    {
     "name": "stdout",
     "output_type": "stream",
     "text": [
      "[I 2025-07-26 12:25:27,472] Trial 19 finished with value: 0.906278209886072 and parameters: {'learning_rate': 0.13364053316728727, 'max_depth': 3, 'n_estimators': 428, 'subsample': 0.734673133881798, 'colsample_bytree': 0.7421908381743831, 'gamma': 1.8859411466215472, 'reg_lambda': 4.10822101209132, 'reg_alpha': 5.367586651001604}. Best is trial 9 with value: 0.9430615860902998.\n"
     ]
    },
    {
     "name": "stderr",
     "output_type": "stream",
     "text": [
      "Best trial: 9. Best value: 0.943062:  42%|████▏     | 21/50 [01:57<03:23,  7.02s/it]"
     ]
    },
    {
     "name": "stdout",
     "output_type": "stream",
     "text": [
      "[I 2025-07-26 12:25:35,821] Trial 20 finished with value: 0.9150493647697421 and parameters: {'learning_rate': 0.06669535907500572, 'max_depth': 3, 'n_estimators': 430, 'subsample': 0.6006818104614415, 'colsample_bytree': 0.7159288929998385, 'gamma': 0.3707731696901395, 'reg_lambda': 5.352909333291652, 'reg_alpha': 2.8221271868981166}. Best is trial 9 with value: 0.9430615860902998.\n"
     ]
    },
    {
     "name": "stderr",
     "output_type": "stream",
     "text": [
      "Best trial: 9. Best value: 0.943062:  44%|████▍     | 22/50 [02:04<03:12,  6.89s/it]"
     ]
    },
    {
     "name": "stdout",
     "output_type": "stream",
     "text": [
      "[I 2025-07-26 12:25:42,396] Trial 21 finished with value: 0.9251044266014667 and parameters: {'learning_rate': 0.19640198180091425, 'max_depth': 8, 'n_estimators': 383, 'subsample': 0.782303687907612, 'colsample_bytree': 0.9149706102735462, 'gamma': 1.019098835441976, 'reg_lambda': 2.629258480934584, 'reg_alpha': 1.1212335974008452}. Best is trial 9 with value: 0.9430615860902998.\n"
     ]
    },
    {
     "name": "stderr",
     "output_type": "stream",
     "text": [
      "Best trial: 9. Best value: 0.943062:  46%|████▌     | 23/50 [02:09<02:48,  6.26s/it]"
     ]
    },
    {
     "name": "stdout",
     "output_type": "stream",
     "text": [
      "[I 2025-07-26 12:25:47,187] Trial 22 finished with value: 0.9004000720001285 and parameters: {'learning_rate': 0.24039202510247548, 'max_depth': 7, 'n_estimators': 281, 'subsample': 0.7191922923603448, 'colsample_bytree': 0.8204115858567087, 'gamma': 1.5949851101775123, 'reg_lambda': 3.604677087159918, 'reg_alpha': 3.0918824991306773}. Best is trial 9 with value: 0.9430615860902998.\n"
     ]
    },
    {
     "name": "stderr",
     "output_type": "stream",
     "text": [
      "Best trial: 9. Best value: 0.943062:  48%|████▊     | 24/50 [02:15<02:40,  6.16s/it]"
     ]
    },
    {
     "name": "stdout",
     "output_type": "stream",
     "text": [
      "[I 2025-07-26 12:25:53,115] Trial 23 finished with value: 0.9329379481329648 and parameters: {'learning_rate': 0.19123445483937648, 'max_depth': 5, 'n_estimators': 343, 'subsample': 0.8805991604929908, 'colsample_bytree': 0.6683050342129456, 'gamma': 0.923141869919963, 'reg_lambda': 2.432933426459842, 'reg_alpha': 0.9805039540175801}. Best is trial 9 with value: 0.9430615860902998.\n"
     ]
    },
    {
     "name": "stderr",
     "output_type": "stream",
     "text": [
      "Best trial: 9. Best value: 0.943062:  50%|█████     | 25/50 [02:21<02:32,  6.11s/it]"
     ]
    },
    {
     "name": "stdout",
     "output_type": "stream",
     "text": [
      "[I 2025-07-26 12:25:59,110] Trial 24 finished with value: 0.9327495687437016 and parameters: {'learning_rate': 0.1140778881820452, 'max_depth': 5, 'n_estimators': 341, 'subsample': 0.8589969793121721, 'colsample_bytree': 0.6610679688214769, 'gamma': 2.3031739737789234, 'reg_lambda': 2.591812062950813, 'reg_alpha': 1.029742410533474}. Best is trial 9 with value: 0.9430615860902998.\n"
     ]
    },
    {
     "name": "stderr",
     "output_type": "stream",
     "text": [
      "Best trial: 9. Best value: 0.943062:  52%|█████▏    | 26/50 [02:27<02:25,  6.08s/it]"
     ]
    },
    {
     "name": "stdout",
     "output_type": "stream",
     "text": [
      "[I 2025-07-26 12:26:05,125] Trial 25 finished with value: 0.915222405814896 and parameters: {'learning_rate': 0.29979510835429424, 'max_depth': 4, 'n_estimators': 369, 'subsample': 0.7989612996457269, 'colsample_bytree': 0.6166275299131155, 'gamma': 0.7128207058165171, 'reg_lambda': 0.32645628384210923, 'reg_alpha': 4.198463463186748}. Best is trial 9 with value: 0.9430615860902998.\n"
     ]
    },
    {
     "name": "stderr",
     "output_type": "stream",
     "text": [
      "Best trial: 9. Best value: 0.943062:  54%|█████▍    | 27/50 [02:35<02:38,  6.90s/it]"
     ]
    },
    {
     "name": "stdout",
     "output_type": "stream",
     "text": [
      "[I 2025-07-26 12:26:13,932] Trial 26 finished with value: 0.9153165702757838 and parameters: {'learning_rate': 0.2503401775002799, 'max_depth': 5, 'n_estimators': 452, 'subsample': 0.7604984496062445, 'colsample_bytree': 0.7558603275558285, 'gamma': 0.14160508075427003, 'reg_lambda': 4.0585780610001825, 'reg_alpha': 0.9151209135369558}. Best is trial 9 with value: 0.9430615860902998.\n"
     ]
    },
    {
     "name": "stderr",
     "output_type": "stream",
     "text": [
      "Best trial: 9. Best value: 0.943062:  56%|█████▌    | 28/50 [02:41<02:23,  6.50s/it]"
     ]
    },
    {
     "name": "stdout",
     "output_type": "stream",
     "text": [
      "[I 2025-07-26 12:26:19,501] Trial 27 finished with value: 0.9329379481329648 and parameters: {'learning_rate': 0.21017087837735787, 'max_depth': 3, 'n_estimators': 304, 'subsample': 0.9307741879126271, 'colsample_bytree': 0.5036445160187465, 'gamma': 0.9485798028610363, 'reg_lambda': 5.212386030593326, 'reg_alpha': 0.1470558137025968}. Best is trial 9 with value: 0.9430615860902998.\n"
     ]
    },
    {
     "name": "stderr",
     "output_type": "stream",
     "text": [
      "Best trial: 9. Best value: 0.943062:  58%|█████▊    | 29/50 [02:48<02:21,  6.72s/it]"
     ]
    },
    {
     "name": "stdout",
     "output_type": "stream",
     "text": [
      "[I 2025-07-26 12:26:26,733] Trial 28 finished with value: 0.9251044266014667 and parameters: {'learning_rate': 0.154633024099922, 'max_depth': 6, 'n_estimators': 405, 'subsample': 0.8213190480367871, 'colsample_bytree': 0.7055120330282184, 'gamma': 0.5792599716981898, 'reg_lambda': 1.352574624775233, 'reg_alpha': 2.5353458755910334}. Best is trial 9 with value: 0.9430615860902998.\n"
     ]
    },
    {
     "name": "stderr",
     "output_type": "stream",
     "text": [
      "Best trial: 9. Best value: 0.943062:  60%|██████    | 30/50 [02:55<02:16,  6.80s/it]"
     ]
    },
    {
     "name": "stdout",
     "output_type": "stream",
     "text": [
      "[I 2025-07-26 12:26:33,729] Trial 29 finished with value: 0.914954429540161 and parameters: {'learning_rate': 0.1252166636418829, 'max_depth': 4, 'n_estimators': 407, 'subsample': 0.7973071774804307, 'colsample_bytree': 0.5886417935302463, 'gamma': 1.5676063661889863, 'reg_lambda': 2.4515264211617094, 'reg_alpha': 6.666745878514207}. Best is trial 9 with value: 0.9430615860902998.\n"
     ]
    },
    {
     "name": "stderr",
     "output_type": "stream",
     "text": [
      "Best trial: 9. Best value: 0.943062:  62%|██████▏   | 31/50 [03:03<02:15,  7.16s/it]"
     ]
    },
    {
     "name": "stdout",
     "output_type": "stream",
     "text": [
      "[I 2025-07-26 12:26:41,708] Trial 30 finished with value: 0.9327495687437016 and parameters: {'learning_rate': 0.10009769163316082, 'max_depth': 5, 'n_estimators': 454, 'subsample': 0.8325322407954311, 'colsample_bytree': 0.5730681784765594, 'gamma': 2.995197872145817, 'reg_lambda': 0.7923261571831706, 'reg_alpha': 1.4294096674841237}. Best is trial 9 with value: 0.9430615860902998.\n"
     ]
    },
    {
     "name": "stderr",
     "output_type": "stream",
     "text": [
      "Best trial: 9. Best value: 0.943062:  64%|██████▍   | 32/50 [03:09<02:00,  6.68s/it]"
     ]
    },
    {
     "name": "stdout",
     "output_type": "stream",
     "text": [
      "[I 2025-07-26 12:26:47,295] Trial 31 finished with value: 0.9153165702757838 and parameters: {'learning_rate': 0.2230313420698033, 'max_depth': 3, 'n_estimators': 305, 'subsample': 0.9334951689612037, 'colsample_bytree': 0.514864797928912, 'gamma': 0.9382411840194043, 'reg_lambda': 5.393337853578779, 'reg_alpha': 0.17337396411726713}. Best is trial 9 with value: 0.9430615860902998.\n"
     ]
    },
    {
     "name": "stderr",
     "output_type": "stream",
     "text": [
      "Best trial: 9. Best value: 0.943062:  66%|██████▌   | 33/50 [03:15<01:50,  6.50s/it]"
     ]
    },
    {
     "name": "stdout",
     "output_type": "stream",
     "text": [
      "[I 2025-07-26 12:26:53,359] Trial 32 finished with value: 0.9153165702757838 and parameters: {'learning_rate': 0.19792755392545267, 'max_depth': 3, 'n_estimators': 344, 'subsample': 0.873148172258375, 'colsample_bytree': 0.5683797617939496, 'gamma': 0.9003086257996423, 'reg_lambda': 4.6112408166079994, 'reg_alpha': 0.7297138952649042}. Best is trial 9 with value: 0.9430615860902998.\n"
     ]
    },
    {
     "name": "stderr",
     "output_type": "stream",
     "text": [
      "Best trial: 9. Best value: 0.943062:  68%|██████▊   | 34/50 [03:20<01:35,  5.99s/it]"
     ]
    },
    {
     "name": "stdout",
     "output_type": "stream",
     "text": [
      "[I 2025-07-26 12:26:58,149] Trial 33 finished with value: 0.9328437354342375 and parameters: {'learning_rate': 0.17569765750651428, 'max_depth': 4, 'n_estimators': 249, 'subsample': 0.9227931522018202, 'colsample_bytree': 0.7342838940485049, 'gamma': 0.5580727060103948, 'reg_lambda': 3.7483187190808147, 'reg_alpha': 1.459217677995671}. Best is trial 9 with value: 0.9430615860902998.\n"
     ]
    },
    {
     "name": "stderr",
     "output_type": "stream",
     "text": [
      "Best trial: 9. Best value: 0.943062:  70%|███████   | 35/50 [03:25<01:27,  5.82s/it]"
     ]
    },
    {
     "name": "stdout",
     "output_type": "stream",
     "text": [
      "[I 2025-07-26 12:27:03,569] Trial 34 finished with value: 0.9391087695630487 and parameters: {'learning_rate': 0.2097388200299059, 'max_depth': 3, 'n_estimators': 315, 'subsample': 0.9645657455199594, 'colsample_bytree': 0.6811071583589248, 'gamma': 1.1818811479058728, 'reg_lambda': 6.316764365773222, 'reg_alpha': 0.523856731463697}. Best is trial 9 with value: 0.9430615860902998.\n"
     ]
    },
    {
     "name": "stderr",
     "output_type": "stream",
     "text": [
      "Best trial: 9. Best value: 0.943062:  72%|███████▏  | 36/50 [03:32<01:24,  6.05s/it]"
     ]
    },
    {
     "name": "stdout",
     "output_type": "stream",
     "text": [
      "[I 2025-07-26 12:27:10,170] Trial 35 finished with value: 0.9235550610749494 and parameters: {'learning_rate': 0.1552915445991553, 'max_depth': 4, 'n_estimators': 366, 'subsample': 0.966302227468579, 'colsample_bytree': 0.6814172024521776, 'gamma': 0.2943851808953415, 'reg_lambda': 6.20565451558878, 'reg_alpha': 2.0600317662769956}. Best is trial 9 with value: 0.9430615860902998.\n"
     ]
    },
    {
     "name": "stderr",
     "output_type": "stream",
     "text": [
      "Best trial: 9. Best value: 0.943062:  74%|███████▍  | 37/50 [03:40<01:25,  6.61s/it]"
     ]
    },
    {
     "name": "stdout",
     "output_type": "stream",
     "text": [
      "[I 2025-07-26 12:27:18,084] Trial 36 finished with value: 0.8688088993276499 and parameters: {'learning_rate': 0.05979322112324996, 'max_depth': 3, 'n_estimators': 412, 'subsample': 0.8895810572189262, 'colsample_bytree': 0.660769563406926, 'gamma': 1.302684263592739, 'reg_lambda': 7.20228509333312, 'reg_alpha': 8.151346783894185}. Best is trial 9 with value: 0.9430615860902998.\n"
     ]
    },
    {
     "name": "stderr",
     "output_type": "stream",
     "text": [
      "Best trial: 37. Best value: 0.943156:  76%|███████▌  | 38/50 [03:45<01:15,  6.33s/it]"
     ]
    },
    {
     "name": "stdout",
     "output_type": "stream",
     "text": [
      "[I 2025-07-26 12:27:23,768] Trial 37 finished with value: 0.943155752976619 and parameters: {'learning_rate': 0.18572632917675896, 'max_depth': 9, 'n_estimators': 322, 'subsample': 0.9507730314617947, 'colsample_bytree': 0.6172894699068588, 'gamma': 0.7225954499111111, 'reg_lambda': 2.8254431770418664, 'reg_alpha': 3.5896720736505423}. Best is trial 37 with value: 0.943155752976619.\n"
     ]
    },
    {
     "name": "stderr",
     "output_type": "stream",
     "text": [
      "Best trial: 37. Best value: 0.943156:  78%|███████▊  | 39/50 [03:51<01:08,  6.23s/it]"
     ]
    },
    {
     "name": "stdout",
     "output_type": "stream",
     "text": [
      "[I 2025-07-26 12:27:29,768] Trial 38 finished with value: 0.925198591258138 and parameters: {'learning_rate': 0.14809473051704045, 'max_depth': 10, 'n_estimators': 288, 'subsample': 0.9519401875678404, 'colsample_bytree': 0.6183010231948016, 'gamma': 0.01333980638640675, 'reg_lambda': 3.0552918648937335, 'reg_alpha': 3.4132459513120903}. Best is trial 37 with value: 0.943155752976619.\n"
     ]
    },
    {
     "name": "stderr",
     "output_type": "stream",
     "text": [
      "Best trial: 37. Best value: 0.943156:  80%|████████  | 40/50 [03:59<01:06,  6.64s/it]"
     ]
    },
    {
     "name": "stdout",
     "output_type": "stream",
     "text": [
      "[I 2025-07-26 12:27:37,347] Trial 39 finished with value: 0.9430615860902998 and parameters: {'learning_rate': 0.25347936908189306, 'max_depth': 9, 'n_estimators': 467, 'subsample': 0.9918293306503908, 'colsample_bytree': 0.7796030282285746, 'gamma': 0.4403058465602697, 'reg_lambda': 5.874963444311765, 'reg_alpha': 4.828410638739404}. Best is trial 37 with value: 0.943155752976619.\n"
     ]
    },
    {
     "name": "stderr",
     "output_type": "stream",
     "text": [
      "Best trial: 37. Best value: 0.943156:  82%|████████▏ | 41/50 [04:07<01:04,  7.14s/it]"
     ]
    },
    {
     "name": "stdout",
     "output_type": "stream",
     "text": [
      "[I 2025-07-26 12:27:45,647] Trial 40 finished with value: 0.9430615860902998 and parameters: {'learning_rate': 0.25756614251527216, 'max_depth': 9, 'n_estimators': 500, 'subsample': 0.9910527011633248, 'colsample_bytree': 0.7907583006829646, 'gamma': 0.6783852774742457, 'reg_lambda': 5.60893412059348, 'reg_alpha': 4.264802276607025}. Best is trial 37 with value: 0.943155752976619.\n"
     ]
    },
    {
     "name": "stderr",
     "output_type": "stream",
     "text": [
      "Best trial: 37. Best value: 0.943156:  84%|████████▍ | 42/50 [04:15<00:59,  7.39s/it]"
     ]
    },
    {
     "name": "stdout",
     "output_type": "stream",
     "text": [
      "[I 2025-07-26 12:27:53,626] Trial 41 finished with value: 0.9430615860902998 and parameters: {'learning_rate': 0.2663967083915026, 'max_depth': 9, 'n_estimators': 493, 'subsample': 0.978108349152475, 'colsample_bytree': 0.7906857903470916, 'gamma': 0.4310661283643323, 'reg_lambda': 5.776576766741928, 'reg_alpha': 4.619338009054724}. Best is trial 37 with value: 0.943155752976619.\n"
     ]
    },
    {
     "name": "stderr",
     "output_type": "stream",
     "text": [
      "Best trial: 37. Best value: 0.943156:  86%|████████▌ | 43/50 [04:23<00:53,  7.61s/it]"
     ]
    },
    {
     "name": "stdout",
     "output_type": "stream",
     "text": [
      "[I 2025-07-26 12:28:01,761] Trial 42 finished with value: 0.9250103078931113 and parameters: {'learning_rate': 0.24704145858752194, 'max_depth': 10, 'n_estimators': 475, 'subsample': 0.9125610018314334, 'colsample_bytree': 0.8286440843070175, 'gamma': 0.7292243742504104, 'reg_lambda': 6.9029983580461085, 'reg_alpha': 4.0265185145084095}. Best is trial 37 with value: 0.943155752976619.\n"
     ]
    },
    {
     "name": "stderr",
     "output_type": "stream",
     "text": [
      "Best trial: 37. Best value: 0.943156:  88%|████████▊ | 44/50 [04:31<00:45,  7.62s/it]"
     ]
    },
    {
     "name": "stdout",
     "output_type": "stream",
     "text": [
      "[I 2025-07-26 12:28:09,403] Trial 43 finished with value: 0.9430615860902998 and parameters: {'learning_rate': 0.2700330286743068, 'max_depth': 9, 'n_estimators': 470, 'subsample': 0.99284791196678, 'colsample_bytree': 0.7594185264085779, 'gamma': 0.47467925383884657, 'reg_lambda': 3.1841570907125996, 'reg_alpha': 5.46620673026255}. Best is trial 37 with value: 0.943155752976619.\n"
     ]
    },
    {
     "name": "stderr",
     "output_type": "stream",
     "text": [
      "Best trial: 37. Best value: 0.943156:  90%|█████████ | 45/50 [04:39<00:38,  7.74s/it]"
     ]
    },
    {
     "name": "stdout",
     "output_type": "stream",
     "text": [
      "[I 2025-07-26 12:28:17,420] Trial 44 finished with value: 0.9251044266014667 and parameters: {'learning_rate': 0.29925934348652117, 'max_depth': 9, 'n_estimators': 468, 'subsample': 0.9513281322710282, 'colsample_bytree': 0.8412597774415306, 'gamma': 0.2637613883004015, 'reg_lambda': 8.498636368661682, 'reg_alpha': 4.66244154913578}. Best is trial 37 with value: 0.943155752976619.\n"
     ]
    },
    {
     "name": "stderr",
     "output_type": "stream",
     "text": [
      "Best trial: 37. Best value: 0.943156:  92%|█████████▏| 46/50 [04:47<00:31,  7.84s/it]"
     ]
    },
    {
     "name": "stdout",
     "output_type": "stream",
     "text": [
      "[I 2025-07-26 12:28:25,495] Trial 45 finished with value: 0.9327495687437016 and parameters: {'learning_rate': 0.28104071652914125, 'max_depth': 9, 'n_estimators': 498, 'subsample': 0.9989747445591426, 'colsample_bytree': 0.7992388457464253, 'gamma': 0.6784474479652929, 'reg_lambda': 4.334759315652603, 'reg_alpha': 3.577957573791237}. Best is trial 37 with value: 0.943155752976619.\n"
     ]
    },
    {
     "name": "stderr",
     "output_type": "stream",
     "text": [
      "Best trial: 37. Best value: 0.943156:  94%|█████████▍| 47/50 [04:55<00:23,  7.78s/it]"
     ]
    },
    {
     "name": "stdout",
     "output_type": "stream",
     "text": [
      "[I 2025-07-26 12:28:33,149] Trial 46 finished with value: 0.8939811495448422 and parameters: {'learning_rate': 0.23639744934929519, 'max_depth': 8, 'n_estimators': 424, 'subsample': 0.6429311967311929, 'colsample_bytree': 0.8664053044761729, 'gamma': 3.944179129308928, 'reg_lambda': 3.681585260316309, 'reg_alpha': 5.668234196674583}. Best is trial 37 with value: 0.943155752976619.\n"
     ]
    },
    {
     "name": "stderr",
     "output_type": "stream",
     "text": [
      "Best trial: 47. Best value: 0.948617:  96%|█████████▌| 48/50 [05:02<00:15,  7.79s/it]"
     ]
    },
    {
     "name": "stdout",
     "output_type": "stream",
     "text": [
      "[I 2025-07-26 12:28:40,962] Trial 47 finished with value: 0.9486165123981306 and parameters: {'learning_rate': 0.08901379915169082, 'max_depth': 7, 'n_estimators': 449, 'subsample': 0.9468333362489876, 'colsample_bytree': 0.9031483836902796, 'gamma': 1.5485601338104753, 'reg_lambda': 4.983849338092982, 'reg_alpha': 4.943670816615743}. Best is trial 47 with value: 0.9486165123981306.\n"
     ]
    },
    {
     "name": "stderr",
     "output_type": "stream",
     "text": [
      "Best trial: 47. Best value: 0.948617:  98%|█████████▊| 49/50 [05:10<00:07,  7.77s/it]"
     ]
    },
    {
     "name": "stdout",
     "output_type": "stream",
     "text": [
      "[I 2025-07-26 12:28:48,679] Trial 48 finished with value: 0.9234608945954541 and parameters: {'learning_rate': 0.08872527917837253, 'max_depth': 7, 'n_estimators': 396, 'subsample': 0.9128350977395951, 'colsample_bytree': 0.911202969961542, 'gamma': 1.5168665510700026, 'reg_lambda': 4.750954549675857, 'reg_alpha': 4.955261367011411}. Best is trial 47 with value: 0.9486165123981306.\n"
     ]
    },
    {
     "name": "stderr",
     "output_type": "stream",
     "text": [
      "Best trial: 47. Best value: 0.948617: 100%|██████████| 50/50 [05:18<00:00,  6.36s/it]"
     ]
    },
    {
     "name": "stdout",
     "output_type": "stream",
     "text": [
      "[I 2025-07-26 12:28:56,150] Trial 49 finished with value: 0.888069424624257 and parameters: {'learning_rate': 0.048024962433257996, 'max_depth': 10, 'n_estimators': 376, 'subsample': 0.7699259306689287, 'colsample_bytree': 0.9460388522724476, 'gamma': 1.9873455783493728, 'reg_lambda': 4.945645852929802, 'reg_alpha': 7.597822372591748}. Best is trial 47 with value: 0.9486165123981306.\n"
     ]
    },
    {
     "name": "stderr",
     "output_type": "stream",
     "text": [
      "\n"
     ]
    }
   ],
   "source": [
    "# Optuna Optimization \n",
    "print(\"\\nStarting Optuna hyperparameter tuning...\")\n",
    "study = optuna.create_study(direction='maximize', sampler=optuna.samplers.TPESampler(seed=42))\n",
    "study.optimize(objective, n_trials=50, show_progress_bar=True) # Reduced trials for demonstration"
   ]
  },
  {
   "cell_type": "code",
   "execution_count": 14,
   "id": "ac900b78",
   "metadata": {},
   "outputs": [
    {
     "name": "stdout",
     "output_type": "stream",
     "text": [
      "\n",
      "--- Optuna Optimization Results ---\n",
      "Number of finished trials: 50\n",
      "Best trial number: 47\n",
      "Best F1-score: 0.9486\n",
      "Best hyperparameters:\n",
      "  learning_rate: 0.08901379915169082\n",
      "  max_depth: 7\n",
      "  n_estimators: 449\n",
      "  subsample: 0.9468333362489876\n",
      "  colsample_bytree: 0.9031483836902796\n",
      "  gamma: 1.5485601338104753\n",
      "  reg_lambda: 4.983849338092982\n",
      "  reg_alpha: 4.943670816615743\n"
     ]
    }
   ],
   "source": [
    "print(\"\\n--- Optuna Optimization Results ---\")\n",
    "print(f\"Number of finished trials: {len(study.trials)}\")\n",
    "print(f\"Best trial number: {study.best_trial.number}\")\n",
    "print(f\"Best F1-score: {study.best_value:.4f}\")\n",
    "print(\"Best hyperparameters:\")\n",
    "for key, value in study.best_trial.params.items():\n",
    "    print(f\"  {key}: {value}\")"
   ]
  },
  {
   "cell_type": "code",
   "execution_count": 13,
   "id": "6e37c14e",
   "metadata": {},
   "outputs": [
    {
     "data": {
      "application/vnd.plotly.v1+json": {
       "config": {
        "plotlyServerURL": "https://plot.ly"
       },
       "data": [
        {
         "mode": "markers",
         "name": "Objective Value",
         "type": "scatter",
         "x": [
          0,
          1,
          2,
          3,
          4,
          5,
          6,
          7,
          8,
          9,
          10,
          11,
          12,
          13,
          14,
          15,
          16,
          17,
          18,
          19,
          20,
          21,
          22,
          23,
          24,
          25,
          26,
          27,
          28,
          29,
          30,
          31,
          32,
          33,
          34,
          35,
          36,
          37,
          38,
          39,
          40,
          41,
          42,
          43,
          44,
          45,
          46,
          47,
          48,
          49
         ],
         "y": [
          0.9250103078931113,
          0.9328437354342375,
          0.9251044266014667,
          0.9251044266014667,
          0.9250103078931113,
          0.8468049415408737,
          0.8979889397608612,
          0.803532884491502,
          0.9222949656747865,
          0.9430615860902998,
          0.9250103078931113,
          0.9235550610749494,
          0.914970294657546,
          0.925198591258138,
          0.915222405814896,
          0.9250103078931113,
          0.907395361996223,
          0.8908471054500506,
          0.9430615860902998,
          0.906278209886072,
          0.9150493647697421,
          0.9251044266014667,
          0.9004000720001285,
          0.9329379481329648,
          0.9327495687437016,
          0.915222405814896,
          0.9153165702757838,
          0.9329379481329648,
          0.9251044266014667,
          0.914954429540161,
          0.9327495687437016,
          0.9153165702757838,
          0.9153165702757838,
          0.9328437354342375,
          0.9391087695630487,
          0.9235550610749494,
          0.8688088993276499,
          0.943155752976619,
          0.925198591258138,
          0.9430615860902998,
          0.9430615860902998,
          0.9430615860902998,
          0.9250103078931113,
          0.9430615860902998,
          0.9251044266014667,
          0.9327495687437016,
          0.8939811495448422,
          0.9486165123981306,
          0.9234608945954541,
          0.888069424624257
         ]
        },
        {
         "mode": "lines",
         "name": "Best Value",
         "type": "scatter",
         "x": [
          0,
          1,
          2,
          3,
          4,
          5,
          6,
          7,
          8,
          9,
          10,
          11,
          12,
          13,
          14,
          15,
          16,
          17,
          18,
          19,
          20,
          21,
          22,
          23,
          24,
          25,
          26,
          27,
          28,
          29,
          30,
          31,
          32,
          33,
          34,
          35,
          36,
          37,
          38,
          39,
          40,
          41,
          42,
          43,
          44,
          45,
          46,
          47,
          48,
          49
         ],
         "y": [
          0.9250103078931113,
          0.9328437354342375,
          0.9328437354342375,
          0.9328437354342375,
          0.9328437354342375,
          0.9328437354342375,
          0.9328437354342375,
          0.9328437354342375,
          0.9328437354342375,
          0.9430615860902998,
          0.9430615860902998,
          0.9430615860902998,
          0.9430615860902998,
          0.9430615860902998,
          0.9430615860902998,
          0.9430615860902998,
          0.9430615860902998,
          0.9430615860902998,
          0.9430615860902998,
          0.9430615860902998,
          0.9430615860902998,
          0.9430615860902998,
          0.9430615860902998,
          0.9430615860902998,
          0.9430615860902998,
          0.9430615860902998,
          0.9430615860902998,
          0.9430615860902998,
          0.9430615860902998,
          0.9430615860902998,
          0.9430615860902998,
          0.9430615860902998,
          0.9430615860902998,
          0.9430615860902998,
          0.9430615860902998,
          0.9430615860902998,
          0.9430615860902998,
          0.943155752976619,
          0.943155752976619,
          0.943155752976619,
          0.943155752976619,
          0.943155752976619,
          0.943155752976619,
          0.943155752976619,
          0.943155752976619,
          0.943155752976619,
          0.943155752976619,
          0.9486165123981306,
          0.9486165123981306,
          0.9486165123981306
         ]
        },
        {
         "marker": {
          "color": "#cccccc"
         },
         "mode": "markers",
         "name": "Infeasible Trial",
         "showlegend": false,
         "type": "scatter",
         "x": [],
         "y": []
        }
       ],
       "layout": {
        "template": {
         "data": {
          "bar": [
           {
            "error_x": {
             "color": "#2a3f5f"
            },
            "error_y": {
             "color": "#2a3f5f"
            },
            "marker": {
             "line": {
              "color": "#E5ECF6",
              "width": 0.5
             },
             "pattern": {
              "fillmode": "overlay",
              "size": 10,
              "solidity": 0.2
             }
            },
            "type": "bar"
           }
          ],
          "barpolar": [
           {
            "marker": {
             "line": {
              "color": "#E5ECF6",
              "width": 0.5
             },
             "pattern": {
              "fillmode": "overlay",
              "size": 10,
              "solidity": 0.2
             }
            },
            "type": "barpolar"
           }
          ],
          "carpet": [
           {
            "aaxis": {
             "endlinecolor": "#2a3f5f",
             "gridcolor": "white",
             "linecolor": "white",
             "minorgridcolor": "white",
             "startlinecolor": "#2a3f5f"
            },
            "baxis": {
             "endlinecolor": "#2a3f5f",
             "gridcolor": "white",
             "linecolor": "white",
             "minorgridcolor": "white",
             "startlinecolor": "#2a3f5f"
            },
            "type": "carpet"
           }
          ],
          "choropleth": [
           {
            "colorbar": {
             "outlinewidth": 0,
             "ticks": ""
            },
            "type": "choropleth"
           }
          ],
          "contour": [
           {
            "colorbar": {
             "outlinewidth": 0,
             "ticks": ""
            },
            "colorscale": [
             [
              0,
              "#0d0887"
             ],
             [
              0.1111111111111111,
              "#46039f"
             ],
             [
              0.2222222222222222,
              "#7201a8"
             ],
             [
              0.3333333333333333,
              "#9c179e"
             ],
             [
              0.4444444444444444,
              "#bd3786"
             ],
             [
              0.5555555555555556,
              "#d8576b"
             ],
             [
              0.6666666666666666,
              "#ed7953"
             ],
             [
              0.7777777777777778,
              "#fb9f3a"
             ],
             [
              0.8888888888888888,
              "#fdca26"
             ],
             [
              1,
              "#f0f921"
             ]
            ],
            "type": "contour"
           }
          ],
          "contourcarpet": [
           {
            "colorbar": {
             "outlinewidth": 0,
             "ticks": ""
            },
            "type": "contourcarpet"
           }
          ],
          "heatmap": [
           {
            "colorbar": {
             "outlinewidth": 0,
             "ticks": ""
            },
            "colorscale": [
             [
              0,
              "#0d0887"
             ],
             [
              0.1111111111111111,
              "#46039f"
             ],
             [
              0.2222222222222222,
              "#7201a8"
             ],
             [
              0.3333333333333333,
              "#9c179e"
             ],
             [
              0.4444444444444444,
              "#bd3786"
             ],
             [
              0.5555555555555556,
              "#d8576b"
             ],
             [
              0.6666666666666666,
              "#ed7953"
             ],
             [
              0.7777777777777778,
              "#fb9f3a"
             ],
             [
              0.8888888888888888,
              "#fdca26"
             ],
             [
              1,
              "#f0f921"
             ]
            ],
            "type": "heatmap"
           }
          ],
          "histogram": [
           {
            "marker": {
             "pattern": {
              "fillmode": "overlay",
              "size": 10,
              "solidity": 0.2
             }
            },
            "type": "histogram"
           }
          ],
          "histogram2d": [
           {
            "colorbar": {
             "outlinewidth": 0,
             "ticks": ""
            },
            "colorscale": [
             [
              0,
              "#0d0887"
             ],
             [
              0.1111111111111111,
              "#46039f"
             ],
             [
              0.2222222222222222,
              "#7201a8"
             ],
             [
              0.3333333333333333,
              "#9c179e"
             ],
             [
              0.4444444444444444,
              "#bd3786"
             ],
             [
              0.5555555555555556,
              "#d8576b"
             ],
             [
              0.6666666666666666,
              "#ed7953"
             ],
             [
              0.7777777777777778,
              "#fb9f3a"
             ],
             [
              0.8888888888888888,
              "#fdca26"
             ],
             [
              1,
              "#f0f921"
             ]
            ],
            "type": "histogram2d"
           }
          ],
          "histogram2dcontour": [
           {
            "colorbar": {
             "outlinewidth": 0,
             "ticks": ""
            },
            "colorscale": [
             [
              0,
              "#0d0887"
             ],
             [
              0.1111111111111111,
              "#46039f"
             ],
             [
              0.2222222222222222,
              "#7201a8"
             ],
             [
              0.3333333333333333,
              "#9c179e"
             ],
             [
              0.4444444444444444,
              "#bd3786"
             ],
             [
              0.5555555555555556,
              "#d8576b"
             ],
             [
              0.6666666666666666,
              "#ed7953"
             ],
             [
              0.7777777777777778,
              "#fb9f3a"
             ],
             [
              0.8888888888888888,
              "#fdca26"
             ],
             [
              1,
              "#f0f921"
             ]
            ],
            "type": "histogram2dcontour"
           }
          ],
          "mesh3d": [
           {
            "colorbar": {
             "outlinewidth": 0,
             "ticks": ""
            },
            "type": "mesh3d"
           }
          ],
          "parcoords": [
           {
            "line": {
             "colorbar": {
              "outlinewidth": 0,
              "ticks": ""
             }
            },
            "type": "parcoords"
           }
          ],
          "pie": [
           {
            "automargin": true,
            "type": "pie"
           }
          ],
          "scatter": [
           {
            "fillpattern": {
             "fillmode": "overlay",
             "size": 10,
             "solidity": 0.2
            },
            "type": "scatter"
           }
          ],
          "scatter3d": [
           {
            "line": {
             "colorbar": {
              "outlinewidth": 0,
              "ticks": ""
             }
            },
            "marker": {
             "colorbar": {
              "outlinewidth": 0,
              "ticks": ""
             }
            },
            "type": "scatter3d"
           }
          ],
          "scattercarpet": [
           {
            "marker": {
             "colorbar": {
              "outlinewidth": 0,
              "ticks": ""
             }
            },
            "type": "scattercarpet"
           }
          ],
          "scattergeo": [
           {
            "marker": {
             "colorbar": {
              "outlinewidth": 0,
              "ticks": ""
             }
            },
            "type": "scattergeo"
           }
          ],
          "scattergl": [
           {
            "marker": {
             "colorbar": {
              "outlinewidth": 0,
              "ticks": ""
             }
            },
            "type": "scattergl"
           }
          ],
          "scattermap": [
           {
            "marker": {
             "colorbar": {
              "outlinewidth": 0,
              "ticks": ""
             }
            },
            "type": "scattermap"
           }
          ],
          "scattermapbox": [
           {
            "marker": {
             "colorbar": {
              "outlinewidth": 0,
              "ticks": ""
             }
            },
            "type": "scattermapbox"
           }
          ],
          "scatterpolar": [
           {
            "marker": {
             "colorbar": {
              "outlinewidth": 0,
              "ticks": ""
             }
            },
            "type": "scatterpolar"
           }
          ],
          "scatterpolargl": [
           {
            "marker": {
             "colorbar": {
              "outlinewidth": 0,
              "ticks": ""
             }
            },
            "type": "scatterpolargl"
           }
          ],
          "scatterternary": [
           {
            "marker": {
             "colorbar": {
              "outlinewidth": 0,
              "ticks": ""
             }
            },
            "type": "scatterternary"
           }
          ],
          "surface": [
           {
            "colorbar": {
             "outlinewidth": 0,
             "ticks": ""
            },
            "colorscale": [
             [
              0,
              "#0d0887"
             ],
             [
              0.1111111111111111,
              "#46039f"
             ],
             [
              0.2222222222222222,
              "#7201a8"
             ],
             [
              0.3333333333333333,
              "#9c179e"
             ],
             [
              0.4444444444444444,
              "#bd3786"
             ],
             [
              0.5555555555555556,
              "#d8576b"
             ],
             [
              0.6666666666666666,
              "#ed7953"
             ],
             [
              0.7777777777777778,
              "#fb9f3a"
             ],
             [
              0.8888888888888888,
              "#fdca26"
             ],
             [
              1,
              "#f0f921"
             ]
            ],
            "type": "surface"
           }
          ],
          "table": [
           {
            "cells": {
             "fill": {
              "color": "#EBF0F8"
             },
             "line": {
              "color": "white"
             }
            },
            "header": {
             "fill": {
              "color": "#C8D4E3"
             },
             "line": {
              "color": "white"
             }
            },
            "type": "table"
           }
          ]
         },
         "layout": {
          "annotationdefaults": {
           "arrowcolor": "#2a3f5f",
           "arrowhead": 0,
           "arrowwidth": 1
          },
          "autotypenumbers": "strict",
          "coloraxis": {
           "colorbar": {
            "outlinewidth": 0,
            "ticks": ""
           }
          },
          "colorscale": {
           "diverging": [
            [
             0,
             "#8e0152"
            ],
            [
             0.1,
             "#c51b7d"
            ],
            [
             0.2,
             "#de77ae"
            ],
            [
             0.3,
             "#f1b6da"
            ],
            [
             0.4,
             "#fde0ef"
            ],
            [
             0.5,
             "#f7f7f7"
            ],
            [
             0.6,
             "#e6f5d0"
            ],
            [
             0.7,
             "#b8e186"
            ],
            [
             0.8,
             "#7fbc41"
            ],
            [
             0.9,
             "#4d9221"
            ],
            [
             1,
             "#276419"
            ]
           ],
           "sequential": [
            [
             0,
             "#0d0887"
            ],
            [
             0.1111111111111111,
             "#46039f"
            ],
            [
             0.2222222222222222,
             "#7201a8"
            ],
            [
             0.3333333333333333,
             "#9c179e"
            ],
            [
             0.4444444444444444,
             "#bd3786"
            ],
            [
             0.5555555555555556,
             "#d8576b"
            ],
            [
             0.6666666666666666,
             "#ed7953"
            ],
            [
             0.7777777777777778,
             "#fb9f3a"
            ],
            [
             0.8888888888888888,
             "#fdca26"
            ],
            [
             1,
             "#f0f921"
            ]
           ],
           "sequentialminus": [
            [
             0,
             "#0d0887"
            ],
            [
             0.1111111111111111,
             "#46039f"
            ],
            [
             0.2222222222222222,
             "#7201a8"
            ],
            [
             0.3333333333333333,
             "#9c179e"
            ],
            [
             0.4444444444444444,
             "#bd3786"
            ],
            [
             0.5555555555555556,
             "#d8576b"
            ],
            [
             0.6666666666666666,
             "#ed7953"
            ],
            [
             0.7777777777777778,
             "#fb9f3a"
            ],
            [
             0.8888888888888888,
             "#fdca26"
            ],
            [
             1,
             "#f0f921"
            ]
           ]
          },
          "colorway": [
           "#636efa",
           "#EF553B",
           "#00cc96",
           "#ab63fa",
           "#FFA15A",
           "#19d3f3",
           "#FF6692",
           "#B6E880",
           "#FF97FF",
           "#FECB52"
          ],
          "font": {
           "color": "#2a3f5f"
          },
          "geo": {
           "bgcolor": "white",
           "lakecolor": "white",
           "landcolor": "#E5ECF6",
           "showlakes": true,
           "showland": true,
           "subunitcolor": "white"
          },
          "hoverlabel": {
           "align": "left"
          },
          "hovermode": "closest",
          "mapbox": {
           "style": "light"
          },
          "paper_bgcolor": "white",
          "plot_bgcolor": "#E5ECF6",
          "polar": {
           "angularaxis": {
            "gridcolor": "white",
            "linecolor": "white",
            "ticks": ""
           },
           "bgcolor": "#E5ECF6",
           "radialaxis": {
            "gridcolor": "white",
            "linecolor": "white",
            "ticks": ""
           }
          },
          "scene": {
           "xaxis": {
            "backgroundcolor": "#E5ECF6",
            "gridcolor": "white",
            "gridwidth": 2,
            "linecolor": "white",
            "showbackground": true,
            "ticks": "",
            "zerolinecolor": "white"
           },
           "yaxis": {
            "backgroundcolor": "#E5ECF6",
            "gridcolor": "white",
            "gridwidth": 2,
            "linecolor": "white",
            "showbackground": true,
            "ticks": "",
            "zerolinecolor": "white"
           },
           "zaxis": {
            "backgroundcolor": "#E5ECF6",
            "gridcolor": "white",
            "gridwidth": 2,
            "linecolor": "white",
            "showbackground": true,
            "ticks": "",
            "zerolinecolor": "white"
           }
          },
          "shapedefaults": {
           "line": {
            "color": "#2a3f5f"
           }
          },
          "ternary": {
           "aaxis": {
            "gridcolor": "white",
            "linecolor": "white",
            "ticks": ""
           },
           "baxis": {
            "gridcolor": "white",
            "linecolor": "white",
            "ticks": ""
           },
           "bgcolor": "#E5ECF6",
           "caxis": {
            "gridcolor": "white",
            "linecolor": "white",
            "ticks": ""
           }
          },
          "title": {
           "x": 0.05
          },
          "xaxis": {
           "automargin": true,
           "gridcolor": "white",
           "linecolor": "white",
           "ticks": "",
           "title": {
            "standoff": 15
           },
           "zerolinecolor": "white",
           "zerolinewidth": 2
          },
          "yaxis": {
           "automargin": true,
           "gridcolor": "white",
           "linecolor": "white",
           "ticks": "",
           "title": {
            "standoff": 15
           },
           "zerolinecolor": "white",
           "zerolinewidth": 2
          }
         }
        },
        "title": {
         "text": "Optuna Optimization History (F1-Score)"
        },
        "xaxis": {
         "title": {
          "text": "Trial"
         }
        },
        "yaxis": {
         "title": {
          "text": "Objective Value"
         }
        }
       }
      }
     },
     "metadata": {},
     "output_type": "display_data"
    },
    {
     "data": {
      "application/vnd.plotly.v1+json": {
       "config": {
        "plotlyServerURL": "https://plot.ly"
       },
       "data": [
        {
         "cliponaxis": false,
         "hovertemplate": [
          "max_depth (IntDistribution): 0.007160580302592591<extra></extra>",
          "colsample_bytree (FloatDistribution): 0.015928401880949208<extra></extra>",
          "subsample (FloatDistribution): 0.048972067054670006<extra></extra>",
          "reg_lambda (FloatDistribution): 0.0839054379661114<extra></extra>",
          "gamma (FloatDistribution): 0.08928544555303372<extra></extra>",
          "reg_alpha (FloatDistribution): 0.10793606404154124<extra></extra>",
          "learning_rate (FloatDistribution): 0.2766753257328017<extra></extra>",
          "n_estimators (IntDistribution): 0.3701366774683003<extra></extra>"
         ],
         "name": "Objective Value",
         "orientation": "h",
         "text": [
          "<0.01",
          "0.02",
          "0.05",
          "0.08",
          "0.09",
          "0.11",
          "0.28",
          "0.37"
         ],
         "textposition": "outside",
         "type": "bar",
         "x": [
          0.007160580302592591,
          0.015928401880949208,
          0.048972067054670006,
          0.0839054379661114,
          0.08928544555303372,
          0.10793606404154124,
          0.2766753257328017,
          0.3701366774683003
         ],
         "y": [
          "max_depth",
          "colsample_bytree",
          "subsample",
          "reg_lambda",
          "gamma",
          "reg_alpha",
          "learning_rate",
          "n_estimators"
         ]
        }
       ],
       "layout": {
        "template": {
         "data": {
          "bar": [
           {
            "error_x": {
             "color": "#2a3f5f"
            },
            "error_y": {
             "color": "#2a3f5f"
            },
            "marker": {
             "line": {
              "color": "#E5ECF6",
              "width": 0.5
             },
             "pattern": {
              "fillmode": "overlay",
              "size": 10,
              "solidity": 0.2
             }
            },
            "type": "bar"
           }
          ],
          "barpolar": [
           {
            "marker": {
             "line": {
              "color": "#E5ECF6",
              "width": 0.5
             },
             "pattern": {
              "fillmode": "overlay",
              "size": 10,
              "solidity": 0.2
             }
            },
            "type": "barpolar"
           }
          ],
          "carpet": [
           {
            "aaxis": {
             "endlinecolor": "#2a3f5f",
             "gridcolor": "white",
             "linecolor": "white",
             "minorgridcolor": "white",
             "startlinecolor": "#2a3f5f"
            },
            "baxis": {
             "endlinecolor": "#2a3f5f",
             "gridcolor": "white",
             "linecolor": "white",
             "minorgridcolor": "white",
             "startlinecolor": "#2a3f5f"
            },
            "type": "carpet"
           }
          ],
          "choropleth": [
           {
            "colorbar": {
             "outlinewidth": 0,
             "ticks": ""
            },
            "type": "choropleth"
           }
          ],
          "contour": [
           {
            "colorbar": {
             "outlinewidth": 0,
             "ticks": ""
            },
            "colorscale": [
             [
              0,
              "#0d0887"
             ],
             [
              0.1111111111111111,
              "#46039f"
             ],
             [
              0.2222222222222222,
              "#7201a8"
             ],
             [
              0.3333333333333333,
              "#9c179e"
             ],
             [
              0.4444444444444444,
              "#bd3786"
             ],
             [
              0.5555555555555556,
              "#d8576b"
             ],
             [
              0.6666666666666666,
              "#ed7953"
             ],
             [
              0.7777777777777778,
              "#fb9f3a"
             ],
             [
              0.8888888888888888,
              "#fdca26"
             ],
             [
              1,
              "#f0f921"
             ]
            ],
            "type": "contour"
           }
          ],
          "contourcarpet": [
           {
            "colorbar": {
             "outlinewidth": 0,
             "ticks": ""
            },
            "type": "contourcarpet"
           }
          ],
          "heatmap": [
           {
            "colorbar": {
             "outlinewidth": 0,
             "ticks": ""
            },
            "colorscale": [
             [
              0,
              "#0d0887"
             ],
             [
              0.1111111111111111,
              "#46039f"
             ],
             [
              0.2222222222222222,
              "#7201a8"
             ],
             [
              0.3333333333333333,
              "#9c179e"
             ],
             [
              0.4444444444444444,
              "#bd3786"
             ],
             [
              0.5555555555555556,
              "#d8576b"
             ],
             [
              0.6666666666666666,
              "#ed7953"
             ],
             [
              0.7777777777777778,
              "#fb9f3a"
             ],
             [
              0.8888888888888888,
              "#fdca26"
             ],
             [
              1,
              "#f0f921"
             ]
            ],
            "type": "heatmap"
           }
          ],
          "histogram": [
           {
            "marker": {
             "pattern": {
              "fillmode": "overlay",
              "size": 10,
              "solidity": 0.2
             }
            },
            "type": "histogram"
           }
          ],
          "histogram2d": [
           {
            "colorbar": {
             "outlinewidth": 0,
             "ticks": ""
            },
            "colorscale": [
             [
              0,
              "#0d0887"
             ],
             [
              0.1111111111111111,
              "#46039f"
             ],
             [
              0.2222222222222222,
              "#7201a8"
             ],
             [
              0.3333333333333333,
              "#9c179e"
             ],
             [
              0.4444444444444444,
              "#bd3786"
             ],
             [
              0.5555555555555556,
              "#d8576b"
             ],
             [
              0.6666666666666666,
              "#ed7953"
             ],
             [
              0.7777777777777778,
              "#fb9f3a"
             ],
             [
              0.8888888888888888,
              "#fdca26"
             ],
             [
              1,
              "#f0f921"
             ]
            ],
            "type": "histogram2d"
           }
          ],
          "histogram2dcontour": [
           {
            "colorbar": {
             "outlinewidth": 0,
             "ticks": ""
            },
            "colorscale": [
             [
              0,
              "#0d0887"
             ],
             [
              0.1111111111111111,
              "#46039f"
             ],
             [
              0.2222222222222222,
              "#7201a8"
             ],
             [
              0.3333333333333333,
              "#9c179e"
             ],
             [
              0.4444444444444444,
              "#bd3786"
             ],
             [
              0.5555555555555556,
              "#d8576b"
             ],
             [
              0.6666666666666666,
              "#ed7953"
             ],
             [
              0.7777777777777778,
              "#fb9f3a"
             ],
             [
              0.8888888888888888,
              "#fdca26"
             ],
             [
              1,
              "#f0f921"
             ]
            ],
            "type": "histogram2dcontour"
           }
          ],
          "mesh3d": [
           {
            "colorbar": {
             "outlinewidth": 0,
             "ticks": ""
            },
            "type": "mesh3d"
           }
          ],
          "parcoords": [
           {
            "line": {
             "colorbar": {
              "outlinewidth": 0,
              "ticks": ""
             }
            },
            "type": "parcoords"
           }
          ],
          "pie": [
           {
            "automargin": true,
            "type": "pie"
           }
          ],
          "scatter": [
           {
            "fillpattern": {
             "fillmode": "overlay",
             "size": 10,
             "solidity": 0.2
            },
            "type": "scatter"
           }
          ],
          "scatter3d": [
           {
            "line": {
             "colorbar": {
              "outlinewidth": 0,
              "ticks": ""
             }
            },
            "marker": {
             "colorbar": {
              "outlinewidth": 0,
              "ticks": ""
             }
            },
            "type": "scatter3d"
           }
          ],
          "scattercarpet": [
           {
            "marker": {
             "colorbar": {
              "outlinewidth": 0,
              "ticks": ""
             }
            },
            "type": "scattercarpet"
           }
          ],
          "scattergeo": [
           {
            "marker": {
             "colorbar": {
              "outlinewidth": 0,
              "ticks": ""
             }
            },
            "type": "scattergeo"
           }
          ],
          "scattergl": [
           {
            "marker": {
             "colorbar": {
              "outlinewidth": 0,
              "ticks": ""
             }
            },
            "type": "scattergl"
           }
          ],
          "scattermap": [
           {
            "marker": {
             "colorbar": {
              "outlinewidth": 0,
              "ticks": ""
             }
            },
            "type": "scattermap"
           }
          ],
          "scattermapbox": [
           {
            "marker": {
             "colorbar": {
              "outlinewidth": 0,
              "ticks": ""
             }
            },
            "type": "scattermapbox"
           }
          ],
          "scatterpolar": [
           {
            "marker": {
             "colorbar": {
              "outlinewidth": 0,
              "ticks": ""
             }
            },
            "type": "scatterpolar"
           }
          ],
          "scatterpolargl": [
           {
            "marker": {
             "colorbar": {
              "outlinewidth": 0,
              "ticks": ""
             }
            },
            "type": "scatterpolargl"
           }
          ],
          "scatterternary": [
           {
            "marker": {
             "colorbar": {
              "outlinewidth": 0,
              "ticks": ""
             }
            },
            "type": "scatterternary"
           }
          ],
          "surface": [
           {
            "colorbar": {
             "outlinewidth": 0,
             "ticks": ""
            },
            "colorscale": [
             [
              0,
              "#0d0887"
             ],
             [
              0.1111111111111111,
              "#46039f"
             ],
             [
              0.2222222222222222,
              "#7201a8"
             ],
             [
              0.3333333333333333,
              "#9c179e"
             ],
             [
              0.4444444444444444,
              "#bd3786"
             ],
             [
              0.5555555555555556,
              "#d8576b"
             ],
             [
              0.6666666666666666,
              "#ed7953"
             ],
             [
              0.7777777777777778,
              "#fb9f3a"
             ],
             [
              0.8888888888888888,
              "#fdca26"
             ],
             [
              1,
              "#f0f921"
             ]
            ],
            "type": "surface"
           }
          ],
          "table": [
           {
            "cells": {
             "fill": {
              "color": "#EBF0F8"
             },
             "line": {
              "color": "white"
             }
            },
            "header": {
             "fill": {
              "color": "#C8D4E3"
             },
             "line": {
              "color": "white"
             }
            },
            "type": "table"
           }
          ]
         },
         "layout": {
          "annotationdefaults": {
           "arrowcolor": "#2a3f5f",
           "arrowhead": 0,
           "arrowwidth": 1
          },
          "autotypenumbers": "strict",
          "coloraxis": {
           "colorbar": {
            "outlinewidth": 0,
            "ticks": ""
           }
          },
          "colorscale": {
           "diverging": [
            [
             0,
             "#8e0152"
            ],
            [
             0.1,
             "#c51b7d"
            ],
            [
             0.2,
             "#de77ae"
            ],
            [
             0.3,
             "#f1b6da"
            ],
            [
             0.4,
             "#fde0ef"
            ],
            [
             0.5,
             "#f7f7f7"
            ],
            [
             0.6,
             "#e6f5d0"
            ],
            [
             0.7,
             "#b8e186"
            ],
            [
             0.8,
             "#7fbc41"
            ],
            [
             0.9,
             "#4d9221"
            ],
            [
             1,
             "#276419"
            ]
           ],
           "sequential": [
            [
             0,
             "#0d0887"
            ],
            [
             0.1111111111111111,
             "#46039f"
            ],
            [
             0.2222222222222222,
             "#7201a8"
            ],
            [
             0.3333333333333333,
             "#9c179e"
            ],
            [
             0.4444444444444444,
             "#bd3786"
            ],
            [
             0.5555555555555556,
             "#d8576b"
            ],
            [
             0.6666666666666666,
             "#ed7953"
            ],
            [
             0.7777777777777778,
             "#fb9f3a"
            ],
            [
             0.8888888888888888,
             "#fdca26"
            ],
            [
             1,
             "#f0f921"
            ]
           ],
           "sequentialminus": [
            [
             0,
             "#0d0887"
            ],
            [
             0.1111111111111111,
             "#46039f"
            ],
            [
             0.2222222222222222,
             "#7201a8"
            ],
            [
             0.3333333333333333,
             "#9c179e"
            ],
            [
             0.4444444444444444,
             "#bd3786"
            ],
            [
             0.5555555555555556,
             "#d8576b"
            ],
            [
             0.6666666666666666,
             "#ed7953"
            ],
            [
             0.7777777777777778,
             "#fb9f3a"
            ],
            [
             0.8888888888888888,
             "#fdca26"
            ],
            [
             1,
             "#f0f921"
            ]
           ]
          },
          "colorway": [
           "#636efa",
           "#EF553B",
           "#00cc96",
           "#ab63fa",
           "#FFA15A",
           "#19d3f3",
           "#FF6692",
           "#B6E880",
           "#FF97FF",
           "#FECB52"
          ],
          "font": {
           "color": "#2a3f5f"
          },
          "geo": {
           "bgcolor": "white",
           "lakecolor": "white",
           "landcolor": "#E5ECF6",
           "showlakes": true,
           "showland": true,
           "subunitcolor": "white"
          },
          "hoverlabel": {
           "align": "left"
          },
          "hovermode": "closest",
          "mapbox": {
           "style": "light"
          },
          "paper_bgcolor": "white",
          "plot_bgcolor": "#E5ECF6",
          "polar": {
           "angularaxis": {
            "gridcolor": "white",
            "linecolor": "white",
            "ticks": ""
           },
           "bgcolor": "#E5ECF6",
           "radialaxis": {
            "gridcolor": "white",
            "linecolor": "white",
            "ticks": ""
           }
          },
          "scene": {
           "xaxis": {
            "backgroundcolor": "#E5ECF6",
            "gridcolor": "white",
            "gridwidth": 2,
            "linecolor": "white",
            "showbackground": true,
            "ticks": "",
            "zerolinecolor": "white"
           },
           "yaxis": {
            "backgroundcolor": "#E5ECF6",
            "gridcolor": "white",
            "gridwidth": 2,
            "linecolor": "white",
            "showbackground": true,
            "ticks": "",
            "zerolinecolor": "white"
           },
           "zaxis": {
            "backgroundcolor": "#E5ECF6",
            "gridcolor": "white",
            "gridwidth": 2,
            "linecolor": "white",
            "showbackground": true,
            "ticks": "",
            "zerolinecolor": "white"
           }
          },
          "shapedefaults": {
           "line": {
            "color": "#2a3f5f"
           }
          },
          "ternary": {
           "aaxis": {
            "gridcolor": "white",
            "linecolor": "white",
            "ticks": ""
           },
           "baxis": {
            "gridcolor": "white",
            "linecolor": "white",
            "ticks": ""
           },
           "bgcolor": "#E5ECF6",
           "caxis": {
            "gridcolor": "white",
            "linecolor": "white",
            "ticks": ""
           }
          },
          "title": {
           "x": 0.05
          },
          "xaxis": {
           "automargin": true,
           "gridcolor": "white",
           "linecolor": "white",
           "ticks": "",
           "title": {
            "standoff": 15
           },
           "zerolinecolor": "white",
           "zerolinewidth": 2
          },
          "yaxis": {
           "automargin": true,
           "gridcolor": "white",
           "linecolor": "white",
           "ticks": "",
           "title": {
            "standoff": 15
           },
           "zerolinecolor": "white",
           "zerolinewidth": 2
          }
         }
        },
        "title": {
         "text": "Hyperparameter Importances"
        },
        "xaxis": {
         "title": {
          "text": "Hyperparameter Importance"
         }
        },
        "yaxis": {
         "title": {
          "text": "Hyperparameter"
         }
        }
       }
      }
     },
     "metadata": {},
     "output_type": "display_data"
    },
    {
     "data": {
      "application/vnd.plotly.v1+json": {
       "config": {
        "plotlyServerURL": "https://plot.ly"
       },
       "data": [
        {
         "marker": {
          "color": [
           0,
           1,
           2,
           3,
           4,
           5,
           6,
           7,
           8,
           9,
           10,
           11,
           12,
           13,
           14,
           15,
           16,
           17,
           18,
           19,
           20,
           21,
           22,
           23,
           24,
           25,
           26,
           27,
           28,
           29,
           30,
           31,
           32,
           33,
           34,
           35,
           36,
           37,
           38,
           39,
           40,
           41,
           42,
           43,
           44,
           45,
           46,
           47,
           48,
           49
          ],
          "colorbar": {
           "title": {
            "text": "Trial"
           },
           "x": 1,
           "xpad": 40
          },
          "colorscale": [
           [
            0,
            "rgb(247,251,255)"
           ],
           [
            0.125,
            "rgb(222,235,247)"
           ],
           [
            0.25,
            "rgb(198,219,239)"
           ],
           [
            0.375,
            "rgb(158,202,225)"
           ],
           [
            0.5,
            "rgb(107,174,214)"
           ],
           [
            0.625,
            "rgb(66,146,198)"
           ],
           [
            0.75,
            "rgb(33,113,181)"
           ],
           [
            0.875,
            "rgb(8,81,156)"
           ],
           [
            1,
            "rgb(8,48,107)"
           ]
          ],
          "line": {
           "color": "Grey",
           "width": 0.5
          },
          "showscale": true
         },
         "mode": "markers",
         "name": "Feasible Trial",
         "showlegend": false,
         "type": "scatter",
         "x": [
          0.5780093202212182,
          0.9162213204002109,
          0.8059264473611898,
          0.7962072844310213,
          0.6523068845866853,
          0.6293899908000085,
          0.9697494707820946,
          0.6943386448447411,
          0.5372753218398854,
          0.8856351733429728,
          0.8770690800880656,
          0.9717595030924887,
          0.8864550600123169,
          0.8743294455456313,
          0.9307689382336943,
          0.7756848803021621,
          0.9993615722428796,
          0.8426133099911273,
          0.71804991678614,
          0.7421908381743831,
          0.7159288929998385,
          0.9149706102735462,
          0.8204115858567087,
          0.6683050342129456,
          0.6610679688214769,
          0.6166275299131155,
          0.7558603275558285,
          0.5036445160187465,
          0.7055120330282184,
          0.5886417935302463,
          0.5730681784765594,
          0.514864797928912,
          0.5683797617939496,
          0.7342838940485049,
          0.6811071583589248,
          0.6814172024521776,
          0.660769563406926,
          0.6172894699068588,
          0.6183010231948016,
          0.7796030282285746,
          0.7907583006829646,
          0.7906857903470916,
          0.8286440843070175,
          0.7594185264085779,
          0.8412597774415306,
          0.7992388457464253,
          0.8664053044761729,
          0.9031483836902796,
          0.911202969961542,
          0.9460388522724476
         ],
         "xaxis": "x",
         "y": [
          0.9250103078931113,
          0.9328437354342375,
          0.9251044266014667,
          0.9251044266014667,
          0.9250103078931113,
          0.8468049415408737,
          0.8979889397608612,
          0.803532884491502,
          0.9222949656747865,
          0.9430615860902998,
          0.9250103078931113,
          0.9235550610749494,
          0.914970294657546,
          0.925198591258138,
          0.915222405814896,
          0.9250103078931113,
          0.907395361996223,
          0.8908471054500506,
          0.9430615860902998,
          0.906278209886072,
          0.9150493647697421,
          0.9251044266014667,
          0.9004000720001285,
          0.9329379481329648,
          0.9327495687437016,
          0.915222405814896,
          0.9153165702757838,
          0.9329379481329648,
          0.9251044266014667,
          0.914954429540161,
          0.9327495687437016,
          0.9153165702757838,
          0.9153165702757838,
          0.9328437354342375,
          0.9391087695630487,
          0.9235550610749494,
          0.8688088993276499,
          0.943155752976619,
          0.925198591258138,
          0.9430615860902998,
          0.9430615860902998,
          0.9430615860902998,
          0.9250103078931113,
          0.9430615860902998,
          0.9251044266014667,
          0.9327495687437016,
          0.8939811495448422,
          0.9486165123981306,
          0.9234608945954541,
          0.888069424624257
         ],
         "yaxis": "y"
        },
        {
         "marker": {
          "color": [
           0,
           1,
           2,
           3,
           4,
           5,
           6,
           7,
           8,
           9,
           10,
           11,
           12,
           13,
           14,
           15,
           16,
           17,
           18,
           19,
           20,
           21,
           22,
           23,
           24,
           25,
           26,
           27,
           28,
           29,
           30,
           31,
           32,
           33,
           34,
           35,
           36,
           37,
           38,
           39,
           40,
           41,
           42,
           43,
           44,
           45,
           46,
           47,
           48,
           49
          ],
          "colorbar": {
           "title": {
            "text": "Trial"
           },
           "x": 1,
           "xpad": 40
          },
          "colorscale": [
           [
            0,
            "rgb(247,251,255)"
           ],
           [
            0.125,
            "rgb(222,235,247)"
           ],
           [
            0.25,
            "rgb(198,219,239)"
           ],
           [
            0.375,
            "rgb(158,202,225)"
           ],
           [
            0.5,
            "rgb(107,174,214)"
           ],
           [
            0.625,
            "rgb(66,146,198)"
           ],
           [
            0.75,
            "rgb(33,113,181)"
           ],
           [
            0.875,
            "rgb(8,81,156)"
           ],
           [
            1,
            "rgb(8,48,107)"
           ]
          ],
          "line": {
           "color": "Grey",
           "width": 0.5
          },
          "showscale": false
         },
         "mode": "markers",
         "name": "Feasible Trial",
         "showlegend": false,
         "type": "scatter",
         "x": [
          0.7799726016810132,
          1.0616955533913808,
          0.6974693032602092,
          0.23225206359998862,
          0.48836057003191935,
          3.31261142176991,
          4.474136752138244,
          1.3567451588694794,
          4.9344346830025865,
          0.3702232586704518,
          2.096390561241048,
          1.7939314875484835,
          2.6388944651501602,
          0.01784971403017588,
          1.3805173532628663,
          2.8128928815738257,
          1.2090566742174598,
          3.5359723928317566,
          0.9396731082894904,
          1.8859411466215472,
          0.3707731696901395,
          1.019098835441976,
          1.5949851101775123,
          0.923141869919963,
          2.3031739737789234,
          0.7128207058165171,
          0.14160508075427003,
          0.9485798028610363,
          0.5792599716981898,
          1.5676063661889863,
          2.995197872145817,
          0.9382411840194043,
          0.9003086257996423,
          0.5580727060103948,
          1.1818811479058728,
          0.2943851808953415,
          1.302684263592739,
          0.7225954499111111,
          0.01333980638640675,
          0.4403058465602697,
          0.6783852774742457,
          0.4310661283643323,
          0.7292243742504104,
          0.47467925383884657,
          0.2637613883004015,
          0.6784474479652929,
          3.944179129308928,
          1.5485601338104753,
          1.5168665510700026,
          1.9873455783493728
         ],
         "xaxis": "x2",
         "y": [
          0.9250103078931113,
          0.9328437354342375,
          0.9251044266014667,
          0.9251044266014667,
          0.9250103078931113,
          0.8468049415408737,
          0.8979889397608612,
          0.803532884491502,
          0.9222949656747865,
          0.9430615860902998,
          0.9250103078931113,
          0.9235550610749494,
          0.914970294657546,
          0.925198591258138,
          0.915222405814896,
          0.9250103078931113,
          0.907395361996223,
          0.8908471054500506,
          0.9430615860902998,
          0.906278209886072,
          0.9150493647697421,
          0.9251044266014667,
          0.9004000720001285,
          0.9329379481329648,
          0.9327495687437016,
          0.915222405814896,
          0.9153165702757838,
          0.9329379481329648,
          0.9251044266014667,
          0.914954429540161,
          0.9327495687437016,
          0.9153165702757838,
          0.9153165702757838,
          0.9328437354342375,
          0.9391087695630487,
          0.9235550610749494,
          0.8688088993276499,
          0.943155752976619,
          0.925198591258138,
          0.9430615860902998,
          0.9430615860902998,
          0.9430615860902998,
          0.9250103078931113,
          0.9430615860902998,
          0.9251044266014667,
          0.9327495687437016,
          0.8939811495448422,
          0.9486165123981306,
          0.9234608945954541,
          0.888069424624257
         ],
         "yaxis": "y2"
        },
        {
         "marker": {
          "color": [
           0,
           1,
           2,
           3,
           4,
           5,
           6,
           7,
           8,
           9,
           10,
           11,
           12,
           13,
           14,
           15,
           16,
           17,
           18,
           19,
           20,
           21,
           22,
           23,
           24,
           25,
           26,
           27,
           28,
           29,
           30,
           31,
           32,
           33,
           34,
           35,
           36,
           37,
           38,
           39,
           40,
           41,
           42,
           43,
           44,
           45,
           46,
           47,
           48,
           49
          ],
          "colorbar": {
           "title": {
            "text": "Trial"
           },
           "x": 1,
           "xpad": 40
          },
          "colorscale": [
           [
            0,
            "rgb(247,251,255)"
           ],
           [
            0.125,
            "rgb(222,235,247)"
           ],
           [
            0.25,
            "rgb(198,219,239)"
           ],
           [
            0.375,
            "rgb(158,202,225)"
           ],
           [
            0.5,
            "rgb(107,174,214)"
           ],
           [
            0.625,
            "rgb(66,146,198)"
           ],
           [
            0.75,
            "rgb(33,113,181)"
           ],
           [
            0.875,
            "rgb(8,81,156)"
           ],
           [
            1,
            "rgb(8,48,107)"
           ]
          ],
          "line": {
           "color": "Grey",
           "width": 0.5
          },
          "showscale": false
         },
         "mode": "markers",
         "name": "Feasible Trial",
         "showlegend": false,
         "type": "scatter",
         "x": [
          0.11861663446573512,
          0.18432335340553055,
          0.09823025045826593,
          0.1422602954229404,
          0.02886496196573106,
          0.045391088104985856,
          0.1685459810095511,
          0.03566282559505665,
          0.09147100780934041,
          0.011601413965844696,
          0.2647891979752343,
          0.2259516608407133,
          0.1954938375473548,
          0.2840673647065922,
          0.22197975031348205,
          0.1686837171934692,
          0.07336112273050144,
          0.01023467946429813,
          0.13649978960074022,
          0.13364053316728727,
          0.06669535907500572,
          0.19640198180091425,
          0.24039202510247548,
          0.19123445483937648,
          0.1140778881820452,
          0.29979510835429424,
          0.2503401775002799,
          0.21017087837735787,
          0.154633024099922,
          0.1252166636418829,
          0.10009769163316082,
          0.2230313420698033,
          0.19792755392545267,
          0.17569765750651428,
          0.2097388200299059,
          0.1552915445991553,
          0.05979322112324996,
          0.18572632917675896,
          0.14809473051704045,
          0.25347936908189306,
          0.25756614251527216,
          0.2663967083915026,
          0.24704145858752194,
          0.2700330286743068,
          0.29925934348652117,
          0.28104071652914125,
          0.23639744934929519,
          0.08901379915169082,
          0.08872527917837253,
          0.048024962433257996
         ],
         "xaxis": "x3",
         "y": [
          0.9250103078931113,
          0.9328437354342375,
          0.9251044266014667,
          0.9251044266014667,
          0.9250103078931113,
          0.8468049415408737,
          0.8979889397608612,
          0.803532884491502,
          0.9222949656747865,
          0.9430615860902998,
          0.9250103078931113,
          0.9235550610749494,
          0.914970294657546,
          0.925198591258138,
          0.915222405814896,
          0.9250103078931113,
          0.907395361996223,
          0.8908471054500506,
          0.9430615860902998,
          0.906278209886072,
          0.9150493647697421,
          0.9251044266014667,
          0.9004000720001285,
          0.9329379481329648,
          0.9327495687437016,
          0.915222405814896,
          0.9153165702757838,
          0.9329379481329648,
          0.9251044266014667,
          0.914954429540161,
          0.9327495687437016,
          0.9153165702757838,
          0.9153165702757838,
          0.9328437354342375,
          0.9391087695630487,
          0.9235550610749494,
          0.8688088993276499,
          0.943155752976619,
          0.925198591258138,
          0.9430615860902998,
          0.9430615860902998,
          0.9430615860902998,
          0.9250103078931113,
          0.9430615860902998,
          0.9251044266014667,
          0.9327495687437016,
          0.8939811495448422,
          0.9486165123981306,
          0.9234608945954541,
          0.888069424624257
         ],
         "yaxis": "y3"
        },
        {
         "marker": {
          "color": [
           0,
           1,
           2,
           3,
           4,
           5,
           6,
           7,
           8,
           9,
           10,
           11,
           12,
           13,
           14,
           15,
           16,
           17,
           18,
           19,
           20,
           21,
           22,
           23,
           24,
           25,
           26,
           27,
           28,
           29,
           30,
           31,
           32,
           33,
           34,
           35,
           36,
           37,
           38,
           39,
           40,
           41,
           42,
           43,
           44,
           45,
           46,
           47,
           48,
           49
          ],
          "colorbar": {
           "title": {
            "text": "Trial"
           },
           "x": 1,
           "xpad": 40
          },
          "colorscale": [
           [
            0,
            "rgb(247,251,255)"
           ],
           [
            0.125,
            "rgb(222,235,247)"
           ],
           [
            0.25,
            "rgb(198,219,239)"
           ],
           [
            0.375,
            "rgb(158,202,225)"
           ],
           [
            0.5,
            "rgb(107,174,214)"
           ],
           [
            0.625,
            "rgb(66,146,198)"
           ],
           [
            0.75,
            "rgb(33,113,181)"
           ],
           [
            0.875,
            "rgb(8,81,156)"
           ],
           [
            1,
            "rgb(8,48,107)"
           ]
          ],
          "line": {
           "color": "Grey",
           "width": 0.5
          },
          "showscale": false
         },
         "mode": "markers",
         "name": "Feasible Trial",
         "showlegend": false,
         "type": "scatter",
         "x": [
          10,
          8,
          7,
          9,
          10,
          6,
          4,
          4,
          7,
          9,
          6,
          8,
          8,
          9,
          8,
          9,
          5,
          10,
          3,
          3,
          3,
          8,
          7,
          5,
          5,
          4,
          5,
          3,
          6,
          4,
          5,
          3,
          3,
          4,
          3,
          4,
          3,
          9,
          10,
          9,
          9,
          9,
          10,
          9,
          9,
          9,
          8,
          7,
          7,
          10
         ],
         "xaxis": "x4",
         "y": [
          0.9250103078931113,
          0.9328437354342375,
          0.9251044266014667,
          0.9251044266014667,
          0.9250103078931113,
          0.8468049415408737,
          0.8979889397608612,
          0.803532884491502,
          0.9222949656747865,
          0.9430615860902998,
          0.9250103078931113,
          0.9235550610749494,
          0.914970294657546,
          0.925198591258138,
          0.915222405814896,
          0.9250103078931113,
          0.907395361996223,
          0.8908471054500506,
          0.9430615860902998,
          0.906278209886072,
          0.9150493647697421,
          0.9251044266014667,
          0.9004000720001285,
          0.9329379481329648,
          0.9327495687437016,
          0.915222405814896,
          0.9153165702757838,
          0.9329379481329648,
          0.9251044266014667,
          0.914954429540161,
          0.9327495687437016,
          0.9153165702757838,
          0.9153165702757838,
          0.9328437354342375,
          0.9391087695630487,
          0.9235550610749494,
          0.8688088993276499,
          0.943155752976619,
          0.925198591258138,
          0.9430615860902998,
          0.9430615860902998,
          0.9430615860902998,
          0.9250103078931113,
          0.9430615860902998,
          0.9251044266014667,
          0.9327495687437016,
          0.8939811495448422,
          0.9486165123981306,
          0.9234608945954541,
          0.888069424624257
         ],
         "yaxis": "y4"
        },
        {
         "marker": {
          "color": [
           0,
           1,
           2,
           3,
           4,
           5,
           6,
           7,
           8,
           9,
           10,
           11,
           12,
           13,
           14,
           15,
           16,
           17,
           18,
           19,
           20,
           21,
           22,
           23,
           24,
           25,
           26,
           27,
           28,
           29,
           30,
           31,
           32,
           33,
           34,
           35,
           36,
           37,
           38,
           39,
           40,
           41,
           42,
           43,
           44,
           45,
           46,
           47,
           48,
           49
          ],
          "colorbar": {
           "title": {
            "text": "Trial"
           },
           "x": 1,
           "xpad": 40
          },
          "colorscale": [
           [
            0,
            "rgb(247,251,255)"
           ],
           [
            0.125,
            "rgb(222,235,247)"
           ],
           [
            0.25,
            "rgb(198,219,239)"
           ],
           [
            0.375,
            "rgb(158,202,225)"
           ],
           [
            0.5,
            "rgb(107,174,214)"
           ],
           [
            0.625,
            "rgb(66,146,198)"
           ],
           [
            0.75,
            "rgb(33,113,181)"
           ],
           [
            0.875,
            "rgb(8,81,156)"
           ],
           [
            1,
            "rgb(8,48,107)"
           ]
          ],
          "line": {
           "color": "Grey",
           "width": 0.5
          },
          "showscale": false
         },
         "mode": "markers",
         "name": "Feasible Trial",
         "showlegend": false,
         "type": "scatter",
         "x": [
          393,
          108,
          273,
          180,
          487,
          113,
          488,
          118,
          156,
          383,
          357,
          261,
          388,
          333,
          225,
          442,
          316,
          202,
          424,
          428,
          430,
          383,
          281,
          343,
          341,
          369,
          452,
          304,
          405,
          407,
          454,
          305,
          344,
          249,
          315,
          366,
          412,
          322,
          288,
          467,
          500,
          493,
          475,
          470,
          468,
          498,
          424,
          449,
          396,
          376
         ],
         "xaxis": "x5",
         "y": [
          0.9250103078931113,
          0.9328437354342375,
          0.9251044266014667,
          0.9251044266014667,
          0.9250103078931113,
          0.8468049415408737,
          0.8979889397608612,
          0.803532884491502,
          0.9222949656747865,
          0.9430615860902998,
          0.9250103078931113,
          0.9235550610749494,
          0.914970294657546,
          0.925198591258138,
          0.915222405814896,
          0.9250103078931113,
          0.907395361996223,
          0.8908471054500506,
          0.9430615860902998,
          0.906278209886072,
          0.9150493647697421,
          0.9251044266014667,
          0.9004000720001285,
          0.9329379481329648,
          0.9327495687437016,
          0.915222405814896,
          0.9153165702757838,
          0.9329379481329648,
          0.9251044266014667,
          0.914954429540161,
          0.9327495687437016,
          0.9153165702757838,
          0.9153165702757838,
          0.9328437354342375,
          0.9391087695630487,
          0.9235550610749494,
          0.8688088993276499,
          0.943155752976619,
          0.925198591258138,
          0.9430615860902998,
          0.9430615860902998,
          0.9430615860902998,
          0.9250103078931113,
          0.9430615860902998,
          0.9251044266014667,
          0.9327495687437016,
          0.8939811495448422,
          0.9486165123981306,
          0.9234608945954541,
          0.888069424624257
         ],
         "yaxis": "y5"
        },
        {
         "marker": {
          "color": [
           0,
           1,
           2,
           3,
           4,
           5,
           6,
           7,
           8,
           9,
           10,
           11,
           12,
           13,
           14,
           15,
           16,
           17,
           18,
           19,
           20,
           21,
           22,
           23,
           24,
           25,
           26,
           27,
           28,
           29,
           30,
           31,
           32,
           33,
           34,
           35,
           36,
           37,
           38,
           39,
           40,
           41,
           42,
           43,
           44,
           45,
           46,
           47,
           48,
           49
          ],
          "colorbar": {
           "title": {
            "text": "Trial"
           },
           "x": 1,
           "xpad": 40
          },
          "colorscale": [
           [
            0,
            "rgb(247,251,255)"
           ],
           [
            0.125,
            "rgb(222,235,247)"
           ],
           [
            0.25,
            "rgb(198,219,239)"
           ],
           [
            0.375,
            "rgb(158,202,225)"
           ],
           [
            0.5,
            "rgb(107,174,214)"
           ],
           [
            0.625,
            "rgb(66,146,198)"
           ],
           [
            0.75,
            "rgb(33,113,181)"
           ],
           [
            0.875,
            "rgb(8,81,156)"
           ],
           [
            1,
            "rgb(8,48,107)"
           ]
          ],
          "line": {
           "color": "Grey",
           "width": 0.5
          },
          "showscale": false
         },
         "mode": "markers",
         "name": "Feasible Trial",
         "showlegend": false,
         "type": "scatter",
         "x": [
          8.675143843171858,
          1.915704647548995,
          3.726982248607548,
          1.7881888245041864,
          4.457509688022053,
          5.248673409660327,
          9.226554926728857,
          3.631857934266534,
          2.0672852471883068,
          1.2471036892987843,
          0.21003240974484227,
          0.25493817364552085,
          6.561543882227312,
          2.207935048321146,
          1.791688896647217,
          2.950302064704135,
          6.2506721803585386,
          1.0688620031868474,
          3.011675182017197,
          5.367586651001604,
          2.8221271868981166,
          1.1212335974008452,
          3.0918824991306773,
          0.9805039540175801,
          1.029742410533474,
          4.198463463186748,
          0.9151209135369558,
          0.1470558137025968,
          2.5353458755910334,
          6.666745878514207,
          1.4294096674841237,
          0.17337396411726713,
          0.7297138952649042,
          1.459217677995671,
          0.523856731463697,
          2.0600317662769956,
          8.151346783894185,
          3.5896720736505423,
          3.4132459513120903,
          4.828410638739404,
          4.264802276607025,
          4.619338009054724,
          4.0265185145084095,
          5.46620673026255,
          4.66244154913578,
          3.577957573791237,
          5.668234196674583,
          4.943670816615743,
          4.955261367011411,
          7.597822372591748
         ],
         "xaxis": "x6",
         "y": [
          0.9250103078931113,
          0.9328437354342375,
          0.9251044266014667,
          0.9251044266014667,
          0.9250103078931113,
          0.8468049415408737,
          0.8979889397608612,
          0.803532884491502,
          0.9222949656747865,
          0.9430615860902998,
          0.9250103078931113,
          0.9235550610749494,
          0.914970294657546,
          0.925198591258138,
          0.915222405814896,
          0.9250103078931113,
          0.907395361996223,
          0.8908471054500506,
          0.9430615860902998,
          0.906278209886072,
          0.9150493647697421,
          0.9251044266014667,
          0.9004000720001285,
          0.9329379481329648,
          0.9327495687437016,
          0.915222405814896,
          0.9153165702757838,
          0.9329379481329648,
          0.9251044266014667,
          0.914954429540161,
          0.9327495687437016,
          0.9153165702757838,
          0.9153165702757838,
          0.9328437354342375,
          0.9391087695630487,
          0.9235550610749494,
          0.8688088993276499,
          0.943155752976619,
          0.925198591258138,
          0.9430615860902998,
          0.9430615860902998,
          0.9430615860902998,
          0.9250103078931113,
          0.9430615860902998,
          0.9251044266014667,
          0.9327495687437016,
          0.8939811495448422,
          0.9486165123981306,
          0.9234608945954541,
          0.888069424624257
         ],
         "yaxis": "y6"
        },
        {
         "marker": {
          "color": [
           0,
           1,
           2,
           3,
           4,
           5,
           6,
           7,
           8,
           9,
           10,
           11,
           12,
           13,
           14,
           15,
           16,
           17,
           18,
           19,
           20,
           21,
           22,
           23,
           24,
           25,
           26,
           27,
           28,
           29,
           30,
           31,
           32,
           33,
           34,
           35,
           36,
           37,
           38,
           39,
           40,
           41,
           42,
           43,
           44,
           45,
           46,
           47,
           48,
           49
          ],
          "colorbar": {
           "title": {
            "text": "Trial"
           },
           "x": 1,
           "xpad": 40
          },
          "colorscale": [
           [
            0,
            "rgb(247,251,255)"
           ],
           [
            0.125,
            "rgb(222,235,247)"
           ],
           [
            0.25,
            "rgb(198,219,239)"
           ],
           [
            0.375,
            "rgb(158,202,225)"
           ],
           [
            0.5,
            "rgb(107,174,214)"
           ],
           [
            0.625,
            "rgb(66,146,198)"
           ],
           [
            0.75,
            "rgb(33,113,181)"
           ],
           [
            0.875,
            "rgb(8,81,156)"
           ],
           [
            1,
            "rgb(8,48,107)"
           ]
          ],
          "line": {
           "color": "Grey",
           "width": 0.5
          },
          "showscale": false
         },
         "mode": "markers",
         "name": "Feasible Trial",
         "showlegend": false,
         "type": "scatter",
         "x": [
          0.6750277604651747,
          1.9000671753502962,
          2.99223202049866,
          6.1146940338242395,
          6.873906962470353,
          3.1859396532851685,
          6.019209790229743,
          8.3045013406041,
          7.7452232160369086,
          3.648810712588299,
          9.60173038485966,
          3.4909083380037913,
          0.8488634693259103,
          4.408626878732123,
          1.9340714199024371,
          2.0128693428974023,
          4.795738837577374,
          1.6040361919816453,
          3.394959212375065,
          4.10822101209132,
          5.352909333291652,
          2.629258480934584,
          3.604677087159918,
          2.432933426459842,
          2.591812062950813,
          0.32645628384210923,
          4.0585780610001825,
          5.212386030593326,
          1.352574624775233,
          2.4515264211617094,
          0.7923261571831706,
          5.393337853578779,
          4.6112408166079994,
          3.7483187190808147,
          6.316764365773222,
          6.20565451558878,
          7.20228509333312,
          2.8254431770418664,
          3.0552918648937335,
          5.874963444311765,
          5.60893412059348,
          5.776576766741928,
          6.9029983580461085,
          3.1841570907125996,
          8.498636368661682,
          4.334759315652603,
          3.681585260316309,
          4.983849338092982,
          4.750954549675857,
          4.945645852929802
         ],
         "xaxis": "x7",
         "y": [
          0.9250103078931113,
          0.9328437354342375,
          0.9251044266014667,
          0.9251044266014667,
          0.9250103078931113,
          0.8468049415408737,
          0.8979889397608612,
          0.803532884491502,
          0.9222949656747865,
          0.9430615860902998,
          0.9250103078931113,
          0.9235550610749494,
          0.914970294657546,
          0.925198591258138,
          0.915222405814896,
          0.9250103078931113,
          0.907395361996223,
          0.8908471054500506,
          0.9430615860902998,
          0.906278209886072,
          0.9150493647697421,
          0.9251044266014667,
          0.9004000720001285,
          0.9329379481329648,
          0.9327495687437016,
          0.915222405814896,
          0.9153165702757838,
          0.9329379481329648,
          0.9251044266014667,
          0.914954429540161,
          0.9327495687437016,
          0.9153165702757838,
          0.9153165702757838,
          0.9328437354342375,
          0.9391087695630487,
          0.9235550610749494,
          0.8688088993276499,
          0.943155752976619,
          0.925198591258138,
          0.9430615860902998,
          0.9430615860902998,
          0.9430615860902998,
          0.9250103078931113,
          0.9430615860902998,
          0.9251044266014667,
          0.9327495687437016,
          0.8939811495448422,
          0.9486165123981306,
          0.9234608945954541,
          0.888069424624257
         ],
         "yaxis": "y7"
        },
        {
         "marker": {
          "color": [
           0,
           1,
           2,
           3,
           4,
           5,
           6,
           7,
           8,
           9,
           10,
           11,
           12,
           13,
           14,
           15,
           16,
           17,
           18,
           19,
           20,
           21,
           22,
           23,
           24,
           25,
           26,
           27,
           28,
           29,
           30,
           31,
           32,
           33,
           34,
           35,
           36,
           37,
           38,
           39,
           40,
           41,
           42,
           43,
           44,
           45,
           46,
           47,
           48,
           49
          ],
          "colorbar": {
           "title": {
            "text": "Trial"
           },
           "x": 1,
           "xpad": 40
          },
          "colorscale": [
           [
            0,
            "rgb(247,251,255)"
           ],
           [
            0.125,
            "rgb(222,235,247)"
           ],
           [
            0.25,
            "rgb(198,219,239)"
           ],
           [
            0.375,
            "rgb(158,202,225)"
           ],
           [
            0.5,
            "rgb(107,174,214)"
           ],
           [
            0.625,
            "rgb(66,146,198)"
           ],
           [
            0.75,
            "rgb(33,113,181)"
           ],
           [
            0.875,
            "rgb(8,81,156)"
           ],
           [
            1,
            "rgb(8,48,107)"
           ]
          ],
          "line": {
           "color": "Grey",
           "width": 0.5
          },
          "showscale": false
         },
         "mode": "markers",
         "name": "Feasible Trial",
         "showlegend": false,
         "type": "scatter",
         "x": [
          0.7993292420985183,
          0.9849549260809971,
          0.645614570099021,
          0.7571172192068059,
          0.9041986740582306,
          0.954660201039391,
          0.8875664116805573,
          0.6626651653816322,
          0.9010984903770198,
          0.8645035840204937,
          0.5089809378074099,
          0.9729048599868566,
          0.8229282203516205,
          0.9980082658737177,
          0.8447964091399753,
          0.6924839515611934,
          0.9314636609266265,
          0.8579514049132655,
          0.7696363894573159,
          0.734673133881798,
          0.6006818104614415,
          0.782303687907612,
          0.7191922923603448,
          0.8805991604929908,
          0.8589969793121721,
          0.7989612996457269,
          0.7604984496062445,
          0.9307741879126271,
          0.8213190480367871,
          0.7973071774804307,
          0.8325322407954311,
          0.9334951689612037,
          0.873148172258375,
          0.9227931522018202,
          0.9645657455199594,
          0.966302227468579,
          0.8895810572189262,
          0.9507730314617947,
          0.9519401875678404,
          0.9918293306503908,
          0.9910527011633248,
          0.978108349152475,
          0.9125610018314334,
          0.99284791196678,
          0.9513281322710282,
          0.9989747445591426,
          0.6429311967311929,
          0.9468333362489876,
          0.9128350977395951,
          0.7699259306689287
         ],
         "xaxis": "x8",
         "y": [
          0.9250103078931113,
          0.9328437354342375,
          0.9251044266014667,
          0.9251044266014667,
          0.9250103078931113,
          0.8468049415408737,
          0.8979889397608612,
          0.803532884491502,
          0.9222949656747865,
          0.9430615860902998,
          0.9250103078931113,
          0.9235550610749494,
          0.914970294657546,
          0.925198591258138,
          0.915222405814896,
          0.9250103078931113,
          0.907395361996223,
          0.8908471054500506,
          0.9430615860902998,
          0.906278209886072,
          0.9150493647697421,
          0.9251044266014667,
          0.9004000720001285,
          0.9329379481329648,
          0.9327495687437016,
          0.915222405814896,
          0.9153165702757838,
          0.9329379481329648,
          0.9251044266014667,
          0.914954429540161,
          0.9327495687437016,
          0.9153165702757838,
          0.9153165702757838,
          0.9328437354342375,
          0.9391087695630487,
          0.9235550610749494,
          0.8688088993276499,
          0.943155752976619,
          0.925198591258138,
          0.9430615860902998,
          0.9430615860902998,
          0.9430615860902998,
          0.9250103078931113,
          0.9430615860902998,
          0.9251044266014667,
          0.9327495687437016,
          0.8939811495448422,
          0.9486165123981306,
          0.9234608945954541,
          0.888069424624257
         ],
         "yaxis": "y8"
        }
       ],
       "layout": {
        "template": {
         "data": {
          "bar": [
           {
            "error_x": {
             "color": "#2a3f5f"
            },
            "error_y": {
             "color": "#2a3f5f"
            },
            "marker": {
             "line": {
              "color": "#E5ECF6",
              "width": 0.5
             },
             "pattern": {
              "fillmode": "overlay",
              "size": 10,
              "solidity": 0.2
             }
            },
            "type": "bar"
           }
          ],
          "barpolar": [
           {
            "marker": {
             "line": {
              "color": "#E5ECF6",
              "width": 0.5
             },
             "pattern": {
              "fillmode": "overlay",
              "size": 10,
              "solidity": 0.2
             }
            },
            "type": "barpolar"
           }
          ],
          "carpet": [
           {
            "aaxis": {
             "endlinecolor": "#2a3f5f",
             "gridcolor": "white",
             "linecolor": "white",
             "minorgridcolor": "white",
             "startlinecolor": "#2a3f5f"
            },
            "baxis": {
             "endlinecolor": "#2a3f5f",
             "gridcolor": "white",
             "linecolor": "white",
             "minorgridcolor": "white",
             "startlinecolor": "#2a3f5f"
            },
            "type": "carpet"
           }
          ],
          "choropleth": [
           {
            "colorbar": {
             "outlinewidth": 0,
             "ticks": ""
            },
            "type": "choropleth"
           }
          ],
          "contour": [
           {
            "colorbar": {
             "outlinewidth": 0,
             "ticks": ""
            },
            "colorscale": [
             [
              0,
              "#0d0887"
             ],
             [
              0.1111111111111111,
              "#46039f"
             ],
             [
              0.2222222222222222,
              "#7201a8"
             ],
             [
              0.3333333333333333,
              "#9c179e"
             ],
             [
              0.4444444444444444,
              "#bd3786"
             ],
             [
              0.5555555555555556,
              "#d8576b"
             ],
             [
              0.6666666666666666,
              "#ed7953"
             ],
             [
              0.7777777777777778,
              "#fb9f3a"
             ],
             [
              0.8888888888888888,
              "#fdca26"
             ],
             [
              1,
              "#f0f921"
             ]
            ],
            "type": "contour"
           }
          ],
          "contourcarpet": [
           {
            "colorbar": {
             "outlinewidth": 0,
             "ticks": ""
            },
            "type": "contourcarpet"
           }
          ],
          "heatmap": [
           {
            "colorbar": {
             "outlinewidth": 0,
             "ticks": ""
            },
            "colorscale": [
             [
              0,
              "#0d0887"
             ],
             [
              0.1111111111111111,
              "#46039f"
             ],
             [
              0.2222222222222222,
              "#7201a8"
             ],
             [
              0.3333333333333333,
              "#9c179e"
             ],
             [
              0.4444444444444444,
              "#bd3786"
             ],
             [
              0.5555555555555556,
              "#d8576b"
             ],
             [
              0.6666666666666666,
              "#ed7953"
             ],
             [
              0.7777777777777778,
              "#fb9f3a"
             ],
             [
              0.8888888888888888,
              "#fdca26"
             ],
             [
              1,
              "#f0f921"
             ]
            ],
            "type": "heatmap"
           }
          ],
          "histogram": [
           {
            "marker": {
             "pattern": {
              "fillmode": "overlay",
              "size": 10,
              "solidity": 0.2
             }
            },
            "type": "histogram"
           }
          ],
          "histogram2d": [
           {
            "colorbar": {
             "outlinewidth": 0,
             "ticks": ""
            },
            "colorscale": [
             [
              0,
              "#0d0887"
             ],
             [
              0.1111111111111111,
              "#46039f"
             ],
             [
              0.2222222222222222,
              "#7201a8"
             ],
             [
              0.3333333333333333,
              "#9c179e"
             ],
             [
              0.4444444444444444,
              "#bd3786"
             ],
             [
              0.5555555555555556,
              "#d8576b"
             ],
             [
              0.6666666666666666,
              "#ed7953"
             ],
             [
              0.7777777777777778,
              "#fb9f3a"
             ],
             [
              0.8888888888888888,
              "#fdca26"
             ],
             [
              1,
              "#f0f921"
             ]
            ],
            "type": "histogram2d"
           }
          ],
          "histogram2dcontour": [
           {
            "colorbar": {
             "outlinewidth": 0,
             "ticks": ""
            },
            "colorscale": [
             [
              0,
              "#0d0887"
             ],
             [
              0.1111111111111111,
              "#46039f"
             ],
             [
              0.2222222222222222,
              "#7201a8"
             ],
             [
              0.3333333333333333,
              "#9c179e"
             ],
             [
              0.4444444444444444,
              "#bd3786"
             ],
             [
              0.5555555555555556,
              "#d8576b"
             ],
             [
              0.6666666666666666,
              "#ed7953"
             ],
             [
              0.7777777777777778,
              "#fb9f3a"
             ],
             [
              0.8888888888888888,
              "#fdca26"
             ],
             [
              1,
              "#f0f921"
             ]
            ],
            "type": "histogram2dcontour"
           }
          ],
          "mesh3d": [
           {
            "colorbar": {
             "outlinewidth": 0,
             "ticks": ""
            },
            "type": "mesh3d"
           }
          ],
          "parcoords": [
           {
            "line": {
             "colorbar": {
              "outlinewidth": 0,
              "ticks": ""
             }
            },
            "type": "parcoords"
           }
          ],
          "pie": [
           {
            "automargin": true,
            "type": "pie"
           }
          ],
          "scatter": [
           {
            "fillpattern": {
             "fillmode": "overlay",
             "size": 10,
             "solidity": 0.2
            },
            "type": "scatter"
           }
          ],
          "scatter3d": [
           {
            "line": {
             "colorbar": {
              "outlinewidth": 0,
              "ticks": ""
             }
            },
            "marker": {
             "colorbar": {
              "outlinewidth": 0,
              "ticks": ""
             }
            },
            "type": "scatter3d"
           }
          ],
          "scattercarpet": [
           {
            "marker": {
             "colorbar": {
              "outlinewidth": 0,
              "ticks": ""
             }
            },
            "type": "scattercarpet"
           }
          ],
          "scattergeo": [
           {
            "marker": {
             "colorbar": {
              "outlinewidth": 0,
              "ticks": ""
             }
            },
            "type": "scattergeo"
           }
          ],
          "scattergl": [
           {
            "marker": {
             "colorbar": {
              "outlinewidth": 0,
              "ticks": ""
             }
            },
            "type": "scattergl"
           }
          ],
          "scattermap": [
           {
            "marker": {
             "colorbar": {
              "outlinewidth": 0,
              "ticks": ""
             }
            },
            "type": "scattermap"
           }
          ],
          "scattermapbox": [
           {
            "marker": {
             "colorbar": {
              "outlinewidth": 0,
              "ticks": ""
             }
            },
            "type": "scattermapbox"
           }
          ],
          "scatterpolar": [
           {
            "marker": {
             "colorbar": {
              "outlinewidth": 0,
              "ticks": ""
             }
            },
            "type": "scatterpolar"
           }
          ],
          "scatterpolargl": [
           {
            "marker": {
             "colorbar": {
              "outlinewidth": 0,
              "ticks": ""
             }
            },
            "type": "scatterpolargl"
           }
          ],
          "scatterternary": [
           {
            "marker": {
             "colorbar": {
              "outlinewidth": 0,
              "ticks": ""
             }
            },
            "type": "scatterternary"
           }
          ],
          "surface": [
           {
            "colorbar": {
             "outlinewidth": 0,
             "ticks": ""
            },
            "colorscale": [
             [
              0,
              "#0d0887"
             ],
             [
              0.1111111111111111,
              "#46039f"
             ],
             [
              0.2222222222222222,
              "#7201a8"
             ],
             [
              0.3333333333333333,
              "#9c179e"
             ],
             [
              0.4444444444444444,
              "#bd3786"
             ],
             [
              0.5555555555555556,
              "#d8576b"
             ],
             [
              0.6666666666666666,
              "#ed7953"
             ],
             [
              0.7777777777777778,
              "#fb9f3a"
             ],
             [
              0.8888888888888888,
              "#fdca26"
             ],
             [
              1,
              "#f0f921"
             ]
            ],
            "type": "surface"
           }
          ],
          "table": [
           {
            "cells": {
             "fill": {
              "color": "#EBF0F8"
             },
             "line": {
              "color": "white"
             }
            },
            "header": {
             "fill": {
              "color": "#C8D4E3"
             },
             "line": {
              "color": "white"
             }
            },
            "type": "table"
           }
          ]
         },
         "layout": {
          "annotationdefaults": {
           "arrowcolor": "#2a3f5f",
           "arrowhead": 0,
           "arrowwidth": 1
          },
          "autotypenumbers": "strict",
          "coloraxis": {
           "colorbar": {
            "outlinewidth": 0,
            "ticks": ""
           }
          },
          "colorscale": {
           "diverging": [
            [
             0,
             "#8e0152"
            ],
            [
             0.1,
             "#c51b7d"
            ],
            [
             0.2,
             "#de77ae"
            ],
            [
             0.3,
             "#f1b6da"
            ],
            [
             0.4,
             "#fde0ef"
            ],
            [
             0.5,
             "#f7f7f7"
            ],
            [
             0.6,
             "#e6f5d0"
            ],
            [
             0.7,
             "#b8e186"
            ],
            [
             0.8,
             "#7fbc41"
            ],
            [
             0.9,
             "#4d9221"
            ],
            [
             1,
             "#276419"
            ]
           ],
           "sequential": [
            [
             0,
             "#0d0887"
            ],
            [
             0.1111111111111111,
             "#46039f"
            ],
            [
             0.2222222222222222,
             "#7201a8"
            ],
            [
             0.3333333333333333,
             "#9c179e"
            ],
            [
             0.4444444444444444,
             "#bd3786"
            ],
            [
             0.5555555555555556,
             "#d8576b"
            ],
            [
             0.6666666666666666,
             "#ed7953"
            ],
            [
             0.7777777777777778,
             "#fb9f3a"
            ],
            [
             0.8888888888888888,
             "#fdca26"
            ],
            [
             1,
             "#f0f921"
            ]
           ],
           "sequentialminus": [
            [
             0,
             "#0d0887"
            ],
            [
             0.1111111111111111,
             "#46039f"
            ],
            [
             0.2222222222222222,
             "#7201a8"
            ],
            [
             0.3333333333333333,
             "#9c179e"
            ],
            [
             0.4444444444444444,
             "#bd3786"
            ],
            [
             0.5555555555555556,
             "#d8576b"
            ],
            [
             0.6666666666666666,
             "#ed7953"
            ],
            [
             0.7777777777777778,
             "#fb9f3a"
            ],
            [
             0.8888888888888888,
             "#fdca26"
            ],
            [
             1,
             "#f0f921"
            ]
           ]
          },
          "colorway": [
           "#636efa",
           "#EF553B",
           "#00cc96",
           "#ab63fa",
           "#FFA15A",
           "#19d3f3",
           "#FF6692",
           "#B6E880",
           "#FF97FF",
           "#FECB52"
          ],
          "font": {
           "color": "#2a3f5f"
          },
          "geo": {
           "bgcolor": "white",
           "lakecolor": "white",
           "landcolor": "#E5ECF6",
           "showlakes": true,
           "showland": true,
           "subunitcolor": "white"
          },
          "hoverlabel": {
           "align": "left"
          },
          "hovermode": "closest",
          "mapbox": {
           "style": "light"
          },
          "paper_bgcolor": "white",
          "plot_bgcolor": "#E5ECF6",
          "polar": {
           "angularaxis": {
            "gridcolor": "white",
            "linecolor": "white",
            "ticks": ""
           },
           "bgcolor": "#E5ECF6",
           "radialaxis": {
            "gridcolor": "white",
            "linecolor": "white",
            "ticks": ""
           }
          },
          "scene": {
           "xaxis": {
            "backgroundcolor": "#E5ECF6",
            "gridcolor": "white",
            "gridwidth": 2,
            "linecolor": "white",
            "showbackground": true,
            "ticks": "",
            "zerolinecolor": "white"
           },
           "yaxis": {
            "backgroundcolor": "#E5ECF6",
            "gridcolor": "white",
            "gridwidth": 2,
            "linecolor": "white",
            "showbackground": true,
            "ticks": "",
            "zerolinecolor": "white"
           },
           "zaxis": {
            "backgroundcolor": "#E5ECF6",
            "gridcolor": "white",
            "gridwidth": 2,
            "linecolor": "white",
            "showbackground": true,
            "ticks": "",
            "zerolinecolor": "white"
           }
          },
          "shapedefaults": {
           "line": {
            "color": "#2a3f5f"
           }
          },
          "ternary": {
           "aaxis": {
            "gridcolor": "white",
            "linecolor": "white",
            "ticks": ""
           },
           "baxis": {
            "gridcolor": "white",
            "linecolor": "white",
            "ticks": ""
           },
           "bgcolor": "#E5ECF6",
           "caxis": {
            "gridcolor": "white",
            "linecolor": "white",
            "ticks": ""
           }
          },
          "title": {
           "x": 0.05
          },
          "xaxis": {
           "automargin": true,
           "gridcolor": "white",
           "linecolor": "white",
           "ticks": "",
           "title": {
            "standoff": 15
           },
           "zerolinecolor": "white",
           "zerolinewidth": 2
          },
          "yaxis": {
           "automargin": true,
           "gridcolor": "white",
           "linecolor": "white",
           "ticks": "",
           "title": {
            "standoff": 15
           },
           "zerolinecolor": "white",
           "zerolinewidth": 2
          }
         }
        },
        "title": {
         "text": "Slice Plot of Hyperparameters"
        },
        "width": 2400,
        "xaxis": {
         "anchor": "y",
         "domain": [
          0,
          0.103125
         ],
         "title": {
          "text": "colsample_bytree"
         }
        },
        "xaxis2": {
         "anchor": "y2",
         "domain": [
          0.128125,
          0.23124999999999998
         ],
         "title": {
          "text": "gamma"
         }
        },
        "xaxis3": {
         "anchor": "y3",
         "domain": [
          0.25625,
          0.359375
         ],
         "title": {
          "text": "learning_rate"
         }
        },
        "xaxis4": {
         "anchor": "y4",
         "domain": [
          0.38437499999999997,
          0.48749999999999993
         ],
         "title": {
          "text": "max_depth"
         }
        },
        "xaxis5": {
         "anchor": "y5",
         "domain": [
          0.5125,
          0.615625
         ],
         "title": {
          "text": "n_estimators"
         }
        },
        "xaxis6": {
         "anchor": "y6",
         "domain": [
          0.640625,
          0.74375
         ],
         "title": {
          "text": "reg_alpha"
         }
        },
        "xaxis7": {
         "anchor": "y7",
         "domain": [
          0.76875,
          0.8718750000000001
         ],
         "title": {
          "text": "reg_lambda"
         }
        },
        "xaxis8": {
         "anchor": "y8",
         "domain": [
          0.8968750000000001,
          1
         ],
         "title": {
          "text": "subsample"
         }
        },
        "yaxis": {
         "anchor": "x",
         "domain": [
          0,
          1
         ],
         "title": {
          "text": "Objective Value"
         }
        },
        "yaxis2": {
         "anchor": "x2",
         "domain": [
          0,
          1
         ],
         "matches": "y",
         "showticklabels": false
        },
        "yaxis3": {
         "anchor": "x3",
         "domain": [
          0,
          1
         ],
         "matches": "y",
         "showticklabels": false
        },
        "yaxis4": {
         "anchor": "x4",
         "domain": [
          0,
          1
         ],
         "matches": "y",
         "showticklabels": false
        },
        "yaxis5": {
         "anchor": "x5",
         "domain": [
          0,
          1
         ],
         "matches": "y",
         "showticklabels": false
        },
        "yaxis6": {
         "anchor": "x6",
         "domain": [
          0,
          1
         ],
         "matches": "y",
         "showticklabels": false
        },
        "yaxis7": {
         "anchor": "x7",
         "domain": [
          0,
          1
         ],
         "matches": "y",
         "showticklabels": false
        },
        "yaxis8": {
         "anchor": "x8",
         "domain": [
          0,
          1
         ],
         "matches": "y",
         "showticklabels": false
        }
       }
      }
     },
     "metadata": {},
     "output_type": "display_data"
    }
   ],
   "source": [
    "# --- Optimization Results ---\n",
    "try:\n",
    "    fig_history = optuna.visualization.plot_optimization_history(study)\n",
    "    fig_history.update_layout(title=\"Optuna Optimization History (F1-Score)\")\n",
    "    fig_history.show()\n",
    "\n",
    "    fig_importance = optuna.visualization.plot_param_importances(study)\n",
    "    fig_importance.update_layout(title=\"Hyperparameter Importances\")\n",
    "    fig_importance.show()\n",
    "\n",
    "    fig_slice = optuna.visualization.plot_slice(study)\n",
    "    fig_slice.update_layout(title=\"Slice Plot of Hyperparameters\")\n",
    "    fig_slice.show()\n",
    "except Exception as e:\n",
    "    print(f\"\\nCould not generate Optuna visualizations. Error: {e}\")\n",
    "    print(\"This might happen if Plotly is not installed or if running in an environment without a browser/display for interactive plots.\")\n",
    "    print(\"You can install plotly using: pip install plotly\")\n",
    "\n"
   ]
  },
  {
   "cell_type": "code",
   "execution_count": 15,
   "id": "b0e98aea",
   "metadata": {},
   "outputs": [
    {
     "data": {
      "text/plain": [
       "dict_items([('learning_rate', 0.08901379915169082), ('max_depth', 7), ('n_estimators', 449), ('subsample', 0.9468333362489876), ('colsample_bytree', 0.9031483836902796), ('gamma', 1.5485601338104753), ('reg_lambda', 4.983849338092982), ('reg_alpha', 4.943670816615743)])"
      ]
     },
     "execution_count": 15,
     "metadata": {},
     "output_type": "execute_result"
    }
   ],
   "source": [
    "study.best_trial.params.items()"
   ]
  },
  {
   "cell_type": "markdown",
   "id": "f3268964",
   "metadata": {},
   "source": [
    "## final Model"
   ]
  },
  {
   "cell_type": "code",
   "execution_count": 18,
   "id": "2b5284bd",
   "metadata": {},
   "outputs": [
    {
     "name": "stdout",
     "output_type": "stream",
     "text": [
      "\n",
      "Best Hyperparameters:\n",
      "  learning_rate: 0.08901379915169082\n",
      "  max_depth: 7\n",
      "  n_estimators: 449\n",
      "  subsample: 0.9468333362489876\n",
      "  colsample_bytree: 0.9031483836902796\n",
      "  gamma: 1.5485601338104753\n",
      "  reg_lambda: 4.983849338092982\n",
      "  reg_alpha: 4.943670816615743\n"
     ]
    }
   ],
   "source": [
    "best_params = study.best_trial.params\n",
    "print(\"\\nBest Hyperparameters:\")\n",
    "for key, value in best_params.items():\n",
    "    print(f\"  {key}: {value}\")  \n"
   ]
  },
  {
   "cell_type": "code",
   "execution_count": 19,
   "id": "34fd5f95",
   "metadata": {},
   "outputs": [
    {
     "name": "stdout",
     "output_type": "stream",
     "text": [
      "\n",
      "Reading final data for model training...\n",
      "Shape of X: (57170, 11), Shape of y: (57170,)\n"
     ]
    }
   ],
   "source": [
    "# read the final data\n",
    "print(\"\\nReading final data for model training...\")\n",
    "df = pd.read_csv('./data/final_data.csv')\n",
    "\n",
    "# renaming the target column to 'target' for consistency\n",
    "df.rename(columns={'action': 'target'}, inplace=True)\n",
    "\n",
    "# Encode the target variable\n",
    "df['target'] = df['target'].astype('category').cat.codes\n",
    "\n",
    "# separating data in to features and target variable\n",
    "X = df.drop(columns=['target'])\n",
    "y = df['target']\n",
    "\n",
    "print(f\"Shape of X: {X.shape}, Shape of y: {y.shape}\")"
   ]
  },
  {
   "cell_type": "code",
   "execution_count": 20,
   "id": "593af2b0",
   "metadata": {},
   "outputs": [
    {
     "name": "stdout",
     "output_type": "stream",
     "text": [
      "Shape of X_train: (45736, 11), Shape of y_train: (45736,)\n",
      "Shape of X_test: (11434, 11), Shape of y_test: (11434,)\n"
     ]
    }
   ],
   "source": [
    "# Initial split: 80% train_val, 20% test\n",
    "X_train, X_test, y_train, y_test = train_test_split(\n",
    "    X, y,\n",
    "    test_size=0.2,\n",
    "    stratify=y,\n",
    "    random_state=41\n",
    ")\n",
    "\n",
    "print(f\"Shape of X_train: {X_train.shape}, Shape of y_train: {y_train.shape}\")\n",
    "print(f\"Shape of X_test: {X_test.shape}, Shape of y_test: {y_test.shape}\")\n"
   ]
  },
  {
   "cell_type": "code",
   "execution_count": 22,
   "id": "c735f69e",
   "metadata": {},
   "outputs": [
    {
     "data": {
      "text/html": [
       "<style>#sk-container-id-1 {color: black;}#sk-container-id-1 pre{padding: 0;}#sk-container-id-1 div.sk-toggleable {background-color: white;}#sk-container-id-1 label.sk-toggleable__label {cursor: pointer;display: block;width: 100%;margin-bottom: 0;padding: 0.3em;box-sizing: border-box;text-align: center;}#sk-container-id-1 label.sk-toggleable__label-arrow:before {content: \"▸\";float: left;margin-right: 0.25em;color: #696969;}#sk-container-id-1 label.sk-toggleable__label-arrow:hover:before {color: black;}#sk-container-id-1 div.sk-estimator:hover label.sk-toggleable__label-arrow:before {color: black;}#sk-container-id-1 div.sk-toggleable__content {max-height: 0;max-width: 0;overflow: hidden;text-align: left;background-color: #f0f8ff;}#sk-container-id-1 div.sk-toggleable__content pre {margin: 0.2em;color: black;border-radius: 0.25em;background-color: #f0f8ff;}#sk-container-id-1 input.sk-toggleable__control:checked~div.sk-toggleable__content {max-height: 200px;max-width: 100%;overflow: auto;}#sk-container-id-1 input.sk-toggleable__control:checked~label.sk-toggleable__label-arrow:before {content: \"▾\";}#sk-container-id-1 div.sk-estimator input.sk-toggleable__control:checked~label.sk-toggleable__label {background-color: #d4ebff;}#sk-container-id-1 div.sk-label input.sk-toggleable__control:checked~label.sk-toggleable__label {background-color: #d4ebff;}#sk-container-id-1 input.sk-hidden--visually {border: 0;clip: rect(1px 1px 1px 1px);clip: rect(1px, 1px, 1px, 1px);height: 1px;margin: -1px;overflow: hidden;padding: 0;position: absolute;width: 1px;}#sk-container-id-1 div.sk-estimator {font-family: monospace;background-color: #f0f8ff;border: 1px dotted black;border-radius: 0.25em;box-sizing: border-box;margin-bottom: 0.5em;}#sk-container-id-1 div.sk-estimator:hover {background-color: #d4ebff;}#sk-container-id-1 div.sk-parallel-item::after {content: \"\";width: 100%;border-bottom: 1px solid gray;flex-grow: 1;}#sk-container-id-1 div.sk-label:hover label.sk-toggleable__label {background-color: #d4ebff;}#sk-container-id-1 div.sk-serial::before {content: \"\";position: absolute;border-left: 1px solid gray;box-sizing: border-box;top: 0;bottom: 0;left: 50%;z-index: 0;}#sk-container-id-1 div.sk-serial {display: flex;flex-direction: column;align-items: center;background-color: white;padding-right: 0.2em;padding-left: 0.2em;position: relative;}#sk-container-id-1 div.sk-item {position: relative;z-index: 1;}#sk-container-id-1 div.sk-parallel {display: flex;align-items: stretch;justify-content: center;background-color: white;position: relative;}#sk-container-id-1 div.sk-item::before, #sk-container-id-1 div.sk-parallel-item::before {content: \"\";position: absolute;border-left: 1px solid gray;box-sizing: border-box;top: 0;bottom: 0;left: 50%;z-index: -1;}#sk-container-id-1 div.sk-parallel-item {display: flex;flex-direction: column;z-index: 1;position: relative;background-color: white;}#sk-container-id-1 div.sk-parallel-item:first-child::after {align-self: flex-end;width: 50%;}#sk-container-id-1 div.sk-parallel-item:last-child::after {align-self: flex-start;width: 50%;}#sk-container-id-1 div.sk-parallel-item:only-child::after {width: 0;}#sk-container-id-1 div.sk-dashed-wrapped {border: 1px dashed gray;margin: 0 0.4em 0.5em 0.4em;box-sizing: border-box;padding-bottom: 0.4em;background-color: white;}#sk-container-id-1 div.sk-label label {font-family: monospace;font-weight: bold;display: inline-block;line-height: 1.2em;}#sk-container-id-1 div.sk-label-container {text-align: center;}#sk-container-id-1 div.sk-container {/* jupyter's `normalize.less` sets `[hidden] { display: none; }` but bootstrap.min.css set `[hidden] { display: none !important; }` so we also need the `!important` here to be able to override the default hidden behavior on the sphinx rendered scikit-learn.org. See: https://github.com/scikit-learn/scikit-learn/issues/21755 */display: inline-block !important;position: relative;}#sk-container-id-1 div.sk-text-repr-fallback {display: none;}</style><div id=\"sk-container-id-1\" class=\"sk-top-container\"><div class=\"sk-text-repr-fallback\"><pre>XGBClassifier(base_score=None, booster=None, callbacks=None,\n",
       "              colsample_bylevel=None, colsample_bynode=None,\n",
       "              colsample_bytree=0.9031483836902796, device=None,\n",
       "              early_stopping_rounds=None, enable_categorical=False,\n",
       "              eval_metric=None, feature_types=None, feature_weights=None,\n",
       "              gamma=1.5485601338104753, grow_policy=None, importance_type=None,\n",
       "              interaction_constraints=None, learning_rate=0.08901379915169082,\n",
       "              max_bin=None, max_cat_threshold=None, max_cat_to_onehot=None,\n",
       "              max_delta_step=None, max_depth=7, max_leaves=None,\n",
       "              min_child_weight=None, missing=nan, monotone_constraints=None,\n",
       "              multi_strategy=None, n_estimators=449, n_jobs=None,\n",
       "              num_parallel_tree=None, ...)</pre><b>In a Jupyter environment, please rerun this cell to show the HTML representation or trust the notebook. <br />On GitHub, the HTML representation is unable to render, please try loading this page with nbviewer.org.</b></div><div class=\"sk-container\" hidden><div class=\"sk-item\"><div class=\"sk-estimator sk-toggleable\"><input class=\"sk-toggleable__control sk-hidden--visually\" id=\"sk-estimator-id-1\" type=\"checkbox\" checked><label for=\"sk-estimator-id-1\" class=\"sk-toggleable__label sk-toggleable__label-arrow\">XGBClassifier</label><div class=\"sk-toggleable__content\"><pre>XGBClassifier(base_score=None, booster=None, callbacks=None,\n",
       "              colsample_bylevel=None, colsample_bynode=None,\n",
       "              colsample_bytree=0.9031483836902796, device=None,\n",
       "              early_stopping_rounds=None, enable_categorical=False,\n",
       "              eval_metric=None, feature_types=None, feature_weights=None,\n",
       "              gamma=1.5485601338104753, grow_policy=None, importance_type=None,\n",
       "              interaction_constraints=None, learning_rate=0.08901379915169082,\n",
       "              max_bin=None, max_cat_threshold=None, max_cat_to_onehot=None,\n",
       "              max_delta_step=None, max_depth=7, max_leaves=None,\n",
       "              min_child_weight=None, missing=nan, monotone_constraints=None,\n",
       "              multi_strategy=None, n_estimators=449, n_jobs=None,\n",
       "              num_parallel_tree=None, ...)</pre></div></div></div></div></div>"
      ],
      "text/plain": [
       "XGBClassifier(base_score=None, booster=None, callbacks=None,\n",
       "              colsample_bylevel=None, colsample_bynode=None,\n",
       "              colsample_bytree=0.9031483836902796, device=None,\n",
       "              early_stopping_rounds=None, enable_categorical=False,\n",
       "              eval_metric=None, feature_types=None, feature_weights=None,\n",
       "              gamma=1.5485601338104753, grow_policy=None, importance_type=None,\n",
       "              interaction_constraints=None, learning_rate=0.08901379915169082,\n",
       "              max_bin=None, max_cat_threshold=None, max_cat_to_onehot=None,\n",
       "              max_delta_step=None, max_depth=7, max_leaves=None,\n",
       "              min_child_weight=None, missing=nan, monotone_constraints=None,\n",
       "              multi_strategy=None, n_estimators=449, n_jobs=None,\n",
       "              num_parallel_tree=None, ...)"
      ]
     },
     "execution_count": 22,
     "metadata": {},
     "output_type": "execute_result"
    }
   ],
   "source": [
    "# Model definition\n",
    "final_model = xgb.XGBClassifier(**best_params)\n",
    "\n",
    "# Compute sample weights dynamically for each trial\n",
    "sample_weights = compute_sample_weight(class_weight=\"balanced\", y=y_train)\n",
    "\n",
    "final_model.fit(X_train, y_train,\n",
    "            sample_weight=sample_weights,\n",
    "            verbose=True\n",
    "            )\n"
   ]
  },
  {
   "cell_type": "code",
   "execution_count": 23,
   "id": "97c2d34d",
   "metadata": {},
   "outputs": [],
   "source": [
    "# predict\n",
    "y_pred = final_model.predict(X_test)"
   ]
  },
  {
   "cell_type": "code",
   "execution_count": 42,
   "id": "63fd2aff",
   "metadata": {},
   "outputs": [],
   "source": [
    "def classification_report_and_confusion_matrix(y_true, y_pred, labels):\n",
    "    # 📝 Classification report\n",
    "    report_text = classification_report(y_true, y_pred, target_names=labels)\n",
    "    ## save report to a text file\n",
    "    with open(\"./data/classification_report.txt\", \"w\") as f:\n",
    "        f.write(report_text)\n",
    "        \n",
    "    # 🔄 Confusion matrix\n",
    "    cm = confusion_matrix(y_true, y_pred)\n",
    "    plt.figure(figsize=(8, 6))\n",
    "    sns.heatmap(cm, annot=True, fmt=\"d\", cmap=\"Blues\", xticklabels=labels, yticklabels=labels)\n",
    "    plt.title(\"Confusion Matrix\")\n",
    "    plt.xlabel(\"Predicted\")\n",
    "    plt.ylabel(\"Actual\")\n",
    "    plt.tight_layout()\n",
    "    plt.savefig(\"./data/confusion_matrix.png\")\n",
    "    plt.close()\n",
    "    # mlflow.log_artifact(\"./data/confusion_matrix.png\")\n",
    "\n",
    "    # 🎯 F1 Score per class\n",
    "    f1_per_class = f1_score(y_true, y_pred, average='macro')\n",
    "    plt.figure(figsize=(8, 5))\n",
    "    # sns.barplot(x=labels, y=f1_per_class, palette=\"rocket\")\n",
    "    sns.barplot(x=labels, y=f1_per_class, hue=labels, palette=\"rocket\", legend=False)\n",
    "    plt.title(\"F1 Score per Class\")\n",
    "    plt.ylim(0, 1)\n",
    "    plt.tight_layout()\n",
    "    plt.savefig(\"./data/f1_per_class.png\")\n",
    "    plt.close()\n",
    "    # mlflow.log_artifact(\"./data/f1_per_class.png\")\n",
    "\n",
    "    return f1_per_class\n",
    "\n"
   ]
  },
  {
   "cell_type": "code",
   "execution_count": 43,
   "id": "04c40dbf",
   "metadata": {},
   "outputs": [],
   "source": [
    "labels = df['target'].astype('category').cat.categories.tolist()\n",
    "labels = [str(label) for label in labels]  # Convert to string for better readability"
   ]
  },
  {
   "cell_type": "code",
   "execution_count": 44,
   "id": "143529c8",
   "metadata": {},
   "outputs": [
    {
     "data": {
      "text/plain": [
       "0.8731127837523902"
      ]
     },
     "execution_count": 44,
     "metadata": {},
     "output_type": "execute_result"
    }
   ],
   "source": [
    "classification_report_and_confusion_matrix(y_test, y_pred, labels=labels)"
   ]
  },
  {
   "cell_type": "code",
   "execution_count": 45,
   "id": "a1d21553",
   "metadata": {},
   "outputs": [
    {
     "data": {
      "text/plain": [
       "['./data/final_model.pkl']"
      ]
     },
     "execution_count": 45,
     "metadata": {},
     "output_type": "execute_result"
    }
   ],
   "source": [
    "## saving the model\n",
    "joblib.dump(final_model, './data/final_model.pkl')\n"
   ]
  },
  {
   "cell_type": "code",
   "execution_count": 46,
   "id": "d42e6deb",
   "metadata": {},
   "outputs": [
    {
     "data": {
      "text/plain": [
       "Index(['high_activity', 'packets_ratio', 'source_port', 'low_activity',\n",
       "       'bytes_ratio', 'destination_port', 'nat_destination_port',\n",
       "       'elapsed_time_(sec)', 'nat_source_port', 'burst_transfer',\n",
       "       'bytes_per_sec', 'target'],\n",
       "      dtype='object')"
      ]
     },
     "execution_count": 46,
     "metadata": {},
     "output_type": "execute_result"
    }
   ],
   "source": [
    "df.columns"
   ]
  },
  {
   "cell_type": "code",
   "execution_count": 48,
   "id": "10e896f3",
   "metadata": {},
   "outputs": [
    {
     "data": {
      "text/plain": [
       "['high_activity',\n",
       " 'packets_ratio',\n",
       " 'source_port',\n",
       " 'low_activity',\n",
       " 'bytes_ratio',\n",
       " 'destination_port',\n",
       " 'nat_destination_port',\n",
       " 'elapsed_time_(sec)',\n",
       " 'nat_source_port',\n",
       " 'burst_transfer',\n",
       " 'bytes_per_sec']"
      ]
     },
     "execution_count": 48,
     "metadata": {},
     "output_type": "execute_result"
    }
   ],
   "source": [
    "final_model.get_booster().feature_names\n"
   ]
  },
  {
   "cell_type": "code",
   "execution_count": null,
   "id": "fe6a2200",
   "metadata": {},
   "outputs": [],
   "source": []
  }
 ],
 "metadata": {
  "kernelspec": {
   "display_name": "interview-assignment",
   "language": "python",
   "name": "python3"
  },
  "language_info": {
   "codemirror_mode": {
    "name": "ipython",
    "version": 3
   },
   "file_extension": ".py",
   "mimetype": "text/x-python",
   "name": "python",
   "nbconvert_exporter": "python",
   "pygments_lexer": "ipython3",
   "version": "3.11.5"
  }
 },
 "nbformat": 4,
 "nbformat_minor": 5
}
